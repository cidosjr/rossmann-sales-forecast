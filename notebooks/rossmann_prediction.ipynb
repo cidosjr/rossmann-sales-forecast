{
 "cells": [
  {
   "cell_type": "markdown",
   "id": "direct-olive",
   "metadata": {},
   "source": [
    "# 0.0. Imports"
   ]
  },
  {
   "cell_type": "code",
   "execution_count": 49,
   "id": "electrical-spirituality",
   "metadata": {
    "ExecuteTime": {
     "end_time": "2021-04-06T18:25:46.254520Z",
     "start_time": "2021-04-06T18:25:46.248747Z"
    }
   },
   "outputs": [],
   "source": [
    "import pandas as pd\n",
    "import numpy as np\n",
    "import math\n",
    "import matplotlib.pyplot as plt\n",
    "import seaborn as sns\n",
    "\n",
    "from IPython.display import HTML"
   ]
  },
  {
   "cell_type": "markdown",
   "id": "chief-genre",
   "metadata": {},
   "source": [
    "## 0.1. Loading Data"
   ]
  },
  {
   "cell_type": "code",
   "execution_count": 2,
   "id": "removable-continent",
   "metadata": {
    "ExecuteTime": {
     "end_time": "2021-04-06T17:36:55.120533Z",
     "start_time": "2021-04-06T17:36:53.246944Z"
    }
   },
   "outputs": [],
   "source": [
    "df_store_raw = pd.read_csv('../data/store.csv')\n",
    "df_sales_raw = pd.read_csv('../data/train.csv', low_memory=False)\n",
    "\n",
    "# merge\n",
    "df_raw = pd.merge(df_store_raw, df_sales_raw, how='left', on='Store')"
   ]
  },
  {
   "cell_type": "markdown",
   "id": "czech-hartford",
   "metadata": {
    "ExecuteTime": {
     "end_time": "2021-03-30T00:01:07.360044Z",
     "start_time": "2021-03-30T00:01:07.351428Z"
    }
   },
   "source": [
    "## 0.2. Helper Functions"
   ]
  },
  {
   "cell_type": "code",
   "execution_count": 3,
   "id": "abandoned-greensboro",
   "metadata": {
    "ExecuteTime": {
     "end_time": "2021-04-06T17:36:55.143247Z",
     "start_time": "2021-04-06T17:36:55.123558Z"
    }
   },
   "outputs": [],
   "source": [
    "def jupyter_settings():\n",
    "    %matplotlib inline\n",
    "    %pylab inline\n",
    "    \n",
    "    plt.style.use( 'bmh' )\n",
    "    plt.rcParams['figure.figsize'] = [25, 12]\n",
    "    plt.rcParams['font.size'] = 24\n",
    "    \n",
    "    display( HTML( '<style>.container { width:100% !important; }</style>') )\n",
    "    pd.options.display.max_columns = None\n",
    "    pd.options.display.max_rows = None\n",
    "    pd.set_option( 'display.expand_frame_repr', False )\n",
    "    pd.set_option('display.float_format', lambda x: '%.2f' % x)\n",
    "    \n",
    "    sns.set_style(\"whitegrid\")\n",
    "    \n",
    "    sns.set()"
   ]
  },
  {
   "cell_type": "code",
   "execution_count": 4,
   "id": "clean-finance",
   "metadata": {
    "ExecuteTime": {
     "end_time": "2021-04-06T17:36:55.171604Z",
     "start_time": "2021-04-06T17:36:55.148171Z"
    }
   },
   "outputs": [
    {
     "name": "stdout",
     "output_type": "stream",
     "text": [
      "Populating the interactive namespace from numpy and matplotlib\n"
     ]
    },
    {
     "data": {
      "text/html": [
       "<style>.container { width:100% !important; }</style>"
      ],
      "text/plain": [
       "<IPython.core.display.HTML object>"
      ]
     },
     "metadata": {},
     "output_type": "display_data"
    }
   ],
   "source": [
    "jupyter_settings();"
   ]
  },
  {
   "cell_type": "markdown",
   "id": "wrapped-contrary",
   "metadata": {},
   "source": [
    "## 1.0. Data Description"
   ]
  },
  {
   "cell_type": "code",
   "execution_count": 5,
   "id": "communist-trainer",
   "metadata": {
    "ExecuteTime": {
     "end_time": "2021-04-06T17:36:55.261271Z",
     "start_time": "2021-04-06T17:36:55.175254Z"
    }
   },
   "outputs": [],
   "source": [
    "df1 = df_raw.copy()"
   ]
  },
  {
   "cell_type": "markdown",
   "id": "prostate-mirror",
   "metadata": {},
   "source": [
    "## 1.1. Rename Columns"
   ]
  },
  {
   "cell_type": "code",
   "execution_count": 6,
   "id": "cleared-texas",
   "metadata": {
    "ExecuteTime": {
     "end_time": "2021-04-06T17:36:55.281589Z",
     "start_time": "2021-04-06T17:36:55.272048Z"
    }
   },
   "outputs": [],
   "source": [
    "cols_new = ['store', 'store_type', 'assortment', 'competition_distance',\n",
    "            'competition_open_since_month', 'competition_open_since_year', 'promo2',\n",
    "            'promo2_since_week', 'promo2_since_year', 'promo_interval',\n",
    "            'day_of_week', 'date', 'sales', 'customers', 'open', 'promo',\n",
    "            'state_holiday', 'school_holiday']\n",
    "\n",
    "df1.columns = cols_new"
   ]
  },
  {
   "cell_type": "markdown",
   "id": "prerequisite-entity",
   "metadata": {},
   "source": [
    "## 1.2. Data Dimensions"
   ]
  },
  {
   "cell_type": "code",
   "execution_count": 7,
   "id": "acknowledged-actor",
   "metadata": {
    "ExecuteTime": {
     "end_time": "2021-04-06T17:36:55.295281Z",
     "start_time": "2021-04-06T17:36:55.287680Z"
    }
   },
   "outputs": [
    {
     "name": "stdout",
     "output_type": "stream",
     "text": [
      "Number of Rows: 1017209\n",
      "Number of Columns: 18\n"
     ]
    }
   ],
   "source": [
    "print(f'Number of Rows: {df1.shape[0]}')\n",
    "print(f'Number of Columns: {df1.shape[1]}')"
   ]
  },
  {
   "cell_type": "markdown",
   "id": "wanted-disposition",
   "metadata": {},
   "source": [
    "## 1.3. Data Types"
   ]
  },
  {
   "cell_type": "code",
   "execution_count": 8,
   "id": "varied-natural",
   "metadata": {
    "ExecuteTime": {
     "end_time": "2021-04-06T17:36:55.660932Z",
     "start_time": "2021-04-06T17:36:55.300077Z"
    }
   },
   "outputs": [
    {
     "data": {
      "text/plain": [
       "store                                    int64\n",
       "store_type                              object\n",
       "assortment                              object\n",
       "competition_distance                   float64\n",
       "competition_open_since_month           float64\n",
       "competition_open_since_year            float64\n",
       "promo2                                   int64\n",
       "promo2_since_week                      float64\n",
       "promo2_since_year                      float64\n",
       "promo_interval                          object\n",
       "day_of_week                              int64\n",
       "date                            datetime64[ns]\n",
       "sales                                    int64\n",
       "customers                                int64\n",
       "open                                     int64\n",
       "promo                                    int64\n",
       "state_holiday                           object\n",
       "school_holiday                           int64\n",
       "dtype: object"
      ]
     },
     "execution_count": 8,
     "metadata": {},
     "output_type": "execute_result"
    }
   ],
   "source": [
    "df1['date'] = pd.to_datetime(df1['date'])\n",
    "df1.dtypes"
   ]
  },
  {
   "cell_type": "markdown",
   "id": "through-referral",
   "metadata": {},
   "source": [
    "## 1.4. Check NA"
   ]
  },
  {
   "cell_type": "code",
   "execution_count": 9,
   "id": "front-cartoon",
   "metadata": {
    "ExecuteTime": {
     "end_time": "2021-04-06T17:36:56.050866Z",
     "start_time": "2021-04-06T17:36:55.664448Z"
    }
   },
   "outputs": [
    {
     "data": {
      "text/plain": [
       "promo_interval                  508031\n",
       "promo2_since_week               508031\n",
       "promo2_since_year               508031\n",
       "competition_open_since_month    323348\n",
       "competition_open_since_year     323348\n",
       "competition_distance              2642\n",
       "sales                                0\n",
       "state_holiday                        0\n",
       "promo                                0\n",
       "open                                 0\n",
       "customers                            0\n",
       "store                                0\n",
       "date                                 0\n",
       "day_of_week                          0\n",
       "store_type                           0\n",
       "promo2                               0\n",
       "assortment                           0\n",
       "school_holiday                       0\n",
       "dtype: int64"
      ]
     },
     "execution_count": 9,
     "metadata": {},
     "output_type": "execute_result"
    }
   ],
   "source": [
    "df1.isna().sum().sort_values(ascending=False)"
   ]
  },
  {
   "cell_type": "markdown",
   "id": "optimum-conversation",
   "metadata": {},
   "source": [
    "## 1.5. Fillout NA"
   ]
  },
  {
   "cell_type": "code",
   "execution_count": 10,
   "id": "progressive-system",
   "metadata": {
    "ExecuteTime": {
     "end_time": "2021-04-06T17:40:36.373264Z",
     "start_time": "2021-04-06T17:36:56.053603Z"
    },
    "run_control": {
     "marked": true
    }
   },
   "outputs": [],
   "source": [
    "# promo_interval \n",
    "df1['promo_interval'].fillna(0, inplace=True)\n",
    "\n",
    "month_map = {1: 'Jan', 2: 'Feb',3: 'Mar',4: 'Apr',5: 'May',6: 'Jun',7: 'Jul', 8: 'Aug',9: 'Sept',10: 'Oct',11: 'Nov', 12: 'Dec'}\n",
    "df1['month_promo'] = df1['date'].dt.month.map(month_map)\n",
    "\n",
    "df1['is_promo'] = df1.apply(lambda x: 0 if x['promo_interval'] == 0 else 1 if x['month_promo'] in x['promo_interval'].split(',') else 0, axis=1)\n",
    "\n",
    "# promo2_since_week,  promo2_since_year\n",
    "df1['promo2_since_year'] = df1[['promo2_since_year', 'date']].apply(lambda x: x['date'].year if math.isnan(x['promo2_since_year']) else x['promo2_since_year'], axis=1)\n",
    "df1['promo2_since_week'] = df1[['promo2_since_week', 'date']].apply(lambda x: x['date'].week if math.isnan(x['promo2_since_week']) else x['promo2_since_week'], axis=1)\n",
    "\n",
    "# competition_open_since_year, competition_open_since_month\n",
    "df1['competition_open_since_year'] = df1[['competition_open_since_year', 'date']].apply(lambda x: x['date'].year if math.isnan(x['competition_open_since_year']) else x['competition_open_since_year'], axis=1)\n",
    "df1['competition_open_since_month'] = df1[['competition_open_since_month', 'date']].apply(lambda x: x['date'].month if math.isnan(x['competition_open_since_month']) else x['competition_open_since_month'], axis=1)\n",
    "\n",
    "# competition_distance\n",
    "df1['competition_distance'].fillna(200000.0, inplace=True)"
   ]
  },
  {
   "cell_type": "markdown",
   "id": "welcome-farming",
   "metadata": {},
   "source": [
    "## 1.6. Change Data Types"
   ]
  },
  {
   "cell_type": "code",
   "execution_count": 11,
   "id": "legendary-guarantee",
   "metadata": {
    "ExecuteTime": {
     "end_time": "2021-04-06T17:40:36.417676Z",
     "start_time": "2021-04-06T17:40:36.375804Z"
    }
   },
   "outputs": [],
   "source": [
    "df1['competition_open_since_month'] = df1['competition_open_since_month'].astype(int)\n",
    "df1['competition_open_since_year'] = df1['competition_open_since_year'].astype(int)\n",
    "df1['promo2_since_week'] = df1['promo2_since_week'].astype(int)\n",
    "df1['promo2_since_year'] = df1['promo2_since_year'].astype(int)"
   ]
  },
  {
   "cell_type": "markdown",
   "id": "suited-backup",
   "metadata": {},
   "source": [
    "## 1.7. Descriptive Statistics"
   ]
  },
  {
   "cell_type": "code",
   "execution_count": 12,
   "id": "velvet-nation",
   "metadata": {
    "ExecuteTime": {
     "end_time": "2021-04-06T17:40:36.870709Z",
     "start_time": "2021-04-06T17:40:36.421848Z"
    }
   },
   "outputs": [],
   "source": [
    "num_attributes = df1.select_dtypes(include=['int64', 'float64'])\n",
    "cat_attributes = df1.select_dtypes(include=['object'])"
   ]
  },
  {
   "cell_type": "markdown",
   "id": "compound-virtue",
   "metadata": {},
   "source": [
    "### 1.7.1. Numerical Attributes"
   ]
  },
  {
   "cell_type": "code",
   "execution_count": 13,
   "id": "informational-delay",
   "metadata": {
    "ExecuteTime": {
     "end_time": "2021-04-06T17:40:42.695268Z",
     "start_time": "2021-04-06T17:40:36.873050Z"
    }
   },
   "outputs": [
    {
     "data": {
      "text/html": [
       "<div>\n",
       "<style scoped>\n",
       "    .dataframe tbody tr th:only-of-type {\n",
       "        vertical-align: middle;\n",
       "    }\n",
       "\n",
       "    .dataframe tbody tr th {\n",
       "        vertical-align: top;\n",
       "    }\n",
       "\n",
       "    .dataframe thead th {\n",
       "        text-align: right;\n",
       "    }\n",
       "</style>\n",
       "<table border=\"1\" class=\"dataframe\">\n",
       "  <thead>\n",
       "    <tr style=\"text-align: right;\">\n",
       "      <th></th>\n",
       "      <th>attributes</th>\n",
       "      <th>min</th>\n",
       "      <th>max</th>\n",
       "      <th>range</th>\n",
       "      <th>mean</th>\n",
       "      <th>median</th>\n",
       "      <th>std</th>\n",
       "      <th>skew</th>\n",
       "      <th>kurtosis</th>\n",
       "    </tr>\n",
       "  </thead>\n",
       "  <tbody>\n",
       "    <tr>\n",
       "      <th>0</th>\n",
       "      <td>store</td>\n",
       "      <td>1.00</td>\n",
       "      <td>1115.00</td>\n",
       "      <td>1114.00</td>\n",
       "      <td>558.43</td>\n",
       "      <td>558.00</td>\n",
       "      <td>321.91</td>\n",
       "      <td>-0.00</td>\n",
       "      <td>-1.20</td>\n",
       "    </tr>\n",
       "    <tr>\n",
       "      <th>1</th>\n",
       "      <td>competition_distance</td>\n",
       "      <td>20.00</td>\n",
       "      <td>200000.00</td>\n",
       "      <td>199980.00</td>\n",
       "      <td>5935.44</td>\n",
       "      <td>2330.00</td>\n",
       "      <td>12547.65</td>\n",
       "      <td>10.24</td>\n",
       "      <td>147.79</td>\n",
       "    </tr>\n",
       "    <tr>\n",
       "      <th>2</th>\n",
       "      <td>competition_open_since_month</td>\n",
       "      <td>1.00</td>\n",
       "      <td>12.00</td>\n",
       "      <td>11.00</td>\n",
       "      <td>6.79</td>\n",
       "      <td>7.00</td>\n",
       "      <td>3.31</td>\n",
       "      <td>-0.04</td>\n",
       "      <td>-1.23</td>\n",
       "    </tr>\n",
       "    <tr>\n",
       "      <th>3</th>\n",
       "      <td>competition_open_since_year</td>\n",
       "      <td>1900.00</td>\n",
       "      <td>2015.00</td>\n",
       "      <td>115.00</td>\n",
       "      <td>2010.32</td>\n",
       "      <td>2012.00</td>\n",
       "      <td>5.52</td>\n",
       "      <td>-7.24</td>\n",
       "      <td>124.07</td>\n",
       "    </tr>\n",
       "    <tr>\n",
       "      <th>4</th>\n",
       "      <td>promo2</td>\n",
       "      <td>0.00</td>\n",
       "      <td>1.00</td>\n",
       "      <td>1.00</td>\n",
       "      <td>0.50</td>\n",
       "      <td>1.00</td>\n",
       "      <td>0.50</td>\n",
       "      <td>-0.00</td>\n",
       "      <td>-2.00</td>\n",
       "    </tr>\n",
       "    <tr>\n",
       "      <th>5</th>\n",
       "      <td>promo2_since_week</td>\n",
       "      <td>1.00</td>\n",
       "      <td>52.00</td>\n",
       "      <td>51.00</td>\n",
       "      <td>23.62</td>\n",
       "      <td>22.00</td>\n",
       "      <td>14.31</td>\n",
       "      <td>0.18</td>\n",
       "      <td>-1.18</td>\n",
       "    </tr>\n",
       "    <tr>\n",
       "      <th>6</th>\n",
       "      <td>promo2_since_year</td>\n",
       "      <td>2009.00</td>\n",
       "      <td>2015.00</td>\n",
       "      <td>6.00</td>\n",
       "      <td>2012.79</td>\n",
       "      <td>2013.00</td>\n",
       "      <td>1.66</td>\n",
       "      <td>-0.78</td>\n",
       "      <td>-0.21</td>\n",
       "    </tr>\n",
       "    <tr>\n",
       "      <th>7</th>\n",
       "      <td>day_of_week</td>\n",
       "      <td>1.00</td>\n",
       "      <td>7.00</td>\n",
       "      <td>6.00</td>\n",
       "      <td>4.00</td>\n",
       "      <td>4.00</td>\n",
       "      <td>2.00</td>\n",
       "      <td>0.00</td>\n",
       "      <td>-1.25</td>\n",
       "    </tr>\n",
       "    <tr>\n",
       "      <th>8</th>\n",
       "      <td>sales</td>\n",
       "      <td>0.00</td>\n",
       "      <td>41551.00</td>\n",
       "      <td>41551.00</td>\n",
       "      <td>5773.82</td>\n",
       "      <td>5744.00</td>\n",
       "      <td>3849.93</td>\n",
       "      <td>0.64</td>\n",
       "      <td>1.78</td>\n",
       "    </tr>\n",
       "    <tr>\n",
       "      <th>9</th>\n",
       "      <td>customers</td>\n",
       "      <td>0.00</td>\n",
       "      <td>7388.00</td>\n",
       "      <td>7388.00</td>\n",
       "      <td>633.15</td>\n",
       "      <td>609.00</td>\n",
       "      <td>464.41</td>\n",
       "      <td>1.60</td>\n",
       "      <td>7.09</td>\n",
       "    </tr>\n",
       "    <tr>\n",
       "      <th>10</th>\n",
       "      <td>open</td>\n",
       "      <td>0.00</td>\n",
       "      <td>1.00</td>\n",
       "      <td>1.00</td>\n",
       "      <td>0.83</td>\n",
       "      <td>1.00</td>\n",
       "      <td>0.38</td>\n",
       "      <td>-1.76</td>\n",
       "      <td>1.09</td>\n",
       "    </tr>\n",
       "    <tr>\n",
       "      <th>11</th>\n",
       "      <td>promo</td>\n",
       "      <td>0.00</td>\n",
       "      <td>1.00</td>\n",
       "      <td>1.00</td>\n",
       "      <td>0.38</td>\n",
       "      <td>0.00</td>\n",
       "      <td>0.49</td>\n",
       "      <td>0.49</td>\n",
       "      <td>-1.76</td>\n",
       "    </tr>\n",
       "    <tr>\n",
       "      <th>12</th>\n",
       "      <td>school_holiday</td>\n",
       "      <td>0.00</td>\n",
       "      <td>1.00</td>\n",
       "      <td>1.00</td>\n",
       "      <td>0.18</td>\n",
       "      <td>0.00</td>\n",
       "      <td>0.38</td>\n",
       "      <td>1.68</td>\n",
       "      <td>0.82</td>\n",
       "    </tr>\n",
       "    <tr>\n",
       "      <th>13</th>\n",
       "      <td>is_promo</td>\n",
       "      <td>0.00</td>\n",
       "      <td>1.00</td>\n",
       "      <td>1.00</td>\n",
       "      <td>0.17</td>\n",
       "      <td>0.00</td>\n",
       "      <td>0.38</td>\n",
       "      <td>1.74</td>\n",
       "      <td>1.03</td>\n",
       "    </tr>\n",
       "  </tbody>\n",
       "</table>\n",
       "</div>"
      ],
      "text/plain": [
       "                      attributes     min       max     range    mean  median      std  skew  kurtosis\n",
       "0                          store    1.00   1115.00   1114.00  558.43  558.00   321.91 -0.00     -1.20\n",
       "1           competition_distance   20.00 200000.00 199980.00 5935.44 2330.00 12547.65 10.24    147.79\n",
       "2   competition_open_since_month    1.00     12.00     11.00    6.79    7.00     3.31 -0.04     -1.23\n",
       "3    competition_open_since_year 1900.00   2015.00    115.00 2010.32 2012.00     5.52 -7.24    124.07\n",
       "4                         promo2    0.00      1.00      1.00    0.50    1.00     0.50 -0.00     -2.00\n",
       "5              promo2_since_week    1.00     52.00     51.00   23.62   22.00    14.31  0.18     -1.18\n",
       "6              promo2_since_year 2009.00   2015.00      6.00 2012.79 2013.00     1.66 -0.78     -0.21\n",
       "7                    day_of_week    1.00      7.00      6.00    4.00    4.00     2.00  0.00     -1.25\n",
       "8                          sales    0.00  41551.00  41551.00 5773.82 5744.00  3849.93  0.64      1.78\n",
       "9                      customers    0.00   7388.00   7388.00  633.15  609.00   464.41  1.60      7.09\n",
       "10                          open    0.00      1.00      1.00    0.83    1.00     0.38 -1.76      1.09\n",
       "11                         promo    0.00      1.00      1.00    0.38    0.00     0.49  0.49     -1.76\n",
       "12                school_holiday    0.00      1.00      1.00    0.18    0.00     0.38  1.68      0.82\n",
       "13                      is_promo    0.00      1.00      1.00    0.17    0.00     0.38  1.74      1.03"
      ]
     },
     "execution_count": 13,
     "metadata": {},
     "output_type": "execute_result"
    }
   ],
   "source": [
    "# Central Tendency: mean, median\n",
    "c1 = pd.DataFrame(num_attributes.apply(np.mean))\n",
    "c2 = pd.DataFrame(num_attributes.apply(np.median))\n",
    "\n",
    "# Dispersion: min, max, range, std, skew, kurtosis\n",
    "d1 = pd.DataFrame(num_attributes.apply(min))\n",
    "d2 = pd.DataFrame(num_attributes.apply(max))\n",
    "d3 = pd.DataFrame(num_attributes.apply(lambda x: np.max(x) - np.min(x)))\n",
    "d4 = pd.DataFrame(num_attributes.apply(lambda x: x.std()))\n",
    "d5 = pd.DataFrame(num_attributes.apply(lambda x: x.skew()))\n",
    "d6 = pd.DataFrame(num_attributes.apply(lambda x: x.kurtosis()))\n",
    "\n",
    "# concat\n",
    "m = pd.concat([d1,d2,d3,c1,c2,d4,d5,d6], axis=1).reset_index()\n",
    "m.columns = ['attributes', 'min', 'max', 'range', 'mean', 'median', 'std', 'skew', 'kurtosis']\n",
    "m"
   ]
  },
  {
   "cell_type": "markdown",
   "id": "special-compound",
   "metadata": {},
   "source": [
    "### 1.7.2. Categorical Attributes"
   ]
  },
  {
   "cell_type": "code",
   "execution_count": 14,
   "id": "current-orleans",
   "metadata": {
    "ExecuteTime": {
     "end_time": "2021-04-06T17:40:44.094416Z",
     "start_time": "2021-04-06T17:40:42.698104Z"
    }
   },
   "outputs": [
    {
     "data": {
      "text/html": [
       "<div>\n",
       "<style scoped>\n",
       "    .dataframe tbody tr th:only-of-type {\n",
       "        vertical-align: middle;\n",
       "    }\n",
       "\n",
       "    .dataframe tbody tr th {\n",
       "        vertical-align: top;\n",
       "    }\n",
       "\n",
       "    .dataframe thead th {\n",
       "        text-align: right;\n",
       "    }\n",
       "</style>\n",
       "<table border=\"1\" class=\"dataframe\">\n",
       "  <thead>\n",
       "    <tr style=\"text-align: right;\">\n",
       "      <th></th>\n",
       "      <th>store_type</th>\n",
       "      <th>assortment</th>\n",
       "      <th>promo_interval</th>\n",
       "      <th>state_holiday</th>\n",
       "      <th>month_promo</th>\n",
       "    </tr>\n",
       "  </thead>\n",
       "  <tbody>\n",
       "    <tr>\n",
       "      <th>count</th>\n",
       "      <td>1017209</td>\n",
       "      <td>1017209</td>\n",
       "      <td>1017209</td>\n",
       "      <td>1017209</td>\n",
       "      <td>1017209</td>\n",
       "    </tr>\n",
       "    <tr>\n",
       "      <th>unique</th>\n",
       "      <td>4</td>\n",
       "      <td>3</td>\n",
       "      <td>4</td>\n",
       "      <td>4</td>\n",
       "      <td>12</td>\n",
       "    </tr>\n",
       "    <tr>\n",
       "      <th>top</th>\n",
       "      <td>a</td>\n",
       "      <td>a</td>\n",
       "      <td>0</td>\n",
       "      <td>0</td>\n",
       "      <td>Mar</td>\n",
       "    </tr>\n",
       "    <tr>\n",
       "      <th>freq</th>\n",
       "      <td>551627</td>\n",
       "      <td>537445</td>\n",
       "      <td>508031</td>\n",
       "      <td>986159</td>\n",
       "      <td>103695</td>\n",
       "    </tr>\n",
       "  </tbody>\n",
       "</table>\n",
       "</div>"
      ],
      "text/plain": [
       "       store_type assortment  promo_interval state_holiday month_promo\n",
       "count     1017209    1017209         1017209       1017209     1017209\n",
       "unique          4          3               4             4          12\n",
       "top             a          a               0             0         Mar\n",
       "freq       551627     537445          508031        986159      103695"
      ]
     },
     "execution_count": 14,
     "metadata": {},
     "output_type": "execute_result"
    }
   ],
   "source": [
    "cat_attributes.describe(include=['object'])"
   ]
  },
  {
   "cell_type": "markdown",
   "id": "regional-pantyhose",
   "metadata": {},
   "source": [
    "# 2.0. Feature Engineering"
   ]
  },
  {
   "cell_type": "code",
   "execution_count": 47,
   "id": "genuine-confidence",
   "metadata": {
    "ExecuteTime": {
     "end_time": "2021-04-06T18:22:46.279182Z",
     "start_time": "2021-04-06T18:22:46.061581Z"
    }
   },
   "outputs": [],
   "source": [
    "df2 = df1.copy()"
   ]
  },
  {
   "cell_type": "markdown",
   "id": "confident-employee",
   "metadata": {
    "ExecuteTime": {
     "end_time": "2021-04-06T17:53:22.942295Z",
     "start_time": "2021-04-06T17:53:22.934689Z"
    }
   },
   "source": [
    "## 2.* Feature Engineering"
   ]
  },
  {
   "cell_type": "code",
   "execution_count": 48,
   "id": "extended-southeast",
   "metadata": {
    "ExecuteTime": {
     "end_time": "2021-04-06T18:25:46.245050Z",
     "start_time": "2021-04-06T18:22:47.333466Z"
    }
   },
   "outputs": [],
   "source": [
    "# date: year, month, day, week_of_year, year_week\n",
    "df2['year'] = df2['date'].dt.year\n",
    "df2['month'] = df2['date'].dt.month\n",
    "df2['day'] = df2['date'].dt.day\n",
    "df2['week_of_year'] = df2['date'].dt.isocalendar().week\n",
    "df2['year_week'] = df2['date'].dt.strftime('%Y-%W')\n",
    "\n",
    "# competition_open_since_year  - competition_open_since_month\n",
    "df2['competition_since'] = df2.apply(lambda x: datetime.datetime(year=x['competition_open_since_year'], month=x['competition_open_since_month'], day=1), axis=1)\n",
    "df2['competition_time_month'] = ((df2['date'] - df2['competition_since'])/30).apply(lambda x: x.days).astype(int)\n",
    "\n",
    "# promo2_since_year, promo2_since_week\n",
    "df2['promo_since'] = df2['promo2_since_year'].astype(str) + '-' + df2['promo2_since_week'].astype(str)\n",
    "df2['promo_since'] = df2['promo_since'].apply(lambda x: datetime.datetime.strptime( x + '-1', '%Y-%W-%w'))\n",
    "df2['promo_time_week'] = ((df2['date'] - df2['promo_since'])/7).apply(lambda x: x.days).astype(int)\n",
    "\n",
    "# public_holiday\n",
    "state_holiday_dict = {'a' : 'public_holiday', 'b' : 'easter_holiday', 'c' : 'christmas', '0' : 'regular_day'}\n",
    "df2['state_holiday'] = df2['state_holiday'].map(state_holiday_dict)\n",
    "\n",
    "# assortment\n",
    "assortment_dict = {'a' : 'basic', 'b' : 'extra', 'c' : 'extended'}\n",
    "df2['assortment'] = df2['assortment'].map(assortment_dict)"
   ]
  },
  {
   "cell_type": "markdown",
   "id": "studied-technical",
   "metadata": {},
   "source": [
    "# 3.0. Data Filtering"
   ]
  },
  {
   "cell_type": "code",
   "execution_count": null,
   "id": "competitive-intellectual",
   "metadata": {},
   "outputs": [],
   "source": []
  }
 ],
 "metadata": {
  "kernelspec": {
   "display_name": "Python 3",
   "language": "python",
   "name": "python3"
  },
  "language_info": {
   "codemirror_mode": {
    "name": "ipython",
    "version": 3
   },
   "file_extension": ".py",
   "mimetype": "text/x-python",
   "name": "python",
   "nbconvert_exporter": "python",
   "pygments_lexer": "ipython3",
   "version": "3.8.5"
  }
 },
 "nbformat": 4,
 "nbformat_minor": 5
}
