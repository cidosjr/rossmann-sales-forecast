{
 "cells": [
  {
   "cell_type": "markdown",
   "id": "direct-olive",
   "metadata": {},
   "source": [
    "# 0.0. Imports"
   ]
  },
  {
   "cell_type": "code",
   "execution_count": 1,
   "id": "electrical-spirituality",
   "metadata": {
    "ExecuteTime": {
     "end_time": "2021-04-29T11:15:09.379567Z",
     "start_time": "2021-04-29T11:15:07.349579Z"
    }
   },
   "outputs": [
    {
     "name": "stderr",
     "output_type": "stream",
     "text": [
      "/home/cid/.pyenv/versions/3.8.5/envs/rossmann-sales-forecast/lib/python3.8/site-packages/pandas/compat/__init__.py:97: UserWarning: Could not import the lzma module. Your installed Python is incomplete. Attempting to use lzma compression will result in a RuntimeError.\n",
      "  warnings.warn(msg)\n"
     ]
    }
   ],
   "source": [
    "import pandas as pd\n",
    "import numpy as np\n",
    "import math\n",
    "import matplotlib.pyplot as plt\n",
    "import seaborn as sns\n",
    "import pickle\n",
    "import xgboost as xgb\n",
    "import random\n",
    "\n",
    "from IPython.display import HTML\n",
    "\n",
    "from boruta import BorutaPy\n",
    "\n",
    "from sklearn import preprocessing as pp\n",
    "from sklearn import ensemble as en\n",
    "from sklearn import metrics as m\n",
    "from sklearn import linear_model as lm"
   ]
  },
  {
   "cell_type": "markdown",
   "id": "chief-genre",
   "metadata": {},
   "source": [
    "## 0.1. Loading Data"
   ]
  },
  {
   "cell_type": "code",
   "execution_count": 2,
   "id": "removable-continent",
   "metadata": {
    "ExecuteTime": {
     "end_time": "2021-04-29T11:15:11.066224Z",
     "start_time": "2021-04-29T11:15:09.382196Z"
    }
   },
   "outputs": [],
   "source": [
    "df_store_raw = pd.read_csv('../data/store.csv')\n",
    "df_sales_raw = pd.read_csv('../data/train.csv', low_memory=False)\n",
    "\n",
    "# merge\n",
    "df_raw = pd.merge(df_store_raw, df_sales_raw, how='left', on='Store')"
   ]
  },
  {
   "cell_type": "markdown",
   "id": "czech-hartford",
   "metadata": {
    "ExecuteTime": {
     "end_time": "2021-03-30T00:01:07.360044Z",
     "start_time": "2021-03-30T00:01:07.351428Z"
    }
   },
   "source": [
    "## 0.2. Helper Functions"
   ]
  },
  {
   "cell_type": "code",
   "execution_count": 3,
   "id": "abandoned-greensboro",
   "metadata": {
    "ExecuteTime": {
     "end_time": "2021-04-29T11:15:11.126773Z",
     "start_time": "2021-04-29T11:15:11.070055Z"
    },
    "run_control": {
     "marked": false
    }
   },
   "outputs": [],
   "source": [
    "def cross_validation( x_training, kfold, model_name, model, verbose=False ):\n",
    "    mae_list = []\n",
    "    mape_list = []\n",
    "    rmse_list = []\n",
    "    for k in reversed( range( 1, kfold+1 ) ):\n",
    "        if verbose:\n",
    "            print( '\\nKFold Number: {}'.format( k ) )\n",
    "        # start and end date for validation \n",
    "        validation_start_date = x_training['date'].max() - datetime.timedelta( days=k*6*7)\n",
    "        validation_end_date = x_training['date'].max() - datetime.timedelta( days=(k-1)*6*7)\n",
    "\n",
    "        # filtering dataset\n",
    "        training = x_training[x_training['date'] < validation_start_date]\n",
    "        validation = x_training[(x_training['date'] >= validation_start_date) & (x_training['date'] <= validation_end_date)]\n",
    "\n",
    "        # training and validation dataset\n",
    "        # training\n",
    "        xtraining = training.drop( ['date', 'sales'], axis=1 ) \n",
    "        ytraining = training['sales']\n",
    "\n",
    "        # validation\n",
    "        xvalidation = validation.drop( ['date', 'sales'], axis=1 )\n",
    "        yvalidation = validation['sales']\n",
    "\n",
    "        # model\n",
    "        m = model.fit( xtraining, ytraining )\n",
    "\n",
    "        # prediction\n",
    "        yhat = m.predict( xvalidation )\n",
    "\n",
    "        # performance\n",
    "        m_result = ml_error( model_name, np.expm1( yvalidation ), np.expm1( yhat ) )\n",
    "\n",
    "        # store performance of each kfold iteration\n",
    "        mae_list.append(  m_result['MAE'] )\n",
    "        mape_list.append( m_result['MAPE'] )\n",
    "        rmse_list.append( m_result['RMSE'] )\n",
    "\n",
    "    return pd.DataFrame( {'Model Name': model_name,\n",
    "                          'MAE CV': np.round( np.mean( mae_list ), 2 ).astype( str ) + ' +/- ' + np.round( np.std( mae_list ), 2 ).astype( str ),\n",
    "                          'MAPE CV': np.round( np.mean( mape_list ), 2 ).astype( str ) + ' +/- ' + np.round( np.std( mape_list ), 2 ).astype( str ),\n",
    "                          'RMSE CV': np.round( np.mean( rmse_list ), 2 ).astype( str ) + ' +/- ' + np.round( np.std( rmse_list ), 2 ).astype( str ) }, index=[0] )\n",
    "\n",
    "\n",
    "def mean_absolute_percentage_error(y, yhat):\n",
    "    return np.mean(np.abs((y - yhat) / y ))\n",
    "\n",
    "def ml_error(model_name, y, yhat):\n",
    "    mae = m.mean_absolute_error(y, yhat)\n",
    "    mape = mean_absolute_percentage_error(y, yhat)\n",
    "    rmse = np.sqrt(m.mean_squared_error(y, yhat))\n",
    "    \n",
    "    return pd.DataFrame({\n",
    "        'Model Name': model_name,\n",
    "        'MAE': mae,\n",
    "        'MAPE': mape,\n",
    "        'RMSE': rmse\n",
    "    }, index=[0])\n",
    "\n",
    "\n",
    "def jupyter_settings():\n",
    "    %matplotlib inline\n",
    "    %pylab inline\n",
    "    \n",
    "    plt.style.use( 'bmh' )\n",
    "    plt.rcParams['figure.figsize'] = [25, 12]\n",
    "    plt.rcParams['font.size'] = 24\n",
    "    \n",
    "    display( HTML( '<style>.container { width:100% !important; }</style>') )\n",
    "    pd.options.display.max_columns = None\n",
    "    pd.options.display.max_rows = None\n",
    "    pd.set_option( 'display.expand_frame_repr', False )\n",
    "    pd.set_option('display.float_format', lambda x: '%.2f' % x)\n",
    "    \n",
    "    sns.set_style(\"whitegrid\")\n",
    "    \n",
    "    sns.set()"
   ]
  },
  {
   "cell_type": "code",
   "execution_count": 4,
   "id": "clean-finance",
   "metadata": {
    "ExecuteTime": {
     "end_time": "2021-04-29T11:15:11.149705Z",
     "start_time": "2021-04-29T11:15:11.129463Z"
    }
   },
   "outputs": [
    {
     "name": "stdout",
     "output_type": "stream",
     "text": [
      "Populating the interactive namespace from numpy and matplotlib\n"
     ]
    },
    {
     "name": "stderr",
     "output_type": "stream",
     "text": [
      "/home/cid/.pyenv/versions/3.8.5/envs/rossmann-sales-forecast/lib/python3.8/site-packages/IPython/core/magics/pylab.py:159: UserWarning: pylab import has clobbered these variables: ['random']\n",
      "`%matplotlib` prevents importing * from pylab and numpy\n",
      "  warn(\"pylab import has clobbered these variables: %s\"  % clobbered +\n"
     ]
    },
    {
     "data": {
      "text/html": [
       "<style>.container { width:100% !important; }</style>"
      ],
      "text/plain": [
       "<IPython.core.display.HTML object>"
      ]
     },
     "metadata": {},
     "output_type": "display_data"
    }
   ],
   "source": [
    "jupyter_settings();"
   ]
  },
  {
   "cell_type": "markdown",
   "id": "wrapped-contrary",
   "metadata": {
    "heading_collapsed": true
   },
   "source": [
    "## 1.0. Data Description"
   ]
  },
  {
   "cell_type": "code",
   "execution_count": 6,
   "id": "communist-trainer",
   "metadata": {
    "ExecuteTime": {
     "end_time": "2021-04-20T16:42:32.574631Z",
     "start_time": "2021-04-20T16:42:32.445522Z"
    },
    "hidden": true
   },
   "outputs": [],
   "source": [
    "df1 = df_raw.copy()"
   ]
  },
  {
   "cell_type": "markdown",
   "id": "prostate-mirror",
   "metadata": {
    "heading_collapsed": true
   },
   "source": [
    "## 1.1. Rename Columns"
   ]
  },
  {
   "cell_type": "code",
   "execution_count": 23,
   "id": "cleared-texas",
   "metadata": {
    "ExecuteTime": {
     "end_time": "2021-04-09T18:24:10.042150Z",
     "start_time": "2021-04-09T18:24:10.033740Z"
    },
    "hidden": true
   },
   "outputs": [],
   "source": [
    "cols_new = ['store', 'store_type', 'assortment', 'competition_distance',\n",
    "            'competition_open_since_month', 'competition_open_since_year', 'promo2',\n",
    "            'promo2_since_week', 'promo2_since_year', 'promo_interval',\n",
    "            'day_of_week', 'date', 'sales', 'customers', 'open', 'promo',\n",
    "            'state_holiday', 'school_holiday']\n",
    "\n",
    "df1.columns = cols_new"
   ]
  },
  {
   "cell_type": "markdown",
   "id": "prerequisite-entity",
   "metadata": {
    "heading_collapsed": true
   },
   "source": [
    "## 1.2. Data Dimensions"
   ]
  },
  {
   "cell_type": "code",
   "execution_count": 24,
   "id": "acknowledged-actor",
   "metadata": {
    "ExecuteTime": {
     "end_time": "2021-04-09T18:24:10.049481Z",
     "start_time": "2021-04-09T18:24:10.044503Z"
    },
    "hidden": true
   },
   "outputs": [
    {
     "name": "stdout",
     "output_type": "stream",
     "text": [
      "Number of Rows: 1017209\n",
      "Number of Columns: 18\n"
     ]
    }
   ],
   "source": [
    "print(f'Number of Rows: {df1.shape[0]}')\n",
    "print(f'Number of Columns: {df1.shape[1]}')"
   ]
  },
  {
   "cell_type": "markdown",
   "id": "wanted-disposition",
   "metadata": {
    "heading_collapsed": true
   },
   "source": [
    "## 1.3. Data Types"
   ]
  },
  {
   "cell_type": "code",
   "execution_count": 25,
   "id": "varied-natural",
   "metadata": {
    "ExecuteTime": {
     "end_time": "2021-04-09T18:24:10.290296Z",
     "start_time": "2021-04-09T18:24:10.051846Z"
    },
    "hidden": true
   },
   "outputs": [
    {
     "data": {
      "text/plain": [
       "store                                    int64\n",
       "store_type                              object\n",
       "assortment                              object\n",
       "competition_distance                   float64\n",
       "competition_open_since_month           float64\n",
       "competition_open_since_year            float64\n",
       "promo2                                   int64\n",
       "promo2_since_week                      float64\n",
       "promo2_since_year                      float64\n",
       "promo_interval                          object\n",
       "day_of_week                              int64\n",
       "date                            datetime64[ns]\n",
       "sales                                    int64\n",
       "customers                                int64\n",
       "open                                     int64\n",
       "promo                                    int64\n",
       "state_holiday                           object\n",
       "school_holiday                           int64\n",
       "dtype: object"
      ]
     },
     "execution_count": 25,
     "metadata": {},
     "output_type": "execute_result"
    }
   ],
   "source": [
    "df1['date'] = pd.to_datetime(df1['date'])\n",
    "df1.dtypes"
   ]
  },
  {
   "cell_type": "markdown",
   "id": "through-referral",
   "metadata": {
    "heading_collapsed": true
   },
   "source": [
    "## 1.4. Check NA"
   ]
  },
  {
   "cell_type": "code",
   "execution_count": 26,
   "id": "front-cartoon",
   "metadata": {
    "ExecuteTime": {
     "end_time": "2021-04-09T18:24:10.595274Z",
     "start_time": "2021-04-09T18:24:10.295344Z"
    },
    "hidden": true
   },
   "outputs": [
    {
     "data": {
      "text/plain": [
       "promo_interval                  508031\n",
       "promo2_since_week               508031\n",
       "promo2_since_year               508031\n",
       "competition_open_since_month    323348\n",
       "competition_open_since_year     323348\n",
       "competition_distance              2642\n",
       "sales                                0\n",
       "state_holiday                        0\n",
       "promo                                0\n",
       "open                                 0\n",
       "customers                            0\n",
       "store                                0\n",
       "date                                 0\n",
       "day_of_week                          0\n",
       "store_type                           0\n",
       "promo2                               0\n",
       "assortment                           0\n",
       "school_holiday                       0\n",
       "dtype: int64"
      ]
     },
     "execution_count": 26,
     "metadata": {},
     "output_type": "execute_result"
    }
   ],
   "source": [
    "df1.isna().sum().sort_values(ascending=False)"
   ]
  },
  {
   "cell_type": "markdown",
   "id": "optimum-conversation",
   "metadata": {
    "heading_collapsed": true
   },
   "source": [
    "## 1.5. Fillout NA"
   ]
  },
  {
   "cell_type": "code",
   "execution_count": 27,
   "id": "progressive-system",
   "metadata": {
    "ExecuteTime": {
     "end_time": "2021-04-09T18:26:24.668763Z",
     "start_time": "2021-04-09T18:24:10.598128Z"
    },
    "hidden": true,
    "run_control": {
     "marked": false
    }
   },
   "outputs": [],
   "source": [
    "# promo_interval \n",
    "df1['promo_interval'].fillna(0, inplace=True)\n",
    "\n",
    "month_map = {1: 'Jan', 2: 'Feb',3: 'Mar',4: 'Apr',5: 'May',6: 'Jun',7: 'Jul', 8: 'Aug',9: 'Sept',10: 'Oct',11: 'Nov', 12: 'Dec'}\n",
    "df1['month_promo'] = df1['date'].dt.month.map(month_map)\n",
    "\n",
    "df1['is_promo'] = df1.apply(lambda x: 0 if x['promo_interval'] == 0 else 1 if x['month_promo'] in x['promo_interval'].split(',') else 0, axis=1)\n",
    "\n",
    "# promo2_since_week,  promo2_since_year\n",
    "df1['promo2_since_year'] = df1[['promo2_since_year', 'date']].apply(lambda x: x['date'].year if math.isnan(x['promo2_since_year']) else x['promo2_since_year'], axis=1)\n",
    "df1['promo2_since_week'] = df1[['promo2_since_week', 'date']].apply(lambda x: x['date'].week if math.isnan(x['promo2_since_week']) else x['promo2_since_week'], axis=1)\n",
    "\n",
    "# competition_open_since_year, competition_open_since_month\n",
    "df1['competition_open_since_year'] = df1[['competition_open_since_year', 'date']].apply(lambda x: x['date'].year if math.isnan(x['competition_open_since_year']) else x['competition_open_since_year'], axis=1)\n",
    "df1['competition_open_since_month'] = df1[['competition_open_since_month', 'date']].apply(lambda x: x['date'].month if math.isnan(x['competition_open_since_month']) else x['competition_open_since_month'], axis=1)\n",
    "\n",
    "# competition_distance\n",
    "df1['competition_distance'].fillna(200000.0, inplace=True)"
   ]
  },
  {
   "cell_type": "markdown",
   "id": "welcome-farming",
   "metadata": {
    "heading_collapsed": true
   },
   "source": [
    "## 1.6. Change Data Types"
   ]
  },
  {
   "cell_type": "code",
   "execution_count": 28,
   "id": "legendary-guarantee",
   "metadata": {
    "ExecuteTime": {
     "end_time": "2021-04-09T18:26:24.703489Z",
     "start_time": "2021-04-09T18:26:24.670796Z"
    },
    "hidden": true
   },
   "outputs": [],
   "source": [
    "df1['competition_open_since_month'] = df1['competition_open_since_month'].astype(int)\n",
    "df1['competition_open_since_year'] = df1['competition_open_since_year'].astype(int)\n",
    "df1['promo2_since_week'] = df1['promo2_since_week'].astype(int)\n",
    "df1['promo2_since_year'] = df1['promo2_since_year'].astype(int)"
   ]
  },
  {
   "cell_type": "markdown",
   "id": "suited-backup",
   "metadata": {
    "heading_collapsed": true
   },
   "source": [
    "## 1.7. Descriptive Statistics"
   ]
  },
  {
   "cell_type": "code",
   "execution_count": 29,
   "id": "velvet-nation",
   "metadata": {
    "ExecuteTime": {
     "end_time": "2021-04-09T18:26:24.877765Z",
     "start_time": "2021-04-09T18:26:24.705390Z"
    },
    "hidden": true
   },
   "outputs": [],
   "source": [
    "num_attributes = df1.select_dtypes(include=['int64', 'float64'])\n",
    "cat_attributes = df1.select_dtypes(include=['object'])"
   ]
  },
  {
   "cell_type": "markdown",
   "id": "compound-virtue",
   "metadata": {
    "heading_collapsed": true,
    "hidden": true
   },
   "source": [
    "### 1.7.1. Numerical Attributes"
   ]
  },
  {
   "cell_type": "code",
   "execution_count": 30,
   "id": "informational-delay",
   "metadata": {
    "ExecuteTime": {
     "end_time": "2021-04-09T18:26:29.047197Z",
     "start_time": "2021-04-09T18:26:24.879912Z"
    },
    "hidden": true
   },
   "outputs": [
    {
     "data": {
      "text/html": [
       "<div>\n",
       "<style scoped>\n",
       "    .dataframe tbody tr th:only-of-type {\n",
       "        vertical-align: middle;\n",
       "    }\n",
       "\n",
       "    .dataframe tbody tr th {\n",
       "        vertical-align: top;\n",
       "    }\n",
       "\n",
       "    .dataframe thead th {\n",
       "        text-align: right;\n",
       "    }\n",
       "</style>\n",
       "<table border=\"1\" class=\"dataframe\">\n",
       "  <thead>\n",
       "    <tr style=\"text-align: right;\">\n",
       "      <th></th>\n",
       "      <th>attributes</th>\n",
       "      <th>min</th>\n",
       "      <th>max</th>\n",
       "      <th>range</th>\n",
       "      <th>mean</th>\n",
       "      <th>median</th>\n",
       "      <th>std</th>\n",
       "      <th>skew</th>\n",
       "      <th>kurtosis</th>\n",
       "    </tr>\n",
       "  </thead>\n",
       "  <tbody>\n",
       "    <tr>\n",
       "      <th>0</th>\n",
       "      <td>store</td>\n",
       "      <td>1.00</td>\n",
       "      <td>1115.00</td>\n",
       "      <td>1114.00</td>\n",
       "      <td>558.43</td>\n",
       "      <td>558.00</td>\n",
       "      <td>321.91</td>\n",
       "      <td>-0.00</td>\n",
       "      <td>-1.20</td>\n",
       "    </tr>\n",
       "    <tr>\n",
       "      <th>1</th>\n",
       "      <td>competition_distance</td>\n",
       "      <td>20.00</td>\n",
       "      <td>200000.00</td>\n",
       "      <td>199980.00</td>\n",
       "      <td>5935.44</td>\n",
       "      <td>2330.00</td>\n",
       "      <td>12547.65</td>\n",
       "      <td>10.24</td>\n",
       "      <td>147.79</td>\n",
       "    </tr>\n",
       "    <tr>\n",
       "      <th>2</th>\n",
       "      <td>competition_open_since_month</td>\n",
       "      <td>1.00</td>\n",
       "      <td>12.00</td>\n",
       "      <td>11.00</td>\n",
       "      <td>6.79</td>\n",
       "      <td>7.00</td>\n",
       "      <td>3.31</td>\n",
       "      <td>-0.04</td>\n",
       "      <td>-1.23</td>\n",
       "    </tr>\n",
       "    <tr>\n",
       "      <th>3</th>\n",
       "      <td>competition_open_since_year</td>\n",
       "      <td>1900.00</td>\n",
       "      <td>2015.00</td>\n",
       "      <td>115.00</td>\n",
       "      <td>2010.32</td>\n",
       "      <td>2012.00</td>\n",
       "      <td>5.52</td>\n",
       "      <td>-7.24</td>\n",
       "      <td>124.07</td>\n",
       "    </tr>\n",
       "    <tr>\n",
       "      <th>4</th>\n",
       "      <td>promo2</td>\n",
       "      <td>0.00</td>\n",
       "      <td>1.00</td>\n",
       "      <td>1.00</td>\n",
       "      <td>0.50</td>\n",
       "      <td>1.00</td>\n",
       "      <td>0.50</td>\n",
       "      <td>-0.00</td>\n",
       "      <td>-2.00</td>\n",
       "    </tr>\n",
       "    <tr>\n",
       "      <th>5</th>\n",
       "      <td>promo2_since_week</td>\n",
       "      <td>1.00</td>\n",
       "      <td>52.00</td>\n",
       "      <td>51.00</td>\n",
       "      <td>23.62</td>\n",
       "      <td>22.00</td>\n",
       "      <td>14.31</td>\n",
       "      <td>0.18</td>\n",
       "      <td>-1.18</td>\n",
       "    </tr>\n",
       "    <tr>\n",
       "      <th>6</th>\n",
       "      <td>promo2_since_year</td>\n",
       "      <td>2009.00</td>\n",
       "      <td>2015.00</td>\n",
       "      <td>6.00</td>\n",
       "      <td>2012.79</td>\n",
       "      <td>2013.00</td>\n",
       "      <td>1.66</td>\n",
       "      <td>-0.78</td>\n",
       "      <td>-0.21</td>\n",
       "    </tr>\n",
       "    <tr>\n",
       "      <th>7</th>\n",
       "      <td>day_of_week</td>\n",
       "      <td>1.00</td>\n",
       "      <td>7.00</td>\n",
       "      <td>6.00</td>\n",
       "      <td>4.00</td>\n",
       "      <td>4.00</td>\n",
       "      <td>2.00</td>\n",
       "      <td>0.00</td>\n",
       "      <td>-1.25</td>\n",
       "    </tr>\n",
       "    <tr>\n",
       "      <th>8</th>\n",
       "      <td>sales</td>\n",
       "      <td>0.00</td>\n",
       "      <td>41551.00</td>\n",
       "      <td>41551.00</td>\n",
       "      <td>5773.82</td>\n",
       "      <td>5744.00</td>\n",
       "      <td>3849.93</td>\n",
       "      <td>0.64</td>\n",
       "      <td>1.78</td>\n",
       "    </tr>\n",
       "    <tr>\n",
       "      <th>9</th>\n",
       "      <td>customers</td>\n",
       "      <td>0.00</td>\n",
       "      <td>7388.00</td>\n",
       "      <td>7388.00</td>\n",
       "      <td>633.15</td>\n",
       "      <td>609.00</td>\n",
       "      <td>464.41</td>\n",
       "      <td>1.60</td>\n",
       "      <td>7.09</td>\n",
       "    </tr>\n",
       "    <tr>\n",
       "      <th>10</th>\n",
       "      <td>open</td>\n",
       "      <td>0.00</td>\n",
       "      <td>1.00</td>\n",
       "      <td>1.00</td>\n",
       "      <td>0.83</td>\n",
       "      <td>1.00</td>\n",
       "      <td>0.38</td>\n",
       "      <td>-1.76</td>\n",
       "      <td>1.09</td>\n",
       "    </tr>\n",
       "    <tr>\n",
       "      <th>11</th>\n",
       "      <td>promo</td>\n",
       "      <td>0.00</td>\n",
       "      <td>1.00</td>\n",
       "      <td>1.00</td>\n",
       "      <td>0.38</td>\n",
       "      <td>0.00</td>\n",
       "      <td>0.49</td>\n",
       "      <td>0.49</td>\n",
       "      <td>-1.76</td>\n",
       "    </tr>\n",
       "    <tr>\n",
       "      <th>12</th>\n",
       "      <td>school_holiday</td>\n",
       "      <td>0.00</td>\n",
       "      <td>1.00</td>\n",
       "      <td>1.00</td>\n",
       "      <td>0.18</td>\n",
       "      <td>0.00</td>\n",
       "      <td>0.38</td>\n",
       "      <td>1.68</td>\n",
       "      <td>0.82</td>\n",
       "    </tr>\n",
       "    <tr>\n",
       "      <th>13</th>\n",
       "      <td>is_promo</td>\n",
       "      <td>0.00</td>\n",
       "      <td>1.00</td>\n",
       "      <td>1.00</td>\n",
       "      <td>0.17</td>\n",
       "      <td>0.00</td>\n",
       "      <td>0.38</td>\n",
       "      <td>1.74</td>\n",
       "      <td>1.03</td>\n",
       "    </tr>\n",
       "  </tbody>\n",
       "</table>\n",
       "</div>"
      ],
      "text/plain": [
       "                      attributes     min       max     range    mean  median      std  skew  kurtosis\n",
       "0                          store    1.00   1115.00   1114.00  558.43  558.00   321.91 -0.00     -1.20\n",
       "1           competition_distance   20.00 200000.00 199980.00 5935.44 2330.00 12547.65 10.24    147.79\n",
       "2   competition_open_since_month    1.00     12.00     11.00    6.79    7.00     3.31 -0.04     -1.23\n",
       "3    competition_open_since_year 1900.00   2015.00    115.00 2010.32 2012.00     5.52 -7.24    124.07\n",
       "4                         promo2    0.00      1.00      1.00    0.50    1.00     0.50 -0.00     -2.00\n",
       "5              promo2_since_week    1.00     52.00     51.00   23.62   22.00    14.31  0.18     -1.18\n",
       "6              promo2_since_year 2009.00   2015.00      6.00 2012.79 2013.00     1.66 -0.78     -0.21\n",
       "7                    day_of_week    1.00      7.00      6.00    4.00    4.00     2.00  0.00     -1.25\n",
       "8                          sales    0.00  41551.00  41551.00 5773.82 5744.00  3849.93  0.64      1.78\n",
       "9                      customers    0.00   7388.00   7388.00  633.15  609.00   464.41  1.60      7.09\n",
       "10                          open    0.00      1.00      1.00    0.83    1.00     0.38 -1.76      1.09\n",
       "11                         promo    0.00      1.00      1.00    0.38    0.00     0.49  0.49     -1.76\n",
       "12                school_holiday    0.00      1.00      1.00    0.18    0.00     0.38  1.68      0.82\n",
       "13                      is_promo    0.00      1.00      1.00    0.17    0.00     0.38  1.74      1.03"
      ]
     },
     "execution_count": 30,
     "metadata": {},
     "output_type": "execute_result"
    }
   ],
   "source": [
    "# Central Tendency: mean, median\n",
    "c1 = pd.DataFrame(num_attributes.apply(np.mean))\n",
    "c2 = pd.DataFrame(num_attributes.apply(np.median))\n",
    "\n",
    "# Dispersion: min, max, range, std, skew, kurtosis\n",
    "d1 = pd.DataFrame(num_attributes.apply(min))\n",
    "d2 = pd.DataFrame(num_attributes.apply(max))\n",
    "d3 = pd.DataFrame(num_attributes.apply(lambda x: np.max(x) - np.min(x)))\n",
    "d4 = pd.DataFrame(num_attributes.apply(lambda x: x.std()))\n",
    "d5 = pd.DataFrame(num_attributes.apply(lambda x: x.skew()))\n",
    "d6 = pd.DataFrame(num_attributes.apply(lambda x: x.kurtosis()))\n",
    "\n",
    "# concat\n",
    "m = pd.concat([d1,d2,d3,c1,c2,d4,d5,d6], axis=1).reset_index()\n",
    "m.columns = ['attributes', 'min', 'max', 'range', 'mean', 'median', 'std', 'skew', 'kurtosis']\n",
    "m"
   ]
  },
  {
   "cell_type": "markdown",
   "id": "special-compound",
   "metadata": {
    "heading_collapsed": true,
    "hidden": true
   },
   "source": [
    "### 1.7.2. Categorical Attributes"
   ]
  },
  {
   "cell_type": "code",
   "execution_count": 31,
   "id": "current-orleans",
   "metadata": {
    "ExecuteTime": {
     "end_time": "2021-04-09T18:26:30.156287Z",
     "start_time": "2021-04-09T18:26:29.049607Z"
    },
    "hidden": true
   },
   "outputs": [
    {
     "data": {
      "text/html": [
       "<div>\n",
       "<style scoped>\n",
       "    .dataframe tbody tr th:only-of-type {\n",
       "        vertical-align: middle;\n",
       "    }\n",
       "\n",
       "    .dataframe tbody tr th {\n",
       "        vertical-align: top;\n",
       "    }\n",
       "\n",
       "    .dataframe thead th {\n",
       "        text-align: right;\n",
       "    }\n",
       "</style>\n",
       "<table border=\"1\" class=\"dataframe\">\n",
       "  <thead>\n",
       "    <tr style=\"text-align: right;\">\n",
       "      <th></th>\n",
       "      <th>store_type</th>\n",
       "      <th>assortment</th>\n",
       "      <th>promo_interval</th>\n",
       "      <th>state_holiday</th>\n",
       "      <th>month_promo</th>\n",
       "    </tr>\n",
       "  </thead>\n",
       "  <tbody>\n",
       "    <tr>\n",
       "      <th>count</th>\n",
       "      <td>1017209</td>\n",
       "      <td>1017209</td>\n",
       "      <td>1017209</td>\n",
       "      <td>1017209</td>\n",
       "      <td>1017209</td>\n",
       "    </tr>\n",
       "    <tr>\n",
       "      <th>unique</th>\n",
       "      <td>4</td>\n",
       "      <td>3</td>\n",
       "      <td>4</td>\n",
       "      <td>4</td>\n",
       "      <td>12</td>\n",
       "    </tr>\n",
       "    <tr>\n",
       "      <th>top</th>\n",
       "      <td>a</td>\n",
       "      <td>a</td>\n",
       "      <td>0</td>\n",
       "      <td>0</td>\n",
       "      <td>Mar</td>\n",
       "    </tr>\n",
       "    <tr>\n",
       "      <th>freq</th>\n",
       "      <td>551627</td>\n",
       "      <td>537445</td>\n",
       "      <td>508031</td>\n",
       "      <td>986159</td>\n",
       "      <td>103695</td>\n",
       "    </tr>\n",
       "  </tbody>\n",
       "</table>\n",
       "</div>"
      ],
      "text/plain": [
       "       store_type assortment  promo_interval state_holiday month_promo\n",
       "count     1017209    1017209         1017209       1017209     1017209\n",
       "unique          4          3               4             4          12\n",
       "top             a          a               0             0         Mar\n",
       "freq       551627     537445          508031        986159      103695"
      ]
     },
     "execution_count": 31,
     "metadata": {},
     "output_type": "execute_result"
    }
   ],
   "source": [
    "cat_attributes.describe(include=['object'])"
   ]
  },
  {
   "cell_type": "code",
   "execution_count": 32,
   "id": "injured-referral",
   "metadata": {
    "ExecuteTime": {
     "end_time": "2021-04-09T18:26:30.990527Z",
     "start_time": "2021-04-09T18:26:30.158537Z"
    },
    "hidden": true
   },
   "outputs": [],
   "source": [
    "# pickle.dump(df1, open('../src/data/df1.pkl', 'wb'))"
   ]
  },
  {
   "cell_type": "markdown",
   "id": "regional-pantyhose",
   "metadata": {
    "heading_collapsed": true
   },
   "source": [
    "# 2.0. Feature Engineering"
   ]
  },
  {
   "cell_type": "code",
   "execution_count": 33,
   "id": "genuine-confidence",
   "metadata": {
    "ExecuteTime": {
     "end_time": "2021-04-09T18:26:31.195407Z",
     "start_time": "2021-04-09T18:26:30.993720Z"
    },
    "hidden": true
   },
   "outputs": [],
   "source": [
    "df2 = pickle.load(open('../src/data/df1.pkl', 'rb'))"
   ]
  },
  {
   "cell_type": "markdown",
   "id": "confident-employee",
   "metadata": {
    "ExecuteTime": {
     "end_time": "2021-04-06T17:53:22.942295Z",
     "start_time": "2021-04-06T17:53:22.934689Z"
    },
    "heading_collapsed": true,
    "hidden": true
   },
   "source": [
    "## 2.* Feature Engineering"
   ]
  },
  {
   "cell_type": "code",
   "execution_count": 34,
   "id": "extended-southeast",
   "metadata": {
    "ExecuteTime": {
     "end_time": "2021-04-09T18:28:02.448182Z",
     "start_time": "2021-04-09T18:26:31.197585Z"
    },
    "hidden": true
   },
   "outputs": [],
   "source": [
    "# date: year, month, day, week_of_year, year_week\n",
    "df2['year'] = df2['date'].dt.year\n",
    "df2['month'] = df2['date'].dt.month\n",
    "df2['day'] = df2['date'].dt.day\n",
    "df2['week_of_year'] = df2['date'].dt.isocalendar().week\n",
    "df2['year_week'] = df2['date'].dt.strftime('%Y-%W')\n",
    "\n",
    "# competition_open_since_year  - competition_open_since_month\n",
    "df2['competition_since'] = df2.apply(lambda x: datetime.datetime(year=x['competition_open_since_year'], month=x['competition_open_since_month'], day=1), axis=1)\n",
    "df2['competition_time_month'] = ((df2['date'] - df2['competition_since'])/30).apply(lambda x: x.days).astype(int)\n",
    "\n",
    "# promo2_since_year, promo2_since_week\n",
    "df2['promo_since'] = df2['promo2_since_year'].astype(str) + '-' + df2['promo2_since_week'].astype(str)\n",
    "df2['promo_since'] = df2['promo_since'].apply(lambda x: datetime.datetime.strptime( x + '-1', '%Y-%W-%w'))\n",
    "df2['promo_time_week'] = ((df2['date'] - df2['promo_since'])/7).apply(lambda x: x.days).astype(int)\n",
    "\n",
    "# public_holiday\n",
    "state_holiday_dict = {'a' : 'public_holiday', 'b' : 'easter_holiday', 'c' : 'christmas', '0' : 'regular_day'}\n",
    "df2['state_holiday'] = df2['state_holiday'].map(state_holiday_dict)\n",
    "\n",
    "# assortment\n",
    "assortment_dict = {'a' : 'basic', 'b' : 'extra', 'c' : 'extended'}\n",
    "df2['assortment'] = df2['assortment'].map(assortment_dict)"
   ]
  },
  {
   "cell_type": "code",
   "execution_count": 35,
   "id": "sustained-logan",
   "metadata": {
    "ExecuteTime": {
     "end_time": "2021-04-09T18:28:03.049244Z",
     "start_time": "2021-04-09T18:28:02.450278Z"
    },
    "hidden": true
   },
   "outputs": [],
   "source": [
    "# pickle.dump(df2, open('../src/data/df2.pkl', 'wb'))"
   ]
  },
  {
   "cell_type": "markdown",
   "id": "studied-technical",
   "metadata": {
    "heading_collapsed": true
   },
   "source": [
    "# 3.0. Data Filtering"
   ]
  },
  {
   "cell_type": "code",
   "execution_count": 51,
   "id": "competitive-intellectual",
   "metadata": {
    "ExecuteTime": {
     "end_time": "2021-04-09T18:33:33.515413Z",
     "start_time": "2021-04-09T18:33:33.124638Z"
    },
    "hidden": true
   },
   "outputs": [],
   "source": [
    "df3 = pickle.load(open('../src/data/df2.pkl', 'rb'))"
   ]
  },
  {
   "cell_type": "markdown",
   "id": "headed-bumper",
   "metadata": {
    "ExecuteTime": {
     "end_time": "2021-04-08T21:36:57.817051Z",
     "start_time": "2021-04-08T21:36:57.767146Z"
    },
    "heading_collapsed": true,
    "hidden": true
   },
   "source": [
    "## 3.1. Filter Rows"
   ]
  },
  {
   "cell_type": "code",
   "execution_count": 52,
   "id": "romantic-chosen",
   "metadata": {
    "ExecuteTime": {
     "end_time": "2021-04-09T18:33:34.201617Z",
     "start_time": "2021-04-09T18:33:33.654476Z"
    },
    "hidden": true
   },
   "outputs": [],
   "source": [
    "df3 = df3[(df3['open'] != 0)&(df3['sales'] > 0)]"
   ]
  },
  {
   "cell_type": "markdown",
   "id": "talented-lunch",
   "metadata": {
    "heading_collapsed": true,
    "hidden": true
   },
   "source": [
    "## 3.2. Filter Columns"
   ]
  },
  {
   "cell_type": "code",
   "execution_count": 53,
   "id": "recorded-richmond",
   "metadata": {
    "ExecuteTime": {
     "end_time": "2021-04-09T18:33:34.625622Z",
     "start_time": "2021-04-09T18:33:34.481061Z"
    },
    "hidden": true
   },
   "outputs": [],
   "source": [
    "drop_cols = ['open', 'month_promo', 'customers', 'promo_interval']\n",
    "df3 = df3.drop(drop_cols, axis=1)"
   ]
  },
  {
   "cell_type": "code",
   "execution_count": 54,
   "id": "regulated-zoning",
   "metadata": {
    "ExecuteTime": {
     "end_time": "2021-04-09T18:33:36.846232Z",
     "start_time": "2021-04-09T18:33:35.787774Z"
    },
    "hidden": true
   },
   "outputs": [],
   "source": [
    "# pickle.dump(df3, open('../src/data/df3.pkl', 'wb'))"
   ]
  },
  {
   "cell_type": "markdown",
   "id": "corporate-spirit",
   "metadata": {
    "heading_collapsed": true
   },
   "source": [
    "# 4.0. Exploratory Data Analysis"
   ]
  },
  {
   "cell_type": "code",
   "execution_count": 7,
   "id": "biblical-scotland",
   "metadata": {
    "ExecuteTime": {
     "end_time": "2021-04-25T20:37:44.402344Z",
     "start_time": "2021-04-25T20:37:43.672993Z"
    },
    "hidden": true
   },
   "outputs": [],
   "source": [
    "df4 = pickle.load(open('../src/data/df3.pkl', 'rb'))"
   ]
  },
  {
   "cell_type": "markdown",
   "id": "stupid-airport",
   "metadata": {
    "ExecuteTime": {
     "end_time": "2021-04-25T20:36:31.542220Z",
     "start_time": "2021-04-25T20:36:31.538908Z"
    },
    "heading_collapsed": true,
    "hidden": true
   },
   "source": [
    "## 4.1. Analysis Univariate"
   ]
  },
  {
   "cell_type": "markdown",
   "id": "refined-lightning",
   "metadata": {
    "ExecuteTime": {
     "end_time": "2021-04-25T20:39:40.983048Z",
     "start_time": "2021-04-25T20:39:40.978150Z"
    },
    "heading_collapsed": true,
    "hidden": true
   },
   "source": [
    "### 4.1.1. Response"
   ]
  },
  {
   "cell_type": "code",
   "execution_count": 11,
   "id": "declared-return",
   "metadata": {
    "ExecuteTime": {
     "end_time": "2021-04-25T20:40:00.537236Z",
     "start_time": "2021-04-25T20:39:58.531187Z"
    },
    "hidden": true
   },
   "outputs": [
    {
     "data": {
      "image/png": "[encoded data removed]",
      "text/plain": [
       "<Figure size 1800x864 with 1 Axes>"
      ]
     },
     "metadata": {},
     "output_type": "display_data"
    }
   ],
   "source": [
    "sns.histplot(df4['sales']);"
   ]
  },
  {
   "cell_type": "markdown",
   "id": "cubic-anniversary",
   "metadata": {
    "heading_collapsed": true,
    "hidden": true
   },
   "source": [
    "### 4.1.2. Numerical"
   ]
  },
  {
   "cell_type": "code",
   "execution_count": 8,
   "id": "better-houston",
   "metadata": {
    "ExecuteTime": {
     "end_time": "2021-04-25T20:37:51.248602Z",
     "start_time": "2021-04-25T20:37:46.052924Z"
    },
    "hidden": true
   },
   "outputs": [
    {
     "name": "stderr",
     "output_type": "stream",
     "text": [
      "/home/cid/.pyenv/versions/3.8.5/envs/rossmann-sales-forecast/lib/python3.8/site-packages/pandas/plotting/_matplotlib/tools.py:400: MatplotlibDeprecationWarning: \n",
      "The is_first_col function was deprecated in Matplotlib 3.4 and will be removed two minor releases later. Use ax.get_subplotspec().is_first_col() instead.\n",
      "  if ax.is_first_col():\n"
     ]
    },
    {
     "data": {
      "image/png": "[encoded data removed]",
      "text/plain": [
       "<Figure size 1800x864 with 25 Axes>"
      ]
     },
     "metadata": {},
     "output_type": "display_data"
    }
   ],
   "source": [
    "df4.hist();"
   ]
  },
  {
   "cell_type": "markdown",
   "id": "tested-measure",
   "metadata": {
    "heading_collapsed": true,
    "hidden": true
   },
   "source": [
    "### 4.1.3. Categorical"
   ]
  },
  {
   "cell_type": "code",
   "execution_count": 21,
   "id": "regional-console",
   "metadata": {
    "ExecuteTime": {
     "end_time": "2021-04-25T20:48:49.821631Z",
     "start_time": "2021-04-25T20:48:05.193529Z"
    },
    "hidden": true
   },
   "outputs": [
    {
     "data": {
      "image/png": "[encoded data removed]",
      "text/plain": [
       "<Figure size 1800x864 with 4 Axes>"
      ]
     },
     "metadata": {},
     "output_type": "display_data"
    }
   ],
   "source": [
    "plt.subplot(2,2,1)\n",
    "sns.countplot(data=df4, x='store_type')\n",
    "\n",
    "plt.subplot(2,2,2)\n",
    "sns.countplot(data=df4, x='assortment')\n",
    "\n",
    "plt.subplot(2,2,3)\n",
    "sns.countplot(data=df4, x='state_holiday')\n",
    "\n",
    "\n",
    "plt.subplot(2,2,4)\n",
    "sns.countplot(data=df4[df4['state_holiday'] != 'regular_day'], x='state_holiday')\n",
    "\n",
    "plt.show();"
   ]
  },
  {
   "cell_type": "markdown",
   "id": "meaning-appointment",
   "metadata": {
    "ExecuteTime": {
     "end_time": "2021-04-25T20:36:31.542220Z",
     "start_time": "2021-04-25T20:36:31.538908Z"
    },
    "heading_collapsed": true,
    "hidden": true
   },
   "source": [
    "## 4.2. Analysis Bivariate"
   ]
  },
  {
   "cell_type": "markdown",
   "id": "mature-blade",
   "metadata": {
    "ExecuteTime": {
     "end_time": "2021-04-25T20:36:31.542220Z",
     "start_time": "2021-04-25T20:36:31.538908Z"
    },
    "heading_collapsed": true,
    "hidden": true
   },
   "source": [
    "## 4.3. Analysis Multivariate"
   ]
  },
  {
   "cell_type": "code",
   "execution_count": 23,
   "id": "amended-senegal",
   "metadata": {
    "ExecuteTime": {
     "end_time": "2021-04-25T20:50:28.319288Z",
     "start_time": "2021-04-25T20:50:24.560593Z"
    },
    "hidden": true
   },
   "outputs": [
    {
     "data": {
      "image/png": "[encoded data removed]",
      "text/plain": [
       "<Figure size 1800x864 with 2 Axes>"
      ]
     },
     "metadata": {},
     "output_type": "display_data"
    }
   ],
   "source": [
    "correlation = df4.select_dtypes(include=['int64', 'float64']).corr(method='pearson')\n",
    "\n",
    "sns.heatmap(correlation, annot=True);"
   ]
  },
  {
   "cell_type": "markdown",
   "id": "dense-rehabilitation",
   "metadata": {
    "heading_collapsed": true
   },
   "source": [
    "# 5.0. Data Preparation\n",
    "\n"
   ]
  },
  {
   "cell_type": "code",
   "execution_count": 67,
   "id": "silent-measure",
   "metadata": {
    "ExecuteTime": {
     "end_time": "2021-04-09T18:34:54.540115Z",
     "start_time": "2021-04-09T18:34:54.290598Z"
    },
    "hidden": true
   },
   "outputs": [],
   "source": [
    "df5 = pickle.load(open('../src/data/df3.pkl', 'rb'))"
   ]
  },
  {
   "cell_type": "markdown",
   "id": "north-fault",
   "metadata": {
    "heading_collapsed": true,
    "hidden": true
   },
   "source": [
    "## 5.1. Standardization"
   ]
  },
  {
   "cell_type": "markdown",
   "id": "smart-opening",
   "metadata": {
    "ExecuteTime": {
     "end_time": "2021-04-08T21:50:57.039145Z",
     "start_time": "2021-04-08T21:50:57.032862Z"
    },
    "heading_collapsed": true,
    "hidden": true
   },
   "source": [
    "## 5.2. Scaling"
   ]
  },
  {
   "cell_type": "code",
   "execution_count": 68,
   "id": "maritime-watson",
   "metadata": {
    "ExecuteTime": {
     "end_time": "2021-04-09T18:34:55.796421Z",
     "start_time": "2021-04-09T18:34:55.449880Z"
    },
    "hidden": true
   },
   "outputs": [],
   "source": [
    "rs = pp.RobustScaler()\n",
    "mms = pp.MinMaxScaler()\n",
    "\n",
    "df5['competition_distance'] = rs.fit_transform(df5[['competition_distance']].values)\n",
    "df5['competition_time_month'] = rs.fit_transform(df5[['competition_time_month']].values)\n",
    "\n",
    "df5['promo_time_week'] = mms.fit_transform(df5[['promo_time_week']].values)\n",
    "df5['year'] = mms.fit_transform(df5[['year']].values)"
   ]
  },
  {
   "cell_type": "markdown",
   "id": "labeled-fundamental",
   "metadata": {
    "heading_collapsed": true,
    "hidden": true
   },
   "source": [
    "## 5.3. Transformation"
   ]
  },
  {
   "cell_type": "markdown",
   "id": "sought-terrain",
   "metadata": {
    "heading_collapsed": true,
    "hidden": true
   },
   "source": [
    "### 5.3.1. Encoding"
   ]
  },
  {
   "cell_type": "code",
   "execution_count": 69,
   "id": "solar-telling",
   "metadata": {
    "ExecuteTime": {
     "end_time": "2021-04-09T18:34:57.347132Z",
     "start_time": "2021-04-09T18:34:56.760431Z"
    },
    "hidden": true
   },
   "outputs": [],
   "source": [
    "# label encoder\n",
    "le = pp.LabelEncoder()\n",
    "df5['store_type'] = le.fit_transform(df5['store_type'])\n",
    "\n",
    "# OneHot Encoder\n",
    "df5 = pd.get_dummies(df5, prefix='state_holiday', columns=['state_holiday'])\n",
    "\n",
    "# Ordinal Encoder\n",
    "df5['assortment'] = df5['assortment'].map({'basic': 0, 'extended': 2, 'extra': 1})"
   ]
  },
  {
   "cell_type": "markdown",
   "id": "convertible-leather",
   "metadata": {
    "ExecuteTime": {
     "end_time": "2021-04-08T22:03:20.299139Z",
     "start_time": "2021-04-08T22:03:20.295559Z"
    },
    "heading_collapsed": true,
    "hidden": true
   },
   "source": [
    "### 5.3.2. Reponse Transformation"
   ]
  },
  {
   "cell_type": "code",
   "execution_count": 70,
   "id": "removable-proportion",
   "metadata": {
    "ExecuteTime": {
     "end_time": "2021-04-09T18:34:59.552384Z",
     "start_time": "2021-04-09T18:34:59.520670Z"
    },
    "hidden": true
   },
   "outputs": [],
   "source": [
    "df5['sales'] = np.log1p(df5['sales'])"
   ]
  },
  {
   "cell_type": "markdown",
   "id": "built-cooking",
   "metadata": {
    "heading_collapsed": true,
    "hidden": true
   },
   "source": [
    "### 5.3.3. Nature "
   ]
  },
  {
   "cell_type": "code",
   "execution_count": 71,
   "id": "altered-powell",
   "metadata": {
    "ExecuteTime": {
     "end_time": "2021-04-09T18:35:14.335453Z",
     "start_time": "2021-04-09T18:35:00.361931Z"
    },
    "hidden": true
   },
   "outputs": [],
   "source": [
    "df5['month_cos'] = df5['month'].apply(lambda x: np.cos(x * (2. * np.pi/12)))\n",
    "df5['month_sin'] = df5['month'].apply(lambda x: np.sin(x * (2. * np.pi/12)))\n",
    "\n",
    "df5['day_cos'] = df5['day'].apply(lambda x: np.cos(x * (2. * np.pi/31)))\n",
    "df5['day_sin'] = df5['day'].apply(lambda x: np.sin(x * (2. * np.pi/31)))\n",
    "\n",
    "df5['week_of_year_cos'] = df5['week_of_year'].apply(lambda x: np.cos(x * (2. * np.pi/52)))\n",
    "df5['week_of_year_sin'] = df5['week_of_year'].apply(lambda x: np.sin(x * (2. * np.pi/52)))\n",
    "\n",
    "df5['day_of_week_cos'] = df5['day_of_week'].apply(lambda x: np.cos(x * (2. * np.pi/7)))\n",
    "df5['day_of_week_sin'] = df5['day_of_week'].apply(lambda x: np.sin(x * (2. * np.pi/7)))"
   ]
  },
  {
   "cell_type": "code",
   "execution_count": 74,
   "id": "editorial-cancer",
   "metadata": {
    "ExecuteTime": {
     "end_time": "2021-04-09T18:35:26.042049Z",
     "start_time": "2021-04-09T18:35:24.879689Z"
    },
    "hidden": true
   },
   "outputs": [],
   "source": [
    "# pickle.dump(df5, open('../src/data/df5.pkl', 'wb'))"
   ]
  },
  {
   "cell_type": "markdown",
   "id": "seeing-arnold",
   "metadata": {},
   "source": [
    "# 6.0. Selection Feature"
   ]
  },
  {
   "cell_type": "code",
   "execution_count": 8,
   "id": "human-invasion",
   "metadata": {
    "ExecuteTime": {
     "end_time": "2021-04-29T11:15:27.119832Z",
     "start_time": "2021-04-29T11:15:26.148182Z"
    }
   },
   "outputs": [],
   "source": [
    "df6 = pickle.load(open('../src/data/df5.pkl', 'rb'))"
   ]
  },
  {
   "cell_type": "markdown",
   "id": "industrial-independence",
   "metadata": {},
   "source": [
    "## 6.1. Splitting data into training and test datasets"
   ]
  },
  {
   "cell_type": "code",
   "execution_count": 9,
   "id": "chubby-asbestos",
   "metadata": {
    "ExecuteTime": {
     "end_time": "2021-04-29T11:15:27.680487Z",
     "start_time": "2021-04-29T11:15:27.122740Z"
    }
   },
   "outputs": [],
   "source": [
    "drop_cols = ['day_of_week', 'month', 'day', 'week_of_year', 'year_week', 'competition_since', 'promo_since']\n",
    "df6 = df6.drop(drop_cols, axis=1)"
   ]
  },
  {
   "cell_type": "code",
   "execution_count": 10,
   "id": "contained-medicine",
   "metadata": {
    "ExecuteTime": {
     "end_time": "2021-04-29T11:15:27.717087Z",
     "start_time": "2021-04-29T11:15:27.684144Z"
    }
   },
   "outputs": [
    {
     "data": {
      "text/plain": [
       "Timestamp('2015-06-19 00:00:00')"
      ]
     },
     "execution_count": 10,
     "metadata": {},
     "output_type": "execute_result"
    }
   ],
   "source": [
    "df6[['store', 'date']].groupby('store').max().reset_index()['date'][0] - datetime.timedelta(days=6*7)"
   ]
  },
  {
   "cell_type": "code",
   "execution_count": 11,
   "id": "victorian-sleeping",
   "metadata": {
    "ExecuteTime": {
     "end_time": "2021-04-29T11:15:27.956590Z",
     "start_time": "2021-04-29T11:15:27.720112Z"
    }
   },
   "outputs": [],
   "source": [
    "X_train = df6[df6['date'] < '2015-06-19']\n",
    "y_train = X_train['sales']\n",
    "\n",
    "X_test = df6[df6['date'] >= '2015-06-19']\n",
    "y_test = X_test['sales']"
   ]
  },
  {
   "cell_type": "markdown",
   "id": "round-flood",
   "metadata": {},
   "source": [
    "## 6.2. Boruta as a Feature Selection"
   ]
  },
  {
   "cell_type": "code",
   "execution_count": 12,
   "id": "private-equation",
   "metadata": {
    "ExecuteTime": {
     "end_time": "2021-04-29T11:15:27.962608Z",
     "start_time": "2021-04-29T11:15:27.959405Z"
    }
   },
   "outputs": [],
   "source": [
    "# X_train_fs = X_train.drop(['sales', 'date'], axis=1).values\n",
    "# y_train_fs = y_train.values.ravel()\n",
    "\n",
    "# rf = en.RandomForestRegressor(n_jobs=1)\n",
    "\n",
    "# boruta = BorutaPy(rf, n_estimators='auto', verbose=2, random_state=42).fit(X_train_fs, y_train_fs)"
   ]
  },
  {
   "cell_type": "code",
   "execution_count": 13,
   "id": "cordless-truth",
   "metadata": {
    "ExecuteTime": {
     "end_time": "2021-04-29T11:15:27.968601Z",
     "start_time": "2021-04-29T11:15:27.965369Z"
    }
   },
   "outputs": [],
   "source": [
    "# cols_selected_boruta = X_train.drop(['date', 'sales'], axis=1).loc[:, boruta.support_].columns.tolist()\n",
    "# cols_not_selected_boruta = np.setdiff1d(X_train.drop(['date', 'sales'], axis=1).columns.tolist(), cols_selected_boruta).tolist()"
   ]
  },
  {
   "cell_type": "markdown",
   "id": "joint-motel",
   "metadata": {},
   "source": [
    "## 6.3. Manual Selection "
   ]
  },
  {
   "cell_type": "code",
   "execution_count": 14,
   "id": "framed-monster",
   "metadata": {
    "ExecuteTime": {
     "end_time": "2021-04-29T11:15:27.975756Z",
     "start_time": "2021-04-29T11:15:27.970938Z"
    }
   },
   "outputs": [],
   "source": [
    "cols_selected_boruta = ['store','store_type','assortment',\n",
    "                        'competition_distance','competition_open_since_month',\n",
    "                        'competition_open_since_year','promo2','promo2_since_week',\n",
    "                        'promo2_since_year','promo',\n",
    "                        'competition_time_month','promo_time_week',\n",
    "                        'month_cos','month_sin','day_cos','day_sin',\n",
    "                        'week_of_year_cos','week_of_year_sin',\n",
    "                        'day_of_week_cos','day_of_week_sin']\n",
    "\n",
    "cols_selected_boruta_full = cols_selected_boruta.copy()\n",
    "feat_add = ['sales', 'date']\n",
    "cols_selected_boruta_full.extend(feat_add)"
   ]
  },
  {
   "cell_type": "markdown",
   "id": "straight-girlfriend",
   "metadata": {},
   "source": [
    "# 7.0. Machine Learning Modelling"
   ]
  },
  {
   "cell_type": "code",
   "execution_count": 15,
   "id": "quiet-mining",
   "metadata": {
    "ExecuteTime": {
     "end_time": "2021-04-29T11:15:28.149693Z",
     "start_time": "2021-04-29T11:15:27.978810Z"
    }
   },
   "outputs": [],
   "source": [
    "x_train = X_train[cols_selected_boruta]\n",
    "x_test = X_test[cols_selected_boruta]\n",
    "\n",
    "x_training = X_train[cols_selected_boruta_full]"
   ]
  },
  {
   "cell_type": "markdown",
   "id": "parental-chile",
   "metadata": {},
   "source": [
    "## 7.1. Average Model"
   ]
  },
  {
   "cell_type": "code",
   "execution_count": 13,
   "id": "adaptive-edgar",
   "metadata": {
    "ExecuteTime": {
     "end_time": "2021-04-23T17:12:57.144891Z",
     "start_time": "2021-04-23T17:12:57.070511Z"
    }
   },
   "outputs": [
    {
     "data": {
      "text/html": [
       "<div>\n",
       "<style scoped>\n",
       "    .dataframe tbody tr th:only-of-type {\n",
       "        vertical-align: middle;\n",
       "    }\n",
       "\n",
       "    .dataframe tbody tr th {\n",
       "        vertical-align: top;\n",
       "    }\n",
       "\n",
       "    .dataframe thead th {\n",
       "        text-align: right;\n",
       "    }\n",
       "</style>\n",
       "<table border=\"1\" class=\"dataframe\">\n",
       "  <thead>\n",
       "    <tr style=\"text-align: right;\">\n",
       "      <th></th>\n",
       "      <th>Model Name</th>\n",
       "      <th>MAE</th>\n",
       "      <th>MAPE</th>\n",
       "      <th>RMSE</th>\n",
       "    </tr>\n",
       "  </thead>\n",
       "  <tbody>\n",
       "    <tr>\n",
       "      <th>0</th>\n",
       "      <td>Average Model</td>\n",
       "      <td>1354.80</td>\n",
       "      <td>0.41</td>\n",
       "      <td>1835.14</td>\n",
       "    </tr>\n",
       "  </tbody>\n",
       "</table>\n",
       "</div>"
      ],
      "text/plain": [
       "      Model Name     MAE  MAPE    RMSE\n",
       "0  Average Model 1354.80  0.41 1835.14"
      ]
     },
     "execution_count": 13,
     "metadata": {},
     "output_type": "execute_result"
    }
   ],
   "source": [
    "aux1 = x_test.copy()\n",
    "aux1['sales'] = y_test.copy()\n",
    "\n",
    "aux2 = aux1[['store', 'sales']].groupby('store').mean().reset_index().rename(columns={'sales': 'predictions'})\n",
    "aux2 = pd.merge(aux1, aux2, on='store', how='left')\n",
    "yhat_baseline = aux2['predictions']\n",
    "\n",
    "# perfomance\n",
    "result_baseline = ml_error('Average Model', np.expm1(y_test), np.expm1(yhat_baseline))\n",
    "result_baseline"
   ]
  },
  {
   "cell_type": "markdown",
   "id": "vital-writer",
   "metadata": {
    "heading_collapsed": true
   },
   "source": [
    "## 7.2. Linear Regression"
   ]
  },
  {
   "cell_type": "code",
   "execution_count": 16,
   "id": "lucky-barcelona",
   "metadata": {
    "ExecuteTime": {
     "end_time": "2021-04-23T17:16:16.545312Z",
     "start_time": "2021-04-23T17:16:15.386874Z"
    },
    "hidden": true
   },
   "outputs": [
    {
     "data": {
      "text/html": [
       "<div>\n",
       "<style scoped>\n",
       "    .dataframe tbody tr th:only-of-type {\n",
       "        vertical-align: middle;\n",
       "    }\n",
       "\n",
       "    .dataframe tbody tr th {\n",
       "        vertical-align: top;\n",
       "    }\n",
       "\n",
       "    .dataframe thead th {\n",
       "        text-align: right;\n",
       "    }\n",
       "</style>\n",
       "<table border=\"1\" class=\"dataframe\">\n",
       "  <thead>\n",
       "    <tr style=\"text-align: right;\">\n",
       "      <th></th>\n",
       "      <th>Model Name</th>\n",
       "      <th>MAE</th>\n",
       "      <th>MAPE</th>\n",
       "      <th>RMSE</th>\n",
       "    </tr>\n",
       "  </thead>\n",
       "  <tbody>\n",
       "    <tr>\n",
       "      <th>0</th>\n",
       "      <td>Linear Regression</td>\n",
       "      <td>1867.65</td>\n",
       "      <td>0.29</td>\n",
       "      <td>2671.33</td>\n",
       "    </tr>\n",
       "  </tbody>\n",
       "</table>\n",
       "</div>"
      ],
      "text/plain": [
       "          Model Name     MAE  MAPE    RMSE\n",
       "0  Linear Regression 1867.65  0.29 2671.33"
      ]
     },
     "execution_count": 16,
     "metadata": {},
     "output_type": "execute_result"
    }
   ],
   "source": [
    "# model defition and training\n",
    "lr_model = lm.LinearRegression().fit(x_train, y_train)\n",
    "\n",
    "# predictions\n",
    "yhat_lr = lr_model.predict(x_test)\n",
    "\n",
    "# perfomance\n",
    "result_lr = ml_error('Linear Regression', np.expm1(y_test), np.expm1(yhat_lr))\n",
    "result_lr"
   ]
  },
  {
   "cell_type": "markdown",
   "id": "latin-tuesday",
   "metadata": {
    "heading_collapsed": true,
    "hidden": true
   },
   "source": [
    "### 7.2.1.  Linear Regression - Cross Validation"
   ]
  },
  {
   "cell_type": "code",
   "execution_count": 21,
   "id": "academic-florida",
   "metadata": {
    "ExecuteTime": {
     "end_time": "2021-04-23T17:18:06.003054Z",
     "start_time": "2021-04-23T17:18:01.138179Z"
    },
    "hidden": true
   },
   "outputs": [
    {
     "data": {
      "text/html": [
       "<div>\n",
       "<style scoped>\n",
       "    .dataframe tbody tr th:only-of-type {\n",
       "        vertical-align: middle;\n",
       "    }\n",
       "\n",
       "    .dataframe tbody tr th {\n",
       "        vertical-align: top;\n",
       "    }\n",
       "\n",
       "    .dataframe thead th {\n",
       "        text-align: right;\n",
       "    }\n",
       "</style>\n",
       "<table border=\"1\" class=\"dataframe\">\n",
       "  <thead>\n",
       "    <tr style=\"text-align: right;\">\n",
       "      <th></th>\n",
       "      <th>Model Name</th>\n",
       "      <th>MAE CV</th>\n",
       "      <th>MAPE CV</th>\n",
       "      <th>RMSE CV</th>\n",
       "    </tr>\n",
       "  </thead>\n",
       "  <tbody>\n",
       "    <tr>\n",
       "      <th>0</th>\n",
       "      <td>Linear Regression</td>\n",
       "      <td>2081.31 +/- 295.69</td>\n",
       "      <td>0.3 +/- 0.02</td>\n",
       "      <td>2951.88 +/- 468.22</td>\n",
       "    </tr>\n",
       "  </tbody>\n",
       "</table>\n",
       "</div>"
      ],
      "text/plain": [
       "          Model Name              MAE CV       MAPE CV             RMSE CV\n",
       "0  Linear Regression  2081.31 +/- 295.69  0.3 +/- 0.02  2951.88 +/- 468.22"
      ]
     },
     "execution_count": 21,
     "metadata": {},
     "output_type": "execute_result"
    }
   ],
   "source": [
    "result_lr_cv = cross_validation(x_training, 5, 'Linear Regression', lr_model)\n",
    "result_lr_cv"
   ]
  },
  {
   "cell_type": "markdown",
   "id": "vertical-australia",
   "metadata": {
    "heading_collapsed": true
   },
   "source": [
    "## 7.3. Linear Regression - Lasso"
   ]
  },
  {
   "cell_type": "code",
   "execution_count": 24,
   "id": "universal-survey",
   "metadata": {
    "ExecuteTime": {
     "end_time": "2021-04-23T17:21:42.386698Z",
     "start_time": "2021-04-23T17:21:41.911246Z"
    },
    "hidden": true
   },
   "outputs": [
    {
     "data": {
      "text/html": [
       "<div>\n",
       "<style scoped>\n",
       "    .dataframe tbody tr th:only-of-type {\n",
       "        vertical-align: middle;\n",
       "    }\n",
       "\n",
       "    .dataframe tbody tr th {\n",
       "        vertical-align: top;\n",
       "    }\n",
       "\n",
       "    .dataframe thead th {\n",
       "        text-align: right;\n",
       "    }\n",
       "</style>\n",
       "<table border=\"1\" class=\"dataframe\">\n",
       "  <thead>\n",
       "    <tr style=\"text-align: right;\">\n",
       "      <th></th>\n",
       "      <th>Model Name</th>\n",
       "      <th>MAE</th>\n",
       "      <th>MAPE</th>\n",
       "      <th>RMSE</th>\n",
       "    </tr>\n",
       "  </thead>\n",
       "  <tbody>\n",
       "    <tr>\n",
       "      <th>0</th>\n",
       "      <td>Linear Regression - Lasso</td>\n",
       "      <td>2198.58</td>\n",
       "      <td>0.34</td>\n",
       "      <td>3110.51</td>\n",
       "    </tr>\n",
       "  </tbody>\n",
       "</table>\n",
       "</div>"
      ],
      "text/plain": [
       "                  Model Name     MAE  MAPE    RMSE\n",
       "0  Linear Regression - Lasso 2198.58  0.34 3110.51"
      ]
     },
     "execution_count": 24,
     "metadata": {},
     "output_type": "execute_result"
    }
   ],
   "source": [
    "# model definition and training\n",
    "lrr_model = lm.Lasso(alpha=1.0, normalize=False, random_state=43).fit(x_train, y_train)\n",
    "\n",
    "# predictions\n",
    "yhat_lrr = lrr_model.predict(x_test)\n",
    "\n",
    "# perfomance\n",
    "result_lrr = ml_error('Linear Regression - Lasso', np.expm1(y_test), np.expm1(yhat_lrr))\n",
    "result_lrr"
   ]
  },
  {
   "cell_type": "markdown",
   "id": "ranging-strand",
   "metadata": {
    "heading_collapsed": true,
    "hidden": true
   },
   "source": [
    "### 7.3.1 Linear Regression - Lasso - Cross Validation"
   ]
  },
  {
   "cell_type": "code",
   "execution_count": 25,
   "id": "seasonal-washington",
   "metadata": {
    "ExecuteTime": {
     "end_time": "2021-04-23T17:21:46.703130Z",
     "start_time": "2021-04-23T17:21:43.669584Z"
    },
    "hidden": true
   },
   "outputs": [
    {
     "data": {
      "text/html": [
       "<div>\n",
       "<style scoped>\n",
       "    .dataframe tbody tr th:only-of-type {\n",
       "        vertical-align: middle;\n",
       "    }\n",
       "\n",
       "    .dataframe tbody tr th {\n",
       "        vertical-align: top;\n",
       "    }\n",
       "\n",
       "    .dataframe thead th {\n",
       "        text-align: right;\n",
       "    }\n",
       "</style>\n",
       "<table border=\"1\" class=\"dataframe\">\n",
       "  <thead>\n",
       "    <tr style=\"text-align: right;\">\n",
       "      <th></th>\n",
       "      <th>Model Name</th>\n",
       "      <th>MAE CV</th>\n",
       "      <th>MAPE CV</th>\n",
       "      <th>RMSE CV</th>\n",
       "    </tr>\n",
       "  </thead>\n",
       "  <tbody>\n",
       "    <tr>\n",
       "      <th>0</th>\n",
       "      <td>Linear Regression - Lasso</td>\n",
       "      <td>2388.68 +/- 398.48</td>\n",
       "      <td>0.34 +/- 0.01</td>\n",
       "      <td>3369.37 +/- 567.55</td>\n",
       "    </tr>\n",
       "  </tbody>\n",
       "</table>\n",
       "</div>"
      ],
      "text/plain": [
       "                  Model Name              MAE CV        MAPE CV             RMSE CV\n",
       "0  Linear Regression - Lasso  2388.68 +/- 398.48  0.34 +/- 0.01  3369.37 +/- 567.55"
      ]
     },
     "execution_count": 25,
     "metadata": {},
     "output_type": "execute_result"
    }
   ],
   "source": [
    "result_lrr_cv = cross_validation(x_training, 5, 'Linear Regression - Lasso', lrr_model)\n",
    "result_lrr_cv"
   ]
  },
  {
   "cell_type": "markdown",
   "id": "frequent-european",
   "metadata": {},
   "source": [
    "## 7.4. Random Forest Regressor"
   ]
  },
  {
   "cell_type": "code",
   "execution_count": 14,
   "id": "advised-flower",
   "metadata": {
    "ExecuteTime": {
     "end_time": "2021-04-23T17:47:49.983161Z",
     "start_time": "2021-04-23T17:37:26.498054Z"
    },
    "scrolled": true
   },
   "outputs": [
    {
     "data": {
      "text/html": [
       "<div>\n",
       "<style scoped>\n",
       "    .dataframe tbody tr th:only-of-type {\n",
       "        vertical-align: middle;\n",
       "    }\n",
       "\n",
       "    .dataframe tbody tr th {\n",
       "        vertical-align: top;\n",
       "    }\n",
       "\n",
       "    .dataframe thead th {\n",
       "        text-align: right;\n",
       "    }\n",
       "</style>\n",
       "<table border=\"1\" class=\"dataframe\">\n",
       "  <thead>\n",
       "    <tr style=\"text-align: right;\">\n",
       "      <th></th>\n",
       "      <th>Model Name</th>\n",
       "      <th>MAE</th>\n",
       "      <th>MAPE</th>\n",
       "      <th>RMSE</th>\n",
       "    </tr>\n",
       "  </thead>\n",
       "  <tbody>\n",
       "    <tr>\n",
       "      <th>0</th>\n",
       "      <td>Random Forest Regressor</td>\n",
       "      <td>682.98</td>\n",
       "      <td>0.10</td>\n",
       "      <td>1014.89</td>\n",
       "    </tr>\n",
       "  </tbody>\n",
       "</table>\n",
       "</div>"
      ],
      "text/plain": [
       "                Model Name    MAE  MAPE    RMSE\n",
       "0  Random Forest Regressor 682.98  0.10 1014.89"
      ]
     },
     "execution_count": 14,
     "metadata": {},
     "output_type": "execute_result"
    }
   ],
   "source": [
    "# model definition and training\n",
    "rf_model = en.RandomForestRegressor(n_estimators=100, \n",
    "                                    max_depth=None, \n",
    "                                    max_features='auto', \n",
    "                                    min_samples_split=2, \n",
    "                                    random_state=42).fit(x_train, y_train)\n",
    "\n",
    "# predictions\n",
    "yhat_rf = rf_model.predict(x_test)\n",
    "\n",
    "# perfomance\n",
    "result_rf = ml_error('Random Forest Regressor', np.expm1(y_test) ,np.expm1(yhat_rf))\n",
    "result_rf"
   ]
  },
  {
   "cell_type": "markdown",
   "id": "nervous-chemistry",
   "metadata": {
    "ExecuteTime": {
     "end_time": "2021-04-23T17:32:46.284614Z",
     "start_time": "2021-04-23T17:32:46.282307Z"
    },
    "heading_collapsed": true
   },
   "source": [
    "### 7.4.1 Random Forest Regressor - Cross Validation\n",
    "\n"
   ]
  },
  {
   "cell_type": "code",
   "execution_count": 28,
   "id": "prepared-tackle",
   "metadata": {
    "ExecuteTime": {
     "end_time": "2021-04-23T18:31:40.425110Z",
     "start_time": "2021-04-23T17:47:50.108672Z"
    },
    "hidden": true
   },
   "outputs": [
    {
     "data": {
      "text/html": [
       "<div>\n",
       "<style scoped>\n",
       "    .dataframe tbody tr th:only-of-type {\n",
       "        vertical-align: middle;\n",
       "    }\n",
       "\n",
       "    .dataframe tbody tr th {\n",
       "        vertical-align: top;\n",
       "    }\n",
       "\n",
       "    .dataframe thead th {\n",
       "        text-align: right;\n",
       "    }\n",
       "</style>\n",
       "<table border=\"1\" class=\"dataframe\">\n",
       "  <thead>\n",
       "    <tr style=\"text-align: right;\">\n",
       "      <th></th>\n",
       "      <th>Model Name</th>\n",
       "      <th>MAE CV</th>\n",
       "      <th>MAPE CV</th>\n",
       "      <th>RMSE CV</th>\n",
       "    </tr>\n",
       "  </thead>\n",
       "  <tbody>\n",
       "    <tr>\n",
       "      <th>0</th>\n",
       "      <td>Random Forest Regressor</td>\n",
       "      <td>862.94 +/- 252.82</td>\n",
       "      <td>0.12 +/- 0.03</td>\n",
       "      <td>1302.55 +/- 390.2</td>\n",
       "    </tr>\n",
       "  </tbody>\n",
       "</table>\n",
       "</div>"
      ],
      "text/plain": [
       "                Model Name             MAE CV        MAPE CV            RMSE CV\n",
       "0  Random Forest Regressor  862.94 +/- 252.82  0.12 +/- 0.03  1302.55 +/- 390.2"
      ]
     },
     "execution_count": 28,
     "metadata": {},
     "output_type": "execute_result"
    }
   ],
   "source": [
    "result_rf_cv = cross_validation(x_training, 5, 'Random Forest Regressor', rf_model)\n",
    "result_rf_cv"
   ]
  },
  {
   "cell_type": "markdown",
   "id": "liquid-engine",
   "metadata": {
    "heading_collapsed": true
   },
   "source": [
    "## 7.5.XGBoost Regressor"
   ]
  },
  {
   "cell_type": "code",
   "execution_count": 29,
   "id": "young-catering",
   "metadata": {
    "ExecuteTime": {
     "end_time": "2021-04-23T18:33:15.009272Z",
     "start_time": "2021-04-23T18:31:40.433550Z"
    },
    "hidden": true
   },
   "outputs": [
    {
     "data": {
      "text/html": [
       "<div>\n",
       "<style scoped>\n",
       "    .dataframe tbody tr th:only-of-type {\n",
       "        vertical-align: middle;\n",
       "    }\n",
       "\n",
       "    .dataframe tbody tr th {\n",
       "        vertical-align: top;\n",
       "    }\n",
       "\n",
       "    .dataframe thead th {\n",
       "        text-align: right;\n",
       "    }\n",
       "</style>\n",
       "<table border=\"1\" class=\"dataframe\">\n",
       "  <thead>\n",
       "    <tr style=\"text-align: right;\">\n",
       "      <th></th>\n",
       "      <th>Model Name</th>\n",
       "      <th>MAE</th>\n",
       "      <th>MAPE</th>\n",
       "      <th>RMSE</th>\n",
       "    </tr>\n",
       "  </thead>\n",
       "  <tbody>\n",
       "    <tr>\n",
       "      <th>0</th>\n",
       "      <td>XGBoost Regressor</td>\n",
       "      <td>1810.11</td>\n",
       "      <td>0.27</td>\n",
       "      <td>2608.08</td>\n",
       "    </tr>\n",
       "  </tbody>\n",
       "</table>\n",
       "</div>"
      ],
      "text/plain": [
       "          Model Name     MAE  MAPE    RMSE\n",
       "0  XGBoost Regressor 1810.11  0.27 2608.08"
      ]
     },
     "execution_count": 29,
     "metadata": {},
     "output_type": "execute_result"
    }
   ],
   "source": [
    "# model definition and training\n",
    "xgb_model = xgb.XGBRFRegressor(objective='reg:squarederror', \n",
    "                               n_estimators=100, \n",
    "                               eta=0.3, max_depth=6, \n",
    "                               subsample=1, \n",
    "                               colsample_bytree=1, \n",
    "                               random_state=42 ).fit(x_train, y_train)\n",
    "\n",
    "# predictions\n",
    "yhat_xgb = xgb_model.predict(x_test)\n",
    "\n",
    "# perfomance\n",
    "result_xgb = ml_error('XGBoost Regressor', np.expm1(y_test) ,np.expm1(yhat_xgb))\n",
    "result_xgb"
   ]
  },
  {
   "cell_type": "markdown",
   "id": "metallic-announcement",
   "metadata": {
    "heading_collapsed": true,
    "hidden": true
   },
   "source": [
    "### 7.5.1 XGBoost Regressor - Cross Validation"
   ]
  },
  {
   "cell_type": "code",
   "execution_count": 30,
   "id": "purple-aircraft",
   "metadata": {
    "ExecuteTime": {
     "end_time": "2021-04-23T18:39:54.040331Z",
     "start_time": "2021-04-23T18:33:15.012657Z"
    },
    "hidden": true
   },
   "outputs": [
    {
     "data": {
      "text/html": [
       "<div>\n",
       "<style scoped>\n",
       "    .dataframe tbody tr th:only-of-type {\n",
       "        vertical-align: middle;\n",
       "    }\n",
       "\n",
       "    .dataframe tbody tr th {\n",
       "        vertical-align: top;\n",
       "    }\n",
       "\n",
       "    .dataframe thead th {\n",
       "        text-align: right;\n",
       "    }\n",
       "</style>\n",
       "<table border=\"1\" class=\"dataframe\">\n",
       "  <thead>\n",
       "    <tr style=\"text-align: right;\">\n",
       "      <th></th>\n",
       "      <th>Model Name</th>\n",
       "      <th>MAE CV</th>\n",
       "      <th>MAPE CV</th>\n",
       "      <th>RMSE CV</th>\n",
       "    </tr>\n",
       "  </thead>\n",
       "  <tbody>\n",
       "    <tr>\n",
       "      <th>0</th>\n",
       "      <td>XGBoost Regressor</td>\n",
       "      <td>2008.59 +/- 295.77</td>\n",
       "      <td>0.28 +/- 0.01</td>\n",
       "      <td>2869.88 +/- 435.55</td>\n",
       "    </tr>\n",
       "  </tbody>\n",
       "</table>\n",
       "</div>"
      ],
      "text/plain": [
       "          Model Name              MAE CV        MAPE CV             RMSE CV\n",
       "0  XGBoost Regressor  2008.59 +/- 295.77  0.28 +/- 0.01  2869.88 +/- 435.55"
      ]
     },
     "execution_count": 30,
     "metadata": {},
     "output_type": "execute_result"
    }
   ],
   "source": [
    "result_xgb_cv = cross_validation(x_training, 5, 'XGBoost Regressor', xgb_model)\n",
    "result_xgb_cv"
   ]
  },
  {
   "cell_type": "markdown",
   "id": "roman-quest",
   "metadata": {},
   "source": [
    "## 7.6. Machine Learning Model's Performance"
   ]
  },
  {
   "cell_type": "markdown",
   "id": "announced-cancellation",
   "metadata": {},
   "source": [
    "### 7.6.1. Single Perfomance"
   ]
  },
  {
   "cell_type": "code",
   "execution_count": 34,
   "id": "fifth-publicity",
   "metadata": {
    "ExecuteTime": {
     "end_time": "2021-04-23T18:45:54.820224Z",
     "start_time": "2021-04-23T18:45:54.804463Z"
    }
   },
   "outputs": [
    {
     "data": {
      "text/html": [
       "<div>\n",
       "<style scoped>\n",
       "    .dataframe tbody tr th:only-of-type {\n",
       "        vertical-align: middle;\n",
       "    }\n",
       "\n",
       "    .dataframe tbody tr th {\n",
       "        vertical-align: top;\n",
       "    }\n",
       "\n",
       "    .dataframe thead th {\n",
       "        text-align: right;\n",
       "    }\n",
       "</style>\n",
       "<table border=\"1\" class=\"dataframe\">\n",
       "  <thead>\n",
       "    <tr style=\"text-align: right;\">\n",
       "      <th></th>\n",
       "      <th>Model Name</th>\n",
       "      <th>MAE</th>\n",
       "      <th>MAPE</th>\n",
       "      <th>RMSE</th>\n",
       "    </tr>\n",
       "  </thead>\n",
       "  <tbody>\n",
       "    <tr>\n",
       "      <th>0</th>\n",
       "      <td>Random Forest Regressor</td>\n",
       "      <td>682.75</td>\n",
       "      <td>0.10</td>\n",
       "      <td>1014.47</td>\n",
       "    </tr>\n",
       "    <tr>\n",
       "      <th>0</th>\n",
       "      <td>Average Model</td>\n",
       "      <td>1354.80</td>\n",
       "      <td>0.41</td>\n",
       "      <td>1835.14</td>\n",
       "    </tr>\n",
       "    <tr>\n",
       "      <th>0</th>\n",
       "      <td>XGBoost Regressor</td>\n",
       "      <td>1810.11</td>\n",
       "      <td>0.27</td>\n",
       "      <td>2608.08</td>\n",
       "    </tr>\n",
       "    <tr>\n",
       "      <th>0</th>\n",
       "      <td>Linear Regression</td>\n",
       "      <td>1867.65</td>\n",
       "      <td>0.29</td>\n",
       "      <td>2671.33</td>\n",
       "    </tr>\n",
       "    <tr>\n",
       "      <th>0</th>\n",
       "      <td>Linear Regression - Lasso</td>\n",
       "      <td>2198.58</td>\n",
       "      <td>0.34</td>\n",
       "      <td>3110.51</td>\n",
       "    </tr>\n",
       "  </tbody>\n",
       "</table>\n",
       "</div>"
      ],
      "text/plain": [
       "                  Model Name     MAE  MAPE    RMSE\n",
       "0    Random Forest Regressor  682.75  0.10 1014.47\n",
       "0              Average Model 1354.80  0.41 1835.14\n",
       "0          XGBoost Regressor 1810.11  0.27 2608.08\n",
       "0          Linear Regression 1867.65  0.29 2671.33\n",
       "0  Linear Regression - Lasso 2198.58  0.34 3110.51"
      ]
     },
     "execution_count": 34,
     "metadata": {},
     "output_type": "execute_result"
    }
   ],
   "source": [
    "result = pd.concat([result_baseline, result_lr, result_lrr, result_rf, result_xgb]).sort_values('RMSE', ascending=True)\n",
    "result"
   ]
  },
  {
   "cell_type": "markdown",
   "id": "signed-tunnel",
   "metadata": {},
   "source": [
    "### 7.6.2. Cross Validation "
   ]
  },
  {
   "cell_type": "code",
   "execution_count": 35,
   "id": "premium-nickname",
   "metadata": {
    "ExecuteTime": {
     "end_time": "2021-04-23T18:46:26.465797Z",
     "start_time": "2021-04-23T18:46:26.448582Z"
    }
   },
   "outputs": [
    {
     "data": {
      "text/html": [
       "<div>\n",
       "<style scoped>\n",
       "    .dataframe tbody tr th:only-of-type {\n",
       "        vertical-align: middle;\n",
       "    }\n",
       "\n",
       "    .dataframe tbody tr th {\n",
       "        vertical-align: top;\n",
       "    }\n",
       "\n",
       "    .dataframe thead th {\n",
       "        text-align: right;\n",
       "    }\n",
       "</style>\n",
       "<table border=\"1\" class=\"dataframe\">\n",
       "  <thead>\n",
       "    <tr style=\"text-align: right;\">\n",
       "      <th></th>\n",
       "      <th>Model Name</th>\n",
       "      <th>MAE CV</th>\n",
       "      <th>MAPE CV</th>\n",
       "      <th>RMSE CV</th>\n",
       "    </tr>\n",
       "  </thead>\n",
       "  <tbody>\n",
       "    <tr>\n",
       "      <th>0</th>\n",
       "      <td>Linear Regression</td>\n",
       "      <td>2081.31 +/- 295.69</td>\n",
       "      <td>0.3 +/- 0.02</td>\n",
       "      <td>2951.88 +/- 468.22</td>\n",
       "    </tr>\n",
       "    <tr>\n",
       "      <th>0</th>\n",
       "      <td>Linear Regression - Lasso</td>\n",
       "      <td>2388.68 +/- 398.48</td>\n",
       "      <td>0.34 +/- 0.01</td>\n",
       "      <td>3369.37 +/- 567.55</td>\n",
       "    </tr>\n",
       "    <tr>\n",
       "      <th>0</th>\n",
       "      <td>Random Forest Regressor</td>\n",
       "      <td>862.94 +/- 252.82</td>\n",
       "      <td>0.12 +/- 0.03</td>\n",
       "      <td>1302.55 +/- 390.2</td>\n",
       "    </tr>\n",
       "    <tr>\n",
       "      <th>0</th>\n",
       "      <td>XGBoost Regressor</td>\n",
       "      <td>2008.59 +/- 295.77</td>\n",
       "      <td>0.28 +/- 0.01</td>\n",
       "      <td>2869.88 +/- 435.55</td>\n",
       "    </tr>\n",
       "  </tbody>\n",
       "</table>\n",
       "</div>"
      ],
      "text/plain": [
       "                  Model Name              MAE CV        MAPE CV             RMSE CV\n",
       "0          Linear Regression  2081.31 +/- 295.69   0.3 +/- 0.02  2951.88 +/- 468.22\n",
       "0  Linear Regression - Lasso  2388.68 +/- 398.48  0.34 +/- 0.01  3369.37 +/- 567.55\n",
       "0    Random Forest Regressor   862.94 +/- 252.82  0.12 +/- 0.03   1302.55 +/- 390.2\n",
       "0          XGBoost Regressor  2008.59 +/- 295.77  0.28 +/- 0.01  2869.88 +/- 435.55"
      ]
     },
     "execution_count": 35,
     "metadata": {},
     "output_type": "execute_result"
    }
   ],
   "source": [
    "result_cv = pd.concat([result_lr_cv, result_lrr_cv, result_rf_cv, result_xgb_cv])\n",
    "result_cv"
   ]
  },
  {
   "cell_type": "markdown",
   "id": "valuable-involvement",
   "metadata": {},
   "source": [
    "# 8.0. Hyperameter Fine Tunning"
   ]
  },
  {
   "cell_type": "markdown",
   "id": "interpreted-carrier",
   "metadata": {},
   "source": [
    "## 8.1. Random Search"
   ]
  },
  {
   "cell_type": "code",
   "execution_count": 16,
   "id": "confident-slovenia",
   "metadata": {
    "ExecuteTime": {
     "end_time": "2021-04-29T11:15:32.555936Z",
     "start_time": "2021-04-29T11:15:32.551192Z"
    }
   },
   "outputs": [],
   "source": [
    "# param = {'n_estimators':[100, 1000],\n",
    "#          'max_depth':[None,10, 10] ,\n",
    "#          'max_features':['auto'], \n",
    "#          'min_samples_split':[2, 3]}\n",
    "\n",
    "# MAX_EVAL = 5"
   ]
  },
  {
   "cell_type": "code",
   "execution_count": 18,
   "id": "prime-event",
   "metadata": {
    "ExecuteTime": {
     "end_time": "2021-04-29T20:12:25.043171Z",
     "start_time": "2021-04-29T11:15:34.699029Z"
    },
    "scrolled": true
   },
   "outputs": [
    {
     "name": "stdout",
     "output_type": "stream",
     "text": [
      "{'n_estimators': 1000, 'max_depth': 10, 'max_features': 'auto', 'min_samples_split': 2}\n",
      "{'n_estimators': 100, 'max_depth': 10, 'max_features': 'auto', 'min_samples_split': 2}\n",
      "{'n_estimators': 100, 'max_depth': None, 'max_features': 'auto', 'min_samples_split': 3}\n",
      "{'n_estimators': 1000, 'max_depth': 10, 'max_features': 'auto', 'min_samples_split': 3}\n",
      "{'n_estimators': 100, 'max_depth': 10, 'max_features': 'auto', 'min_samples_split': 3}\n"
     ]
    },
    {
     "data": {
      "text/html": [
       "<div>\n",
       "<style scoped>\n",
       "    .dataframe tbody tr th:only-of-type {\n",
       "        vertical-align: middle;\n",
       "    }\n",
       "\n",
       "    .dataframe tbody tr th {\n",
       "        vertical-align: top;\n",
       "    }\n",
       "\n",
       "    .dataframe thead th {\n",
       "        text-align: right;\n",
       "    }\n",
       "</style>\n",
       "<table border=\"1\" class=\"dataframe\">\n",
       "  <thead>\n",
       "    <tr style=\"text-align: right;\">\n",
       "      <th></th>\n",
       "      <th>Model Name</th>\n",
       "      <th>MAE CV</th>\n",
       "      <th>MAPE CV</th>\n",
       "      <th>RMSE CV</th>\n",
       "    </tr>\n",
       "  </thead>\n",
       "  <tbody>\n",
       "    <tr>\n",
       "      <th>0</th>\n",
       "      <td>Random Forest Regessor</td>\n",
       "      <td>1756.2 +/- 254.7</td>\n",
       "      <td>0.24 +/- 0.01</td>\n",
       "      <td>2483.34 +/- 363.75</td>\n",
       "    </tr>\n",
       "    <tr>\n",
       "      <th>0</th>\n",
       "      <td>Random Forest Regessor</td>\n",
       "      <td>1755.76 +/- 254.53</td>\n",
       "      <td>0.24 +/- 0.01</td>\n",
       "      <td>2482.76 +/- 363.08</td>\n",
       "    </tr>\n",
       "    <tr>\n",
       "      <th>0</th>\n",
       "      <td>Random Forest Regessor</td>\n",
       "      <td>864.88 +/- 256.44</td>\n",
       "      <td>0.12 +/- 0.03</td>\n",
       "      <td>1304.92 +/- 396.89</td>\n",
       "    </tr>\n",
       "    <tr>\n",
       "      <th>0</th>\n",
       "      <td>Random Forest Regessor</td>\n",
       "      <td>1756.37 +/- 254.72</td>\n",
       "      <td>0.24 +/- 0.01</td>\n",
       "      <td>2483.73 +/- 363.92</td>\n",
       "    </tr>\n",
       "    <tr>\n",
       "      <th>0</th>\n",
       "      <td>Random Forest Regessor</td>\n",
       "      <td>1755.9 +/- 254.7</td>\n",
       "      <td>0.24 +/- 0.01</td>\n",
       "      <td>2482.97 +/- 363.32</td>\n",
       "    </tr>\n",
       "  </tbody>\n",
       "</table>\n",
       "</div>"
      ],
      "text/plain": [
       "               Model Name              MAE CV        MAPE CV             RMSE CV\n",
       "0  Random Forest Regessor    1756.2 +/- 254.7  0.24 +/- 0.01  2483.34 +/- 363.75\n",
       "0  Random Forest Regessor  1755.76 +/- 254.53  0.24 +/- 0.01  2482.76 +/- 363.08\n",
       "0  Random Forest Regessor   864.88 +/- 256.44  0.12 +/- 0.03  1304.92 +/- 396.89\n",
       "0  Random Forest Regessor  1756.37 +/- 254.72  0.24 +/- 0.01  2483.73 +/- 363.92\n",
       "0  Random Forest Regessor    1755.9 +/- 254.7  0.24 +/- 0.01  2482.97 +/- 363.32"
      ]
     },
     "execution_count": 18,
     "metadata": {},
     "output_type": "execute_result"
    }
   ],
   "source": [
    "# result_final = pd.DataFrame()\n",
    "\n",
    "# for i in range(MAX_EVAL):\n",
    "#     hp = {key: random.sample( value, 1)[0] for key, value in param.items()}\n",
    "#     print(hp)\n",
    "    \n",
    "#     rf_model = en.RandomForestRegressor(n_estimators=hp[\"n_estimators\"], \n",
    "#                                         max_depth=hp[\"max_depth\"], \n",
    "#                                         max_features=hp[\"max_features\"], \n",
    "#                                         min_samples_split=hp[\"min_samples_split\"], \n",
    "#                                         random_state=42)\n",
    "    \n",
    "#     result = cross_validation(x_training, 5, 'Random Forest Regessor', rf_model)\n",
    "#     result_final = pd.concat([result, result_final])\n",
    "\n",
    "# result_final"
   ]
  },
  {
   "cell_type": "markdown",
   "id": "silent-aruba",
   "metadata": {},
   "source": [
    "## 8.2. Final Model"
   ]
  },
  {
   "cell_type": "code",
   "execution_count": 21,
   "id": "returning-speaking",
   "metadata": {
    "ExecuteTime": {
     "end_time": "2021-04-29T20:15:32.732751Z",
     "start_time": "2021-04-29T20:15:32.726402Z"
    }
   },
   "outputs": [],
   "source": [
    "hp_final = {'n_estimators': 100, 'max_depth': None, 'max_features': 'auto', 'min_samples_split': 3}"
   ]
  },
  {
   "cell_type": "code",
   "execution_count": 24,
   "id": "decreased-walker",
   "metadata": {
    "ExecuteTime": {
     "end_time": "2021-04-29T20:28:06.424612Z",
     "start_time": "2021-04-29T20:15:48.589516Z"
    }
   },
   "outputs": [
    {
     "data": {
      "text/html": [
       "<div>\n",
       "<style scoped>\n",
       "    .dataframe tbody tr th:only-of-type {\n",
       "        vertical-align: middle;\n",
       "    }\n",
       "\n",
       "    .dataframe tbody tr th {\n",
       "        vertical-align: top;\n",
       "    }\n",
       "\n",
       "    .dataframe thead th {\n",
       "        text-align: right;\n",
       "    }\n",
       "</style>\n",
       "<table border=\"1\" class=\"dataframe\">\n",
       "  <thead>\n",
       "    <tr style=\"text-align: right;\">\n",
       "      <th></th>\n",
       "      <th>Model Name</th>\n",
       "      <th>MAE</th>\n",
       "      <th>MAPE</th>\n",
       "      <th>RMSE</th>\n",
       "    </tr>\n",
       "  </thead>\n",
       "  <tbody>\n",
       "    <tr>\n",
       "      <th>0</th>\n",
       "      <td>Random Forest Regressor</td>\n",
       "      <td>684.15</td>\n",
       "      <td>0.10</td>\n",
       "      <td>1017.61</td>\n",
       "    </tr>\n",
       "  </tbody>\n",
       "</table>\n",
       "</div>"
      ],
      "text/plain": [
       "                Model Name    MAE  MAPE    RMSE\n",
       "0  Random Forest Regressor 684.15  0.10 1017.61"
      ]
     },
     "execution_count": 24,
     "metadata": {},
     "output_type": "execute_result"
    }
   ],
   "source": [
    "# model definition and training\n",
    "rf_model = en.RandomForestRegressor(n_estimators=hp_final[\"n_estimators\"], \n",
    "                                    max_depth=hp_final[\"max_depth\"], \n",
    "                                    max_features=hp_final[\"max_features\"], \n",
    "                                    min_samples_split=hp_final[\"min_samples_split\"], \n",
    "                                    random_state=42).fit(x_train, y_train)\n",
    "\n",
    "# predictions\n",
    "yhat_rf = rf_model.predict(x_test)\n",
    "\n",
    "# perfomance\n",
    "result_rf = ml_error('Random Forest Regressor', np.expm1(y_test) ,np.expm1(yhat_rf))\n",
    "result_rf"
   ]
  },
  {
   "cell_type": "markdown",
   "id": "prostate-lesson",
   "metadata": {
    "heading_collapsed": true
   },
   "source": [
    "# 9.0. Convert Machine Learning Model into Business Value"
   ]
  },
  {
   "cell_type": "markdown",
   "id": "lined-diploma",
   "metadata": {
    "heading_collapsed": true
   },
   "source": [
    "# 10. API"
   ]
  },
  {
   "cell_type": "code",
   "execution_count": null,
   "id": "quantitative-passport",
   "metadata": {
    "hidden": true
   },
   "outputs": [],
   "source": []
  },
  {
   "cell_type": "code",
   "execution_count": null,
   "id": "genetic-office",
   "metadata": {
    "hidden": true
   },
   "outputs": [],
   "source": []
  },
  {
   "cell_type": "code",
   "execution_count": null,
   "id": "excess-conspiracy",
   "metadata": {
    "hidden": true
   },
   "outputs": [],
   "source": []
  },
  {
   "cell_type": "code",
   "execution_count": null,
   "id": "preliminary-burden",
   "metadata": {
    "hidden": true
   },
   "outputs": [],
   "source": []
  },
  {
   "cell_type": "code",
   "execution_count": null,
   "id": "middle-corruption",
   "metadata": {
    "hidden": true
   },
   "outputs": [],
   "source": []
  }
 ],
 "metadata": {
  "kernelspec": {
   "display_name": "Python 3",
   "language": "python",
   "name": "python3"
  },
  "language_info": {
   "codemirror_mode": {
    "name": "ipython",
    "version": 3
   },
   "file_extension": ".py",
   "mimetype": "text/x-python",
   "name": "python",
   "nbconvert_exporter": "python",
   "pygments_lexer": "ipython3",
   "version": "3.8.5"
  }
 },
 "nbformat": 4,
 "nbformat_minor": 5
}
