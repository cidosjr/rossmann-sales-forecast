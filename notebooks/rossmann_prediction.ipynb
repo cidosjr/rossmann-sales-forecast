{
 "cells": [
  {
   "cell_type": "markdown",
   "id": "direct-olive",
   "metadata": {},
   "source": [
    "# 0.0. Imports"
   ]
  },
  {
   "cell_type": "code",
   "execution_count": 18,
   "id": "electrical-spirituality",
   "metadata": {
    "ExecuteTime": {
     "end_time": "2021-04-09T18:24:08.544936Z",
     "start_time": "2021-04-09T18:24:08.540405Z"
    }
   },
   "outputs": [],
   "source": [
    "import pandas as pd\n",
    "import numpy as np\n",
    "import math\n",
    "import matplotlib.pyplot as plt\n",
    "import seaborn as sns\n",
    "import pickle\n",
    "\n",
    "from IPython.display import HTML\n",
    "\n",
    "from sklearn import preprocessing as pp"
   ]
  },
  {
   "cell_type": "markdown",
   "id": "chief-genre",
   "metadata": {},
   "source": [
    "## 0.1. Loading Data"
   ]
  },
  {
   "cell_type": "code",
   "execution_count": 19,
   "id": "removable-continent",
   "metadata": {
    "ExecuteTime": {
     "end_time": "2021-04-09T18:24:09.944815Z",
     "start_time": "2021-04-09T18:24:08.551154Z"
    }
   },
   "outputs": [],
   "source": [
    "df_store_raw = pd.read_csv('../data/store.csv')\n",
    "df_sales_raw = pd.read_csv('../data/train.csv', low_memory=False)\n",
    "\n",
    "# merge\n",
    "df_raw = pd.merge(df_store_raw, df_sales_raw, how='left', on='Store')"
   ]
  },
  {
   "cell_type": "markdown",
   "id": "czech-hartford",
   "metadata": {
    "ExecuteTime": {
     "end_time": "2021-03-30T00:01:07.360044Z",
     "start_time": "2021-03-30T00:01:07.351428Z"
    }
   },
   "source": [
    "## 0.2. Helper Functions"
   ]
  },
  {
   "cell_type": "code",
   "execution_count": 20,
   "id": "abandoned-greensboro",
   "metadata": {
    "ExecuteTime": {
     "end_time": "2021-04-09T18:24:09.958749Z",
     "start_time": "2021-04-09T18:24:09.947502Z"
    }
   },
   "outputs": [],
   "source": [
    "def jupyter_settings():\n",
    "    %matplotlib inline\n",
    "    %pylab inline\n",
    "    \n",
    "    plt.style.use( 'bmh' )\n",
    "    plt.rcParams['figure.figsize'] = [25, 12]\n",
    "    plt.rcParams['font.size'] = 24\n",
    "    \n",
    "    display( HTML( '<style>.container { width:100% !important; }</style>') )\n",
    "    pd.options.display.max_columns = None\n",
    "    pd.options.display.max_rows = None\n",
    "    pd.set_option( 'display.expand_frame_repr', False )\n",
    "    pd.set_option('display.float_format', lambda x: '%.2f' % x)\n",
    "    \n",
    "    sns.set_style(\"whitegrid\")\n",
    "    \n",
    "    sns.set()"
   ]
  },
  {
   "cell_type": "code",
   "execution_count": 21,
   "id": "clean-finance",
   "metadata": {
    "ExecuteTime": {
     "end_time": "2021-04-09T18:24:09.977164Z",
     "start_time": "2021-04-09T18:24:09.961188Z"
    }
   },
   "outputs": [
    {
     "name": "stdout",
     "output_type": "stream",
     "text": [
      "Populating the interactive namespace from numpy and matplotlib\n"
     ]
    },
    {
     "data": {
      "text/html": [
       "<style>.container { width:100% !important; }</style>"
      ],
      "text/plain": [
       "<IPython.core.display.HTML object>"
      ]
     },
     "metadata": {},
     "output_type": "display_data"
    }
   ],
   "source": [
    "jupyter_settings();"
   ]
  },
  {
   "cell_type": "markdown",
   "id": "wrapped-contrary",
   "metadata": {},
   "source": [
    "## 1.0. Data Description"
   ]
  },
  {
   "cell_type": "code",
   "execution_count": 22,
   "id": "communist-trainer",
   "metadata": {
    "ExecuteTime": {
     "end_time": "2021-04-09T18:24:10.031401Z",
     "start_time": "2021-04-09T18:24:09.980438Z"
    }
   },
   "outputs": [],
   "source": [
    "df1 = df_raw.copy()"
   ]
  },
  {
   "cell_type": "markdown",
   "id": "prostate-mirror",
   "metadata": {},
   "source": [
    "## 1.1. Rename Columns"
   ]
  },
  {
   "cell_type": "code",
   "execution_count": 23,
   "id": "cleared-texas",
   "metadata": {
    "ExecuteTime": {
     "end_time": "2021-04-09T18:24:10.042150Z",
     "start_time": "2021-04-09T18:24:10.033740Z"
    }
   },
   "outputs": [],
   "source": [
    "cols_new = ['store', 'store_type', 'assortment', 'competition_distance',\n",
    "            'competition_open_since_month', 'competition_open_since_year', 'promo2',\n",
    "            'promo2_since_week', 'promo2_since_year', 'promo_interval',\n",
    "            'day_of_week', 'date', 'sales', 'customers', 'open', 'promo',\n",
    "            'state_holiday', 'school_holiday']\n",
    "\n",
    "df1.columns = cols_new"
   ]
  },
  {
   "cell_type": "markdown",
   "id": "prerequisite-entity",
   "metadata": {},
   "source": [
    "## 1.2. Data Dimensions"
   ]
  },
  {
   "cell_type": "code",
   "execution_count": 24,
   "id": "acknowledged-actor",
   "metadata": {
    "ExecuteTime": {
     "end_time": "2021-04-09T18:24:10.049481Z",
     "start_time": "2021-04-09T18:24:10.044503Z"
    }
   },
   "outputs": [
    {
     "name": "stdout",
     "output_type": "stream",
     "text": [
      "Number of Rows: 1017209\n",
      "Number of Columns: 18\n"
     ]
    }
   ],
   "source": [
    "print(f'Number of Rows: {df1.shape[0]}')\n",
    "print(f'Number of Columns: {df1.shape[1]}')"
   ]
  },
  {
   "cell_type": "markdown",
   "id": "wanted-disposition",
   "metadata": {},
   "source": [
    "## 1.3. Data Types"
   ]
  },
  {
   "cell_type": "code",
   "execution_count": 25,
   "id": "varied-natural",
   "metadata": {
    "ExecuteTime": {
     "end_time": "2021-04-09T18:24:10.290296Z",
     "start_time": "2021-04-09T18:24:10.051846Z"
    }
   },
   "outputs": [
    {
     "data": {
      "text/plain": [
       "store                                    int64\n",
       "store_type                              object\n",
       "assortment                              object\n",
       "competition_distance                   float64\n",
       "competition_open_since_month           float64\n",
       "competition_open_since_year            float64\n",
       "promo2                                   int64\n",
       "promo2_since_week                      float64\n",
       "promo2_since_year                      float64\n",
       "promo_interval                          object\n",
       "day_of_week                              int64\n",
       "date                            datetime64[ns]\n",
       "sales                                    int64\n",
       "customers                                int64\n",
       "open                                     int64\n",
       "promo                                    int64\n",
       "state_holiday                           object\n",
       "school_holiday                           int64\n",
       "dtype: object"
      ]
     },
     "execution_count": 25,
     "metadata": {},
     "output_type": "execute_result"
    }
   ],
   "source": [
    "df1['date'] = pd.to_datetime(df1['date'])\n",
    "df1.dtypes"
   ]
  },
  {
   "cell_type": "markdown",
   "id": "through-referral",
   "metadata": {},
   "source": [
    "## 1.4. Check NA"
   ]
  },
  {
   "cell_type": "code",
   "execution_count": 26,
   "id": "front-cartoon",
   "metadata": {
    "ExecuteTime": {
     "end_time": "2021-04-09T18:24:10.595274Z",
     "start_time": "2021-04-09T18:24:10.295344Z"
    }
   },
   "outputs": [
    {
     "data": {
      "text/plain": [
       "promo_interval                  508031\n",
       "promo2_since_week               508031\n",
       "promo2_since_year               508031\n",
       "competition_open_since_month    323348\n",
       "competition_open_since_year     323348\n",
       "competition_distance              2642\n",
       "sales                                0\n",
       "state_holiday                        0\n",
       "promo                                0\n",
       "open                                 0\n",
       "customers                            0\n",
       "store                                0\n",
       "date                                 0\n",
       "day_of_week                          0\n",
       "store_type                           0\n",
       "promo2                               0\n",
       "assortment                           0\n",
       "school_holiday                       0\n",
       "dtype: int64"
      ]
     },
     "execution_count": 26,
     "metadata": {},
     "output_type": "execute_result"
    }
   ],
   "source": [
    "df1.isna().sum().sort_values(ascending=False)"
   ]
  },
  {
   "cell_type": "markdown",
   "id": "optimum-conversation",
   "metadata": {},
   "source": [
    "## 1.5. Fillout NA"
   ]
  },
  {
   "cell_type": "code",
   "execution_count": 27,
   "id": "progressive-system",
   "metadata": {
    "ExecuteTime": {
     "end_time": "2021-04-09T18:26:24.668763Z",
     "start_time": "2021-04-09T18:24:10.598128Z"
    },
    "run_control": {
     "marked": true
    }
   },
   "outputs": [],
   "source": [
    "# promo_interval \n",
    "df1['promo_interval'].fillna(0, inplace=True)\n",
    "\n",
    "month_map = {1: 'Jan', 2: 'Feb',3: 'Mar',4: 'Apr',5: 'May',6: 'Jun',7: 'Jul', 8: 'Aug',9: 'Sept',10: 'Oct',11: 'Nov', 12: 'Dec'}\n",
    "df1['month_promo'] = df1['date'].dt.month.map(month_map)\n",
    "\n",
    "df1['is_promo'] = df1.apply(lambda x: 0 if x['promo_interval'] == 0 else 1 if x['month_promo'] in x['promo_interval'].split(',') else 0, axis=1)\n",
    "\n",
    "# promo2_since_week,  promo2_since_year\n",
    "df1['promo2_since_year'] = df1[['promo2_since_year', 'date']].apply(lambda x: x['date'].year if math.isnan(x['promo2_since_year']) else x['promo2_since_year'], axis=1)\n",
    "df1['promo2_since_week'] = df1[['promo2_since_week', 'date']].apply(lambda x: x['date'].week if math.isnan(x['promo2_since_week']) else x['promo2_since_week'], axis=1)\n",
    "\n",
    "# competition_open_since_year, competition_open_since_month\n",
    "df1['competition_open_since_year'] = df1[['competition_open_since_year', 'date']].apply(lambda x: x['date'].year if math.isnan(x['competition_open_since_year']) else x['competition_open_since_year'], axis=1)\n",
    "df1['competition_open_since_month'] = df1[['competition_open_since_month', 'date']].apply(lambda x: x['date'].month if math.isnan(x['competition_open_since_month']) else x['competition_open_since_month'], axis=1)\n",
    "\n",
    "# competition_distance\n",
    "df1['competition_distance'].fillna(200000.0, inplace=True)"
   ]
  },
  {
   "cell_type": "markdown",
   "id": "welcome-farming",
   "metadata": {},
   "source": [
    "## 1.6. Change Data Types"
   ]
  },
  {
   "cell_type": "code",
   "execution_count": 28,
   "id": "legendary-guarantee",
   "metadata": {
    "ExecuteTime": {
     "end_time": "2021-04-09T18:26:24.703489Z",
     "start_time": "2021-04-09T18:26:24.670796Z"
    }
   },
   "outputs": [],
   "source": [
    "df1['competition_open_since_month'] = df1['competition_open_since_month'].astype(int)\n",
    "df1['competition_open_since_year'] = df1['competition_open_since_year'].astype(int)\n",
    "df1['promo2_since_week'] = df1['promo2_since_week'].astype(int)\n",
    "df1['promo2_since_year'] = df1['promo2_since_year'].astype(int)"
   ]
  },
  {
   "cell_type": "markdown",
   "id": "suited-backup",
   "metadata": {},
   "source": [
    "## 1.7. Descriptive Statistics"
   ]
  },
  {
   "cell_type": "code",
   "execution_count": 29,
   "id": "velvet-nation",
   "metadata": {
    "ExecuteTime": {
     "end_time": "2021-04-09T18:26:24.877765Z",
     "start_time": "2021-04-09T18:26:24.705390Z"
    }
   },
   "outputs": [],
   "source": [
    "num_attributes = df1.select_dtypes(include=['int64', 'float64'])\n",
    "cat_attributes = df1.select_dtypes(include=['object'])"
   ]
  },
  {
   "cell_type": "markdown",
   "id": "compound-virtue",
   "metadata": {},
   "source": [
    "### 1.7.1. Numerical Attributes"
   ]
  },
  {
   "cell_type": "code",
   "execution_count": 30,
   "id": "informational-delay",
   "metadata": {
    "ExecuteTime": {
     "end_time": "2021-04-09T18:26:29.047197Z",
     "start_time": "2021-04-09T18:26:24.879912Z"
    }
   },
   "outputs": [
    {
     "data": {
      "text/html": [
       "<div>\n",
       "<style scoped>\n",
       "    .dataframe tbody tr th:only-of-type {\n",
       "        vertical-align: middle;\n",
       "    }\n",
       "\n",
       "    .dataframe tbody tr th {\n",
       "        vertical-align: top;\n",
       "    }\n",
       "\n",
       "    .dataframe thead th {\n",
       "        text-align: right;\n",
       "    }\n",
       "</style>\n",
       "<table border=\"1\" class=\"dataframe\">\n",
       "  <thead>\n",
       "    <tr style=\"text-align: right;\">\n",
       "      <th></th>\n",
       "      <th>attributes</th>\n",
       "      <th>min</th>\n",
       "      <th>max</th>\n",
       "      <th>range</th>\n",
       "      <th>mean</th>\n",
       "      <th>median</th>\n",
       "      <th>std</th>\n",
       "      <th>skew</th>\n",
       "      <th>kurtosis</th>\n",
       "    </tr>\n",
       "  </thead>\n",
       "  <tbody>\n",
       "    <tr>\n",
       "      <th>0</th>\n",
       "      <td>store</td>\n",
       "      <td>1.00</td>\n",
       "      <td>1115.00</td>\n",
       "      <td>1114.00</td>\n",
       "      <td>558.43</td>\n",
       "      <td>558.00</td>\n",
       "      <td>321.91</td>\n",
       "      <td>-0.00</td>\n",
       "      <td>-1.20</td>\n",
       "    </tr>\n",
       "    <tr>\n",
       "      <th>1</th>\n",
       "      <td>competition_distance</td>\n",
       "      <td>20.00</td>\n",
       "      <td>200000.00</td>\n",
       "      <td>199980.00</td>\n",
       "      <td>5935.44</td>\n",
       "      <td>2330.00</td>\n",
       "      <td>12547.65</td>\n",
       "      <td>10.24</td>\n",
       "      <td>147.79</td>\n",
       "    </tr>\n",
       "    <tr>\n",
       "      <th>2</th>\n",
       "      <td>competition_open_since_month</td>\n",
       "      <td>1.00</td>\n",
       "      <td>12.00</td>\n",
       "      <td>11.00</td>\n",
       "      <td>6.79</td>\n",
       "      <td>7.00</td>\n",
       "      <td>3.31</td>\n",
       "      <td>-0.04</td>\n",
       "      <td>-1.23</td>\n",
       "    </tr>\n",
       "    <tr>\n",
       "      <th>3</th>\n",
       "      <td>competition_open_since_year</td>\n",
       "      <td>1900.00</td>\n",
       "      <td>2015.00</td>\n",
       "      <td>115.00</td>\n",
       "      <td>2010.32</td>\n",
       "      <td>2012.00</td>\n",
       "      <td>5.52</td>\n",
       "      <td>-7.24</td>\n",
       "      <td>124.07</td>\n",
       "    </tr>\n",
       "    <tr>\n",
       "      <th>4</th>\n",
       "      <td>promo2</td>\n",
       "      <td>0.00</td>\n",
       "      <td>1.00</td>\n",
       "      <td>1.00</td>\n",
       "      <td>0.50</td>\n",
       "      <td>1.00</td>\n",
       "      <td>0.50</td>\n",
       "      <td>-0.00</td>\n",
       "      <td>-2.00</td>\n",
       "    </tr>\n",
       "    <tr>\n",
       "      <th>5</th>\n",
       "      <td>promo2_since_week</td>\n",
       "      <td>1.00</td>\n",
       "      <td>52.00</td>\n",
       "      <td>51.00</td>\n",
       "      <td>23.62</td>\n",
       "      <td>22.00</td>\n",
       "      <td>14.31</td>\n",
       "      <td>0.18</td>\n",
       "      <td>-1.18</td>\n",
       "    </tr>\n",
       "    <tr>\n",
       "      <th>6</th>\n",
       "      <td>promo2_since_year</td>\n",
       "      <td>2009.00</td>\n",
       "      <td>2015.00</td>\n",
       "      <td>6.00</td>\n",
       "      <td>2012.79</td>\n",
       "      <td>2013.00</td>\n",
       "      <td>1.66</td>\n",
       "      <td>-0.78</td>\n",
       "      <td>-0.21</td>\n",
       "    </tr>\n",
       "    <tr>\n",
       "      <th>7</th>\n",
       "      <td>day_of_week</td>\n",
       "      <td>1.00</td>\n",
       "      <td>7.00</td>\n",
       "      <td>6.00</td>\n",
       "      <td>4.00</td>\n",
       "      <td>4.00</td>\n",
       "      <td>2.00</td>\n",
       "      <td>0.00</td>\n",
       "      <td>-1.25</td>\n",
       "    </tr>\n",
       "    <tr>\n",
       "      <th>8</th>\n",
       "      <td>sales</td>\n",
       "      <td>0.00</td>\n",
       "      <td>41551.00</td>\n",
       "      <td>41551.00</td>\n",
       "      <td>5773.82</td>\n",
       "      <td>5744.00</td>\n",
       "      <td>3849.93</td>\n",
       "      <td>0.64</td>\n",
       "      <td>1.78</td>\n",
       "    </tr>\n",
       "    <tr>\n",
       "      <th>9</th>\n",
       "      <td>customers</td>\n",
       "      <td>0.00</td>\n",
       "      <td>7388.00</td>\n",
       "      <td>7388.00</td>\n",
       "      <td>633.15</td>\n",
       "      <td>609.00</td>\n",
       "      <td>464.41</td>\n",
       "      <td>1.60</td>\n",
       "      <td>7.09</td>\n",
       "    </tr>\n",
       "    <tr>\n",
       "      <th>10</th>\n",
       "      <td>open</td>\n",
       "      <td>0.00</td>\n",
       "      <td>1.00</td>\n",
       "      <td>1.00</td>\n",
       "      <td>0.83</td>\n",
       "      <td>1.00</td>\n",
       "      <td>0.38</td>\n",
       "      <td>-1.76</td>\n",
       "      <td>1.09</td>\n",
       "    </tr>\n",
       "    <tr>\n",
       "      <th>11</th>\n",
       "      <td>promo</td>\n",
       "      <td>0.00</td>\n",
       "      <td>1.00</td>\n",
       "      <td>1.00</td>\n",
       "      <td>0.38</td>\n",
       "      <td>0.00</td>\n",
       "      <td>0.49</td>\n",
       "      <td>0.49</td>\n",
       "      <td>-1.76</td>\n",
       "    </tr>\n",
       "    <tr>\n",
       "      <th>12</th>\n",
       "      <td>school_holiday</td>\n",
       "      <td>0.00</td>\n",
       "      <td>1.00</td>\n",
       "      <td>1.00</td>\n",
       "      <td>0.18</td>\n",
       "      <td>0.00</td>\n",
       "      <td>0.38</td>\n",
       "      <td>1.68</td>\n",
       "      <td>0.82</td>\n",
       "    </tr>\n",
       "    <tr>\n",
       "      <th>13</th>\n",
       "      <td>is_promo</td>\n",
       "      <td>0.00</td>\n",
       "      <td>1.00</td>\n",
       "      <td>1.00</td>\n",
       "      <td>0.17</td>\n",
       "      <td>0.00</td>\n",
       "      <td>0.38</td>\n",
       "      <td>1.74</td>\n",
       "      <td>1.03</td>\n",
       "    </tr>\n",
       "  </tbody>\n",
       "</table>\n",
       "</div>"
      ],
      "text/plain": [
       "                      attributes     min       max     range    mean  median      std  skew  kurtosis\n",
       "0                          store    1.00   1115.00   1114.00  558.43  558.00   321.91 -0.00     -1.20\n",
       "1           competition_distance   20.00 200000.00 199980.00 5935.44 2330.00 12547.65 10.24    147.79\n",
       "2   competition_open_since_month    1.00     12.00     11.00    6.79    7.00     3.31 -0.04     -1.23\n",
       "3    competition_open_since_year 1900.00   2015.00    115.00 2010.32 2012.00     5.52 -7.24    124.07\n",
       "4                         promo2    0.00      1.00      1.00    0.50    1.00     0.50 -0.00     -2.00\n",
       "5              promo2_since_week    1.00     52.00     51.00   23.62   22.00    14.31  0.18     -1.18\n",
       "6              promo2_since_year 2009.00   2015.00      6.00 2012.79 2013.00     1.66 -0.78     -0.21\n",
       "7                    day_of_week    1.00      7.00      6.00    4.00    4.00     2.00  0.00     -1.25\n",
       "8                          sales    0.00  41551.00  41551.00 5773.82 5744.00  3849.93  0.64      1.78\n",
       "9                      customers    0.00   7388.00   7388.00  633.15  609.00   464.41  1.60      7.09\n",
       "10                          open    0.00      1.00      1.00    0.83    1.00     0.38 -1.76      1.09\n",
       "11                         promo    0.00      1.00      1.00    0.38    0.00     0.49  0.49     -1.76\n",
       "12                school_holiday    0.00      1.00      1.00    0.18    0.00     0.38  1.68      0.82\n",
       "13                      is_promo    0.00      1.00      1.00    0.17    0.00     0.38  1.74      1.03"
      ]
     },
     "execution_count": 30,
     "metadata": {},
     "output_type": "execute_result"
    }
   ],
   "source": [
    "# Central Tendency: mean, median\n",
    "c1 = pd.DataFrame(num_attributes.apply(np.mean))\n",
    "c2 = pd.DataFrame(num_attributes.apply(np.median))\n",
    "\n",
    "# Dispersion: min, max, range, std, skew, kurtosis\n",
    "d1 = pd.DataFrame(num_attributes.apply(min))\n",
    "d2 = pd.DataFrame(num_attributes.apply(max))\n",
    "d3 = pd.DataFrame(num_attributes.apply(lambda x: np.max(x) - np.min(x)))\n",
    "d4 = pd.DataFrame(num_attributes.apply(lambda x: x.std()))\n",
    "d5 = pd.DataFrame(num_attributes.apply(lambda x: x.skew()))\n",
    "d6 = pd.DataFrame(num_attributes.apply(lambda x: x.kurtosis()))\n",
    "\n",
    "# concat\n",
    "m = pd.concat([d1,d2,d3,c1,c2,d4,d5,d6], axis=1).reset_index()\n",
    "m.columns = ['attributes', 'min', 'max', 'range', 'mean', 'median', 'std', 'skew', 'kurtosis']\n",
    "m"
   ]
  },
  {
   "cell_type": "markdown",
   "id": "special-compound",
   "metadata": {},
   "source": [
    "### 1.7.2. Categorical Attributes"
   ]
  },
  {
   "cell_type": "code",
   "execution_count": 31,
   "id": "current-orleans",
   "metadata": {
    "ExecuteTime": {
     "end_time": "2021-04-09T18:26:30.156287Z",
     "start_time": "2021-04-09T18:26:29.049607Z"
    }
   },
   "outputs": [
    {
     "data": {
      "text/html": [
       "<div>\n",
       "<style scoped>\n",
       "    .dataframe tbody tr th:only-of-type {\n",
       "        vertical-align: middle;\n",
       "    }\n",
       "\n",
       "    .dataframe tbody tr th {\n",
       "        vertical-align: top;\n",
       "    }\n",
       "\n",
       "    .dataframe thead th {\n",
       "        text-align: right;\n",
       "    }\n",
       "</style>\n",
       "<table border=\"1\" class=\"dataframe\">\n",
       "  <thead>\n",
       "    <tr style=\"text-align: right;\">\n",
       "      <th></th>\n",
       "      <th>store_type</th>\n",
       "      <th>assortment</th>\n",
       "      <th>promo_interval</th>\n",
       "      <th>state_holiday</th>\n",
       "      <th>month_promo</th>\n",
       "    </tr>\n",
       "  </thead>\n",
       "  <tbody>\n",
       "    <tr>\n",
       "      <th>count</th>\n",
       "      <td>1017209</td>\n",
       "      <td>1017209</td>\n",
       "      <td>1017209</td>\n",
       "      <td>1017209</td>\n",
       "      <td>1017209</td>\n",
       "    </tr>\n",
       "    <tr>\n",
       "      <th>unique</th>\n",
       "      <td>4</td>\n",
       "      <td>3</td>\n",
       "      <td>4</td>\n",
       "      <td>4</td>\n",
       "      <td>12</td>\n",
       "    </tr>\n",
       "    <tr>\n",
       "      <th>top</th>\n",
       "      <td>a</td>\n",
       "      <td>a</td>\n",
       "      <td>0</td>\n",
       "      <td>0</td>\n",
       "      <td>Mar</td>\n",
       "    </tr>\n",
       "    <tr>\n",
       "      <th>freq</th>\n",
       "      <td>551627</td>\n",
       "      <td>537445</td>\n",
       "      <td>508031</td>\n",
       "      <td>986159</td>\n",
       "      <td>103695</td>\n",
       "    </tr>\n",
       "  </tbody>\n",
       "</table>\n",
       "</div>"
      ],
      "text/plain": [
       "       store_type assortment  promo_interval state_holiday month_promo\n",
       "count     1017209    1017209         1017209       1017209     1017209\n",
       "unique          4          3               4             4          12\n",
       "top             a          a               0             0         Mar\n",
       "freq       551627     537445          508031        986159      103695"
      ]
     },
     "execution_count": 31,
     "metadata": {},
     "output_type": "execute_result"
    }
   ],
   "source": [
    "cat_attributes.describe(include=['object'])"
   ]
  },
  {
   "cell_type": "code",
   "execution_count": 32,
   "id": "injured-referral",
   "metadata": {
    "ExecuteTime": {
     "end_time": "2021-04-09T18:26:30.990527Z",
     "start_time": "2021-04-09T18:26:30.158537Z"
    }
   },
   "outputs": [],
   "source": [
    "# pickle.dump(df1, open('../src/data/df1.pkl', 'wb'))"
   ]
  },
  {
   "cell_type": "markdown",
   "id": "regional-pantyhose",
   "metadata": {},
   "source": [
    "# 2.0. Feature Engineering"
   ]
  },
  {
   "cell_type": "code",
   "execution_count": 33,
   "id": "genuine-confidence",
   "metadata": {
    "ExecuteTime": {
     "end_time": "2021-04-09T18:26:31.195407Z",
     "start_time": "2021-04-09T18:26:30.993720Z"
    }
   },
   "outputs": [],
   "source": [
    "df2 = pickle.load(open('../src/data/df1.pkl', 'rb'))"
   ]
  },
  {
   "cell_type": "markdown",
   "id": "confident-employee",
   "metadata": {
    "ExecuteTime": {
     "end_time": "2021-04-06T17:53:22.942295Z",
     "start_time": "2021-04-06T17:53:22.934689Z"
    }
   },
   "source": [
    "## 2.* Feature Engineering"
   ]
  },
  {
   "cell_type": "code",
   "execution_count": 34,
   "id": "extended-southeast",
   "metadata": {
    "ExecuteTime": {
     "end_time": "2021-04-09T18:28:02.448182Z",
     "start_time": "2021-04-09T18:26:31.197585Z"
    }
   },
   "outputs": [],
   "source": [
    "# date: year, month, day, week_of_year, year_week\n",
    "df2['year'] = df2['date'].dt.year\n",
    "df2['month'] = df2['date'].dt.month\n",
    "df2['day'] = df2['date'].dt.day\n",
    "df2['week_of_year'] = df2['date'].dt.isocalendar().week\n",
    "df2['year_week'] = df2['date'].dt.strftime('%Y-%W')\n",
    "\n",
    "# competition_open_since_year  - competition_open_since_month\n",
    "df2['competition_since'] = df2.apply(lambda x: datetime.datetime(year=x['competition_open_since_year'], month=x['competition_open_since_month'], day=1), axis=1)\n",
    "df2['competition_time_month'] = ((df2['date'] - df2['competition_since'])/30).apply(lambda x: x.days).astype(int)\n",
    "\n",
    "# promo2_since_year, promo2_since_week\n",
    "df2['promo_since'] = df2['promo2_since_year'].astype(str) + '-' + df2['promo2_since_week'].astype(str)\n",
    "df2['promo_since'] = df2['promo_since'].apply(lambda x: datetime.datetime.strptime( x + '-1', '%Y-%W-%w'))\n",
    "df2['promo_time_week'] = ((df2['date'] - df2['promo_since'])/7).apply(lambda x: x.days).astype(int)\n",
    "\n",
    "# public_holiday\n",
    "state_holiday_dict = {'a' : 'public_holiday', 'b' : 'easter_holiday', 'c' : 'christmas', '0' : 'regular_day'}\n",
    "df2['state_holiday'] = df2['state_holiday'].map(state_holiday_dict)\n",
    "\n",
    "# assortment\n",
    "assortment_dict = {'a' : 'basic', 'b' : 'extra', 'c' : 'extended'}\n",
    "df2['assortment'] = df2['assortment'].map(assortment_dict)"
   ]
  },
  {
   "cell_type": "code",
   "execution_count": 35,
   "id": "sustained-logan",
   "metadata": {
    "ExecuteTime": {
     "end_time": "2021-04-09T18:28:03.049244Z",
     "start_time": "2021-04-09T18:28:02.450278Z"
    }
   },
   "outputs": [],
   "source": [
    "# pickle.dump(df2, open('../src/data/df2.pkl', 'wb'))"
   ]
  },
  {
   "cell_type": "markdown",
   "id": "studied-technical",
   "metadata": {},
   "source": [
    "# 3.0. Data Filtering"
   ]
  },
  {
   "cell_type": "code",
   "execution_count": 51,
   "id": "competitive-intellectual",
   "metadata": {
    "ExecuteTime": {
     "end_time": "2021-04-09T18:33:33.515413Z",
     "start_time": "2021-04-09T18:33:33.124638Z"
    }
   },
   "outputs": [],
   "source": [
    "df3 = pickle.load(open('../src/data/df2.pkl', 'rb'))"
   ]
  },
  {
   "cell_type": "markdown",
   "id": "headed-bumper",
   "metadata": {
    "ExecuteTime": {
     "end_time": "2021-04-08T21:36:57.817051Z",
     "start_time": "2021-04-08T21:36:57.767146Z"
    }
   },
   "source": [
    "## 3.1. Filter Rows"
   ]
  },
  {
   "cell_type": "code",
   "execution_count": 52,
   "id": "romantic-chosen",
   "metadata": {
    "ExecuteTime": {
     "end_time": "2021-04-09T18:33:34.201617Z",
     "start_time": "2021-04-09T18:33:33.654476Z"
    }
   },
   "outputs": [],
   "source": [
    "df3 = df3[(df3['open'] != 0)&(df3['sales'] > 0)]"
   ]
  },
  {
   "cell_type": "markdown",
   "id": "talented-lunch",
   "metadata": {},
   "source": [
    "## 3.2. Filter Columns"
   ]
  },
  {
   "cell_type": "code",
   "execution_count": 53,
   "id": "recorded-richmond",
   "metadata": {
    "ExecuteTime": {
     "end_time": "2021-04-09T18:33:34.625622Z",
     "start_time": "2021-04-09T18:33:34.481061Z"
    }
   },
   "outputs": [],
   "source": [
    "drop_cols = ['open', 'month_promo', 'customers', 'promo_interval']\n",
    "df3 = df3.drop(drop_cols, axis=1)"
   ]
  },
  {
   "cell_type": "code",
   "execution_count": 54,
   "id": "regulated-zoning",
   "metadata": {
    "ExecuteTime": {
     "end_time": "2021-04-09T18:33:36.846232Z",
     "start_time": "2021-04-09T18:33:35.787774Z"
    }
   },
   "outputs": [],
   "source": [
    "# pickle.dump(df3, open('../src/data/df3.pkl', 'wb'))"
   ]
  },
  {
   "cell_type": "markdown",
   "id": "corporate-spirit",
   "metadata": {},
   "source": [
    "# 4.0. Exploratory Data Analysis"
   ]
  },
  {
   "cell_type": "code",
   "execution_count": 55,
   "id": "biblical-scotland",
   "metadata": {
    "ExecuteTime": {
     "end_time": "2021-04-09T18:33:39.957794Z",
     "start_time": "2021-04-09T18:33:39.683590Z"
    }
   },
   "outputs": [],
   "source": [
    "df4 = pickle.load(open('../src/data/df3.pkl', 'rb'))"
   ]
  },
  {
   "cell_type": "markdown",
   "id": "dense-rehabilitation",
   "metadata": {},
   "source": [
    "# 5.0. Data Preparation\n",
    "\n"
   ]
  },
  {
   "cell_type": "code",
   "execution_count": 67,
   "id": "silent-measure",
   "metadata": {
    "ExecuteTime": {
     "end_time": "2021-04-09T18:34:54.540115Z",
     "start_time": "2021-04-09T18:34:54.290598Z"
    }
   },
   "outputs": [],
   "source": [
    "df5 = pickle.load(open('../src/data/df3.pkl', 'rb'))"
   ]
  },
  {
   "cell_type": "markdown",
   "id": "north-fault",
   "metadata": {},
   "source": [
    "## 5.1. Standardization"
   ]
  },
  {
   "cell_type": "markdown",
   "id": "smart-opening",
   "metadata": {
    "ExecuteTime": {
     "end_time": "2021-04-08T21:50:57.039145Z",
     "start_time": "2021-04-08T21:50:57.032862Z"
    }
   },
   "source": [
    "## 5.2. Scaling"
   ]
  },
  {
   "cell_type": "code",
   "execution_count": 68,
   "id": "maritime-watson",
   "metadata": {
    "ExecuteTime": {
     "end_time": "2021-04-09T18:34:55.796421Z",
     "start_time": "2021-04-09T18:34:55.449880Z"
    }
   },
   "outputs": [],
   "source": [
    "rs = pp.RobustScaler()\n",
    "mms = pp.MinMaxScaler()\n",
    "\n",
    "df5['competition_distance'] = rs.fit_transform(df5[['competition_distance']].values)\n",
    "df5['competition_time_month'] = rs.fit_transform(df5[['competition_time_month']].values)\n",
    "\n",
    "df5['promo_time_week'] = mms.fit_transform(df5[['promo_time_week']].values)\n",
    "df5['year'] = mms.fit_transform(df5[['year']].values)"
   ]
  },
  {
   "cell_type": "markdown",
   "id": "labeled-fundamental",
   "metadata": {},
   "source": [
    "## 5.3. Transformation"
   ]
  },
  {
   "cell_type": "markdown",
   "id": "sought-terrain",
   "metadata": {},
   "source": [
    "### 5.3.1. Encoding"
   ]
  },
  {
   "cell_type": "code",
   "execution_count": 69,
   "id": "solar-telling",
   "metadata": {
    "ExecuteTime": {
     "end_time": "2021-04-09T18:34:57.347132Z",
     "start_time": "2021-04-09T18:34:56.760431Z"
    }
   },
   "outputs": [],
   "source": [
    "# label encoder\n",
    "le = pp.LabelEncoder()\n",
    "df5['store_type'] = le.fit_transform(df5['store_type'])\n",
    "\n",
    "# OneHot Encoder\n",
    "df5 = pd.get_dummies(df5, prefix='state_holiday', columns=['state_holiday'])\n",
    "\n",
    "# Ordinal Encoder\n",
    "df5['assortment'] = df5['assortment'].map({'basic': 0, 'extended': 2, 'extra': 1})"
   ]
  },
  {
   "cell_type": "markdown",
   "id": "convertible-leather",
   "metadata": {
    "ExecuteTime": {
     "end_time": "2021-04-08T22:03:20.299139Z",
     "start_time": "2021-04-08T22:03:20.295559Z"
    }
   },
   "source": [
    "### 5.3.2. Reponse Transformation"
   ]
  },
  {
   "cell_type": "code",
   "execution_count": 70,
   "id": "removable-proportion",
   "metadata": {
    "ExecuteTime": {
     "end_time": "2021-04-09T18:34:59.552384Z",
     "start_time": "2021-04-09T18:34:59.520670Z"
    }
   },
   "outputs": [],
   "source": [
    "df5['sales'] = np.log1p(df5['sales'])"
   ]
  },
  {
   "cell_type": "markdown",
   "id": "built-cooking",
   "metadata": {},
   "source": [
    "### 5.3.3. Nature "
   ]
  },
  {
   "cell_type": "code",
   "execution_count": 71,
   "id": "altered-powell",
   "metadata": {
    "ExecuteTime": {
     "end_time": "2021-04-09T18:35:14.335453Z",
     "start_time": "2021-04-09T18:35:00.361931Z"
    }
   },
   "outputs": [],
   "source": [
    "df5['month_cos'] = df5['month'].apply(lambda x: np.cos(x * (2. * np.pi/12)))\n",
    "df5['month_sin'] = df5['month'].apply(lambda x: np.sin(x * (2. * np.pi/12)))\n",
    "\n",
    "df5['day_cos'] = df5['day'].apply(lambda x: np.cos(x * (2. * np.pi/31)))\n",
    "df5['day_sin'] = df5['day'].apply(lambda x: np.sin(x * (2. * np.pi/31)))\n",
    "\n",
    "df5['week_of_year_cos'] = df5['week_of_year'].apply(lambda x: np.cos(x * (2. * np.pi/52)))\n",
    "df5['week_of_year_sin'] = df5['week_of_year'].apply(lambda x: np.sin(x * (2. * np.pi/52)))\n",
    "\n",
    "df5['day_of_week_cos'] = df5['day_of_week'].apply(lambda x: np.cos(x * (2. * np.pi/7)))\n",
    "df5['day_of_week_sin'] = df5['day_of_week'].apply(lambda x: np.sin(x * (2. * np.pi/7)))"
   ]
  },
  {
   "cell_type": "code",
   "execution_count": 74,
   "id": "editorial-cancer",
   "metadata": {
    "ExecuteTime": {
     "end_time": "2021-04-09T18:35:26.042049Z",
     "start_time": "2021-04-09T18:35:24.879689Z"
    }
   },
   "outputs": [],
   "source": [
    "# pickle.dump(df5, open('../src/data/df5.pkl', 'wb'))"
   ]
  },
  {
   "cell_type": "markdown",
   "id": "seeing-arnold",
   "metadata": {},
   "source": [
    "# 6.0. Selection Feature"
   ]
  },
  {
   "cell_type": "code",
   "execution_count": 75,
   "id": "human-invasion",
   "metadata": {
    "ExecuteTime": {
     "end_time": "2021-04-09T18:35:26.940839Z",
     "start_time": "2021-04-09T18:35:26.738214Z"
    }
   },
   "outputs": [],
   "source": [
    "df6 = pickle.load(open('../src/data/df5.pkl', 'rb'))"
   ]
  },
  {
   "cell_type": "code",
   "execution_count": null,
   "id": "interim-greece",
   "metadata": {},
   "outputs": [],
   "source": []
  },
  {
   "cell_type": "code",
   "execution_count": null,
   "id": "composite-patch",
   "metadata": {},
   "outputs": [],
   "source": []
  },
  {
   "cell_type": "code",
   "execution_count": null,
   "id": "quantitative-passport",
   "metadata": {},
   "outputs": [],
   "source": []
  },
  {
   "cell_type": "code",
   "execution_count": null,
   "id": "genetic-office",
   "metadata": {},
   "outputs": [],
   "source": []
  },
  {
   "cell_type": "code",
   "execution_count": null,
   "id": "excess-conspiracy",
   "metadata": {},
   "outputs": [],
   "source": []
  },
  {
   "cell_type": "code",
   "execution_count": null,
   "id": "preliminary-burden",
   "metadata": {},
   "outputs": [],
   "source": []
  },
  {
   "cell_type": "code",
   "execution_count": null,
   "id": "middle-corruption",
   "metadata": {},
   "outputs": [],
   "source": []
  }
 ],
 "metadata": {
  "kernelspec": {
   "display_name": "Python 3",
   "language": "python",
   "name": "python3"
  },
  "language_info": {
   "codemirror_mode": {
    "name": "ipython",
    "version": 3
   },
   "file_extension": ".py",
   "mimetype": "text/x-python",
   "name": "python",
   "nbconvert_exporter": "python",
   "pygments_lexer": "ipython3",
   "version": "3.8.5"
  }
 },
 "nbformat": 4,
 "nbformat_minor": 5
}
