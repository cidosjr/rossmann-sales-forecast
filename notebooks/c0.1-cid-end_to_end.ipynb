{
 "cells": [
  {
   "cell_type": "markdown",
   "id": "circular-helmet",
   "metadata": {
    "heading_collapsed": true
   },
   "source": [
    "# 0.0. Imports"
   ]
  },
  {
   "cell_type": "code",
   "execution_count": 95,
   "id": "effective-disability",
   "metadata": {
    "ExecuteTime": {
     "end_time": "2021-08-08T03:07:41.145648Z",
     "start_time": "2021-08-08T03:07:41.140031Z"
    },
    "hidden": true
   },
   "outputs": [],
   "source": [
    "import pandas as pd\n",
    "import numpy as np\n",
    "import seaborn as sns\n",
    "import matplotlib.pyplot as plt\n",
    "\n",
    "from xgboost import XGBRegressor\n",
    "\n",
    "from IPython.display import HTML\n",
    "\n",
    "from sklearn import model_selection as ms\n",
    "from sklearn.dummy import DummyRegressor\n",
    "from sklearn import metrics\n",
    "from sklearn import linear_model as lm\n",
    "from sklearn import ensemble as en\n",
    "from sklearn import preprocessing as pp"
   ]
  },
  {
   "cell_type": "markdown",
   "id": "collectible-involvement",
   "metadata": {
    "heading_collapsed": true,
    "hidden": true
   },
   "source": [
    "## 0.1. Helper Function"
   ]
  },
  {
   "cell_type": "code",
   "execution_count": 130,
   "id": "protecting-distance",
   "metadata": {
    "ExecuteTime": {
     "end_time": "2021-08-08T03:17:26.797653Z",
     "start_time": "2021-08-08T03:17:26.727295Z"
    },
    "hidden": true
   },
   "outputs": [
    {
     "name": "stdout",
     "output_type": "stream",
     "text": [
      "Populating the interactive namespace from numpy and matplotlib\n"
     ]
    },
    {
     "data": {
      "text/html": [
       "<style>.container { width:100% !important; }</style>"
      ],
      "text/plain": [
       "<IPython.core.display.HTML object>"
      ]
     },
     "metadata": {},
     "output_type": "display_data"
    }
   ],
   "source": [
    "def cross_validation( x_training, kfold, model_name, model, verbose=False ):\n",
    "    mae_list = []\n",
    "    mape_list = []\n",
    "    rmse_list = []\n",
    "    \n",
    "    for k in reversed( range( 1, kfold+1 ) ):\n",
    "        if verbose:\n",
    "            print( '\\nKFold Number: {}'.format( k ) )\n",
    "        # start and end date for validation \n",
    "        validation_start_date = x_training['date'].max() - datetime.timedelta( days=k*6*7)\n",
    "        validation_end_date = x_training['date'].max() - datetime.timedelta( days=(k-1)*6*7)\n",
    "\n",
    "        # filtering dataset\n",
    "        training = x_training[x_training['date'] < validation_start_date]\n",
    "        validation = x_training[(x_training['date'] >= validation_start_date) & (x_training['date'] <= validation_end_date)]\n",
    "\n",
    "        # training and validation dataset\n",
    "        # training\n",
    "        xtraining = training.drop( ['date', 'sales'], axis=1 ) \n",
    "        ytraining = training['sales']\n",
    "\n",
    "        # validation\n",
    "        xvalidation = validation.drop( ['date', 'sales'], axis=1 )\n",
    "        yvalidation = validation['sales']\n",
    "\n",
    "        # model\n",
    "        m = model.fit( xtraining, ytraining )\n",
    "\n",
    "        # prediction\n",
    "        yhat = m.predict( xvalidation )\n",
    "\n",
    "        # performance\n",
    "        m_result = ml_error( model_name, yvalidation ,  yhat  )\n",
    "\n",
    "        # store performance of each kfold iteration\n",
    "        mae_list.append(  m_result['MAE'] )\n",
    "        mape_list.append( m_result['MAPE'] )\n",
    "        rmse_list.append( m_result['RMSE'] )\n",
    "        \n",
    "        dict_ = {'Model Name': model_name,\n",
    "                 'MAE CV': np.round( np.mean( mae_list ), 3 ).astype( str ) + ' +/- ' + np.round( np.std( mae_list ), 3 ).astype( str ),\n",
    "                 'MAPE CV': np.round( np.mean( mape_list ), 3 ).astype( str ) + ' +/- ' + np.round( np.std( mape_list ), 3 ).astype( str ),\n",
    "                 'RMSE CV': np.round( np.mean( rmse_list ), 3 ).astype( str ) + ' +/- ' + np.round( np.std( rmse_list ), 3 ).astype( str ) }\n",
    "\n",
    "    return pd.DataFrame( dict_, index=[0] )\n",
    "\n",
    "\n",
    "def ml_error(model_name, y_test, yhat,):\n",
    "    mae = metrics.mean_absolute_error(y_test, yhat)\n",
    "    mape = metrics.mean_absolute_percentage_error(y_test, yhat)\n",
    "    rmse = np.sqrt(metrics.mean_squared_error(y_test, yhat))\n",
    "    \n",
    "    dict_ = {'Model': model_name,\n",
    "             'MAE': mae,\n",
    "             'MAPE': mape,\n",
    "             'RMSE': rmse\n",
    "    }\n",
    "    \n",
    "    return pd.DataFrame(dict_, index=[0])\n",
    "\n",
    "\n",
    "def jupyter_settings():\n",
    "    %matplotlib inline\n",
    "    %pylab inline\n",
    "    \n",
    "    plt.style.use( 'bmh' )\n",
    "    plt.rcParams['figure.figsize'] = [25, 12]\n",
    "    plt.rcParams['font.size'] = 24\n",
    "    \n",
    "    display( HTML( '<style>.container { width:100% !important; }</style>') )\n",
    "    pd.options.display.max_columns = None\n",
    "    pd.options.display.max_rows = None\n",
    "    pd.set_option( 'display.expand_frame_repr', False )\n",
    "    pd.set_option('display.float_format', lambda x: '%.2f' % x)\n",
    "    \n",
    "    sns.set_style(\"whitegrid\")\n",
    "    \n",
    "    sns.set()\n",
    "jupyter_settings()"
   ]
  },
  {
   "cell_type": "markdown",
   "id": "bizarre-illness",
   "metadata": {
    "heading_collapsed": true,
    "hidden": true
   },
   "source": [
    "## 0.2. Load Data"
   ]
  },
  {
   "cell_type": "code",
   "execution_count": 97,
   "id": "legitimate-showcase",
   "metadata": {
    "ExecuteTime": {
     "end_time": "2021-08-08T03:07:43.295221Z",
     "start_time": "2021-08-08T03:07:41.218702Z"
    },
    "hidden": true
   },
   "outputs": [],
   "source": [
    "df_store_raw = pd.read_csv('../data/store.csv', low_memory=False)\n",
    "df_sales_raw = pd.read_csv('../data/train.csv', low_memory=False)\n",
    "\n",
    "# merge\n",
    "df_raw = pd.merge(df_store_raw, df_sales_raw, how='left', on='Store')"
   ]
  },
  {
   "cell_type": "markdown",
   "id": "north-revision",
   "metadata": {
    "heading_collapsed": true
   },
   "source": [
    "# 1.0. Data Description"
   ]
  },
  {
   "cell_type": "code",
   "execution_count": 98,
   "id": "grave-implement",
   "metadata": {
    "ExecuteTime": {
     "end_time": "2021-08-08T03:07:43.399476Z",
     "start_time": "2021-08-08T03:07:43.298070Z"
    },
    "hidden": true
   },
   "outputs": [],
   "source": [
    "df1 = df_raw.copy()"
   ]
  },
  {
   "cell_type": "markdown",
   "id": "nutritional-thesaurus",
   "metadata": {
    "heading_collapsed": true,
    "hidden": true
   },
   "source": [
    "## 1.1. Rename Columns"
   ]
  },
  {
   "cell_type": "code",
   "execution_count": 99,
   "id": "controlling-suggestion",
   "metadata": {
    "ExecuteTime": {
     "end_time": "2021-08-08T03:07:43.409481Z",
     "start_time": "2021-08-08T03:07:43.401601Z"
    },
    "hidden": true,
    "run_control": {
     "marked": false
    }
   },
   "outputs": [],
   "source": [
    "cols = ['store',\n",
    "        'store_type',\n",
    "        'assortment',\n",
    "        'competition_distance',\n",
    "        'competition_open_since_month',\n",
    "        'competition_open_since_year',\n",
    "        'promo2',\n",
    "        'promo2_since_week',\n",
    "        'promo2_since_year',\n",
    "        'promo_interval',\n",
    "        'day_of_week',\n",
    "        'date',\n",
    "        'sales',\n",
    "        'customers',\n",
    "        'open',\n",
    "        'promo',\n",
    "        'state_holiday',\n",
    "        'school_holiday']\n",
    "df1.columns = cols"
   ]
  },
  {
   "cell_type": "markdown",
   "id": "fancy-turtle",
   "metadata": {
    "heading_collapsed": true,
    "hidden": true
   },
   "source": [
    "## 1.2. Data Dimensions"
   ]
  },
  {
   "cell_type": "code",
   "execution_count": 100,
   "id": "suitable-variable",
   "metadata": {
    "ExecuteTime": {
     "end_time": "2021-08-08T03:07:43.422782Z",
     "start_time": "2021-08-08T03:07:43.414334Z"
    },
    "hidden": true
   },
   "outputs": [
    {
     "name": "stdout",
     "output_type": "stream",
     "text": [
      "Number of Rows: 1017209\n",
      "Number of Cols: 18\n"
     ]
    }
   ],
   "source": [
    "print('Number of Rows: {}'.format(df1.shape[0]))\n",
    "print('Number of Cols: {}'.format(df1.shape[1]))"
   ]
  },
  {
   "cell_type": "markdown",
   "id": "satellite-senate",
   "metadata": {
    "heading_collapsed": true,
    "hidden": true
   },
   "source": [
    "## 1.3. Data Types"
   ]
  },
  {
   "cell_type": "code",
   "execution_count": 101,
   "id": "fluid-congress",
   "metadata": {
    "ExecuteTime": {
     "end_time": "2021-08-08T03:07:43.433296Z",
     "start_time": "2021-08-08T03:07:43.424889Z"
    },
    "hidden": true
   },
   "outputs": [
    {
     "data": {
      "text/plain": [
       "store                             int64\n",
       "store_type                       object\n",
       "assortment                       object\n",
       "competition_distance            float64\n",
       "competition_open_since_month    float64\n",
       "competition_open_since_year     float64\n",
       "promo2                            int64\n",
       "promo2_since_week               float64\n",
       "promo2_since_year               float64\n",
       "promo_interval                   object\n",
       "day_of_week                       int64\n",
       "date                             object\n",
       "sales                             int64\n",
       "customers                         int64\n",
       "open                              int64\n",
       "promo                             int64\n",
       "state_holiday                    object\n",
       "school_holiday                    int64\n",
       "dtype: object"
      ]
     },
     "execution_count": 101,
     "metadata": {},
     "output_type": "execute_result"
    }
   ],
   "source": [
    "df1.dtypes"
   ]
  },
  {
   "cell_type": "markdown",
   "id": "sonic-glasgow",
   "metadata": {
    "heading_collapsed": true,
    "hidden": true
   },
   "source": [
    "## 1.4. Check NA"
   ]
  },
  {
   "cell_type": "code",
   "execution_count": 102,
   "id": "helpful-brain",
   "metadata": {
    "ExecuteTime": {
     "end_time": "2021-08-08T03:07:43.856889Z",
     "start_time": "2021-08-08T03:07:43.442648Z"
    },
    "hidden": true
   },
   "outputs": [
    {
     "data": {
      "text/plain": [
       "store                          0.00\n",
       "store_type                     0.00\n",
       "assortment                     0.00\n",
       "competition_distance           0.00\n",
       "competition_open_since_month   0.32\n",
       "competition_open_since_year    0.32\n",
       "promo2                         0.00\n",
       "promo2_since_week              0.50\n",
       "promo2_since_year              0.50\n",
       "promo_interval                 0.50\n",
       "day_of_week                    0.00\n",
       "date                           0.00\n",
       "sales                          0.00\n",
       "customers                      0.00\n",
       "open                           0.00\n",
       "promo                          0.00\n",
       "state_holiday                  0.00\n",
       "school_holiday                 0.00\n",
       "dtype: float64"
      ]
     },
     "execution_count": 102,
     "metadata": {},
     "output_type": "execute_result"
    }
   ],
   "source": [
    "df1.isna().mean()"
   ]
  },
  {
   "cell_type": "markdown",
   "id": "virgin-survival",
   "metadata": {
    "heading_collapsed": true,
    "hidden": true
   },
   "source": [
    "## 1.5. Replace NA"
   ]
  },
  {
   "cell_type": "code",
   "execution_count": 103,
   "id": "incomplete-french",
   "metadata": {
    "ExecuteTime": {
     "end_time": "2021-08-08T03:07:44.945448Z",
     "start_time": "2021-08-08T03:07:43.859809Z"
    },
    "hidden": true
   },
   "outputs": [],
   "source": [
    "df1 = df1.dropna().reset_index(drop=True)"
   ]
  },
  {
   "cell_type": "markdown",
   "id": "protecting-anaheim",
   "metadata": {
    "heading_collapsed": true,
    "hidden": true
   },
   "source": [
    "## 1.6. Change Dtypes"
   ]
  },
  {
   "cell_type": "code",
   "execution_count": 104,
   "id": "blessed-sheep",
   "metadata": {
    "ExecuteTime": {
     "end_time": "2021-08-08T03:07:45.041128Z",
     "start_time": "2021-08-08T03:07:44.950267Z"
    },
    "hidden": true
   },
   "outputs": [],
   "source": [
    "df1['date'] = pd.to_datetime( df1['date'] )"
   ]
  },
  {
   "cell_type": "markdown",
   "id": "separated-toyota",
   "metadata": {
    "heading_collapsed": true,
    "hidden": true
   },
   "source": [
    "## 1.7. Statistical Descriptive"
   ]
  },
  {
   "cell_type": "markdown",
   "id": "incorporate-arcade",
   "metadata": {
    "heading_collapsed": true
   },
   "source": [
    "# 2.0. Feature Engeering"
   ]
  },
  {
   "cell_type": "code",
   "execution_count": 105,
   "id": "minor-craps",
   "metadata": {
    "ExecuteTime": {
     "end_time": "2021-08-08T03:07:45.062050Z",
     "start_time": "2021-08-08T03:07:45.045076Z"
    },
    "hidden": true
   },
   "outputs": [],
   "source": [
    "df2 = df1.copy()"
   ]
  },
  {
   "cell_type": "markdown",
   "id": "limited-cover",
   "metadata": {
    "heading_collapsed": true
   },
   "source": [
    "# 3.0. Data Filtering"
   ]
  },
  {
   "cell_type": "code",
   "execution_count": 106,
   "id": "honey-bermuda",
   "metadata": {
    "ExecuteTime": {
     "end_time": "2021-08-08T03:07:45.099985Z",
     "start_time": "2021-08-08T03:07:45.064106Z"
    },
    "hidden": true
   },
   "outputs": [],
   "source": [
    "df3 = df2.copy()"
   ]
  },
  {
   "cell_type": "markdown",
   "id": "united-sunday",
   "metadata": {
    "heading_collapsed": true,
    "hidden": true
   },
   "source": [
    "## 3.1. Filter Rows"
   ]
  },
  {
   "cell_type": "code",
   "execution_count": 107,
   "id": "capital-beijing",
   "metadata": {
    "ExecuteTime": {
     "end_time": "2021-08-08T03:07:45.262437Z",
     "start_time": "2021-08-08T03:07:45.105672Z"
    },
    "hidden": true
   },
   "outputs": [],
   "source": [
    "df3 = df3.loc[(df3['open'] != 0) & (df3['sales'] != 0) , :]"
   ]
  },
  {
   "cell_type": "markdown",
   "id": "modern-architecture",
   "metadata": {
    "heading_collapsed": true,
    "hidden": true
   },
   "source": [
    "## 3.2. Filter Columns"
   ]
  },
  {
   "cell_type": "code",
   "execution_count": 108,
   "id": "greenhouse-collector",
   "metadata": {
    "ExecuteTime": {
     "end_time": "2021-08-08T03:07:45.291849Z",
     "start_time": "2021-08-08T03:07:45.264167Z"
    },
    "hidden": true
   },
   "outputs": [],
   "source": [
    "cols_drop = ['promo_interval', 'open']\n",
    "\n",
    "df3 = df3.drop(cols_drop, axis=1)"
   ]
  },
  {
   "cell_type": "markdown",
   "id": "august-agency",
   "metadata": {
    "heading_collapsed": true
   },
   "source": [
    "# 4.0. EDA"
   ]
  },
  {
   "cell_type": "code",
   "execution_count": 109,
   "id": "balanced-dover",
   "metadata": {
    "ExecuteTime": {
     "end_time": "2021-08-08T03:07:45.312235Z",
     "start_time": "2021-08-08T03:07:45.294102Z"
    },
    "hidden": true
   },
   "outputs": [],
   "source": [
    "df4 = df3.copy()"
   ]
  },
  {
   "cell_type": "markdown",
   "id": "whole-affiliate",
   "metadata": {
    "heading_collapsed": true
   },
   "source": [
    "# 5.0. Data Preparation"
   ]
  },
  {
   "cell_type": "code",
   "execution_count": 110,
   "id": "amino-species",
   "metadata": {
    "ExecuteTime": {
     "end_time": "2021-08-08T03:07:45.340242Z",
     "start_time": "2021-08-08T03:07:45.318253Z"
    },
    "hidden": true
   },
   "outputs": [],
   "source": [
    "df5 = df4.copy()"
   ]
  },
  {
   "cell_type": "markdown",
   "id": "choice-desktop",
   "metadata": {
    "heading_collapsed": true,
    "hidden": true
   },
   "source": [
    "## 5.1. Standardization"
   ]
  },
  {
   "cell_type": "markdown",
   "id": "changed-while",
   "metadata": {
    "hidden": true
   },
   "source": [
    "## 5.2. Rescale"
   ]
  },
  {
   "cell_type": "markdown",
   "id": "focused-translation",
   "metadata": {
    "heading_collapsed": true,
    "hidden": true
   },
   "source": [
    "## 5.3. Encoder\n",
    "\n"
   ]
  },
  {
   "cell_type": "code",
   "execution_count": 111,
   "id": "german-period",
   "metadata": {
    "ExecuteTime": {
     "end_time": "2021-08-08T03:07:45.346168Z",
     "start_time": "2021-08-08T03:07:45.343248Z"
    },
    "hidden": true
   },
   "outputs": [],
   "source": [
    "# df5['sales'] = np.log1p(df5['sales'])"
   ]
  },
  {
   "cell_type": "code",
   "execution_count": 112,
   "id": "varied-bradford",
   "metadata": {
    "ExecuteTime": {
     "end_time": "2021-08-08T03:07:45.992341Z",
     "start_time": "2021-08-08T03:07:45.349317Z"
    },
    "hidden": true
   },
   "outputs": [],
   "source": [
    "le = pp.LabelEncoder()\n",
    "\n",
    "df5['store_type'] = le.fit_transform( df5[['store_type']].values.ravel() )\n",
    "df5['assortment'] = le.fit_transform( df5[['assortment']].values.ravel() )\n",
    "df5['state_holiday'] = le.fit_transform( df5[['state_holiday']].values.ravel() )"
   ]
  },
  {
   "cell_type": "markdown",
   "id": "expired-newport",
   "metadata": {
    "heading_collapsed": true
   },
   "source": [
    "# 6.0. Feature Selection"
   ]
  },
  {
   "cell_type": "code",
   "execution_count": 113,
   "id": "noted-differential",
   "metadata": {
    "ExecuteTime": {
     "end_time": "2021-08-08T03:07:46.009099Z",
     "start_time": "2021-08-08T03:07:45.994905Z"
    },
    "hidden": true
   },
   "outputs": [],
   "source": [
    "df6 = df5.copy()"
   ]
  },
  {
   "cell_type": "markdown",
   "id": "eight-asian",
   "metadata": {
    "hidden": true
   },
   "source": [
    "## 6.1. Splitting data into training and test datasets"
   ]
  },
  {
   "cell_type": "code",
   "execution_count": 114,
   "id": "banner-opposition",
   "metadata": {
    "ExecuteTime": {
     "end_time": "2021-08-08T03:07:46.122564Z",
     "start_time": "2021-08-08T03:07:46.012099Z"
    },
    "hidden": true
   },
   "outputs": [
    {
     "data": {
      "text/plain": [
       "Timestamp('2015-06-19 00:00:00')"
      ]
     },
     "execution_count": 114,
     "metadata": {},
     "output_type": "execute_result"
    }
   ],
   "source": [
    "df6[['store', 'date']].groupby('store').max().reset_index()['date'][0] - datetime.timedelta(days=6*7)"
   ]
  },
  {
   "cell_type": "code",
   "execution_count": 115,
   "id": "tamil-launch",
   "metadata": {
    "ExecuteTime": {
     "end_time": "2021-08-08T03:07:46.161802Z",
     "start_time": "2021-08-08T03:07:46.125292Z"
    },
    "hidden": true
   },
   "outputs": [],
   "source": [
    "X_train = df6[df6['date'] < '2015-06-19']\n",
    "y_train = X_train['sales']\n",
    "\n",
    "X_test = df6[df6['date'] >= '2015-06-19']\n",
    "y_test = X_test['sales']"
   ]
  },
  {
   "cell_type": "markdown",
   "id": "extra-profit",
   "metadata": {
    "heading_collapsed": true
   },
   "source": [
    "# 7.0. Model Training"
   ]
  },
  {
   "cell_type": "code",
   "execution_count": 116,
   "id": "figured-liverpool",
   "metadata": {
    "ExecuteTime": {
     "end_time": "2021-08-08T03:07:46.285258Z",
     "start_time": "2021-08-08T03:07:46.168851Z"
    },
    "hidden": true
   },
   "outputs": [],
   "source": [
    "x_train = X_train.drop( ['date', 'sales'], axis=1 )\n",
    "x_test = X_test.drop( ['date', 'sales'], axis=1 )\n",
    "\n",
    "x_training = X_train.copy()"
   ]
  },
  {
   "cell_type": "markdown",
   "id": "boring-lover",
   "metadata": {
    "heading_collapsed": true,
    "hidden": true
   },
   "source": [
    "## 7.1. Average Model"
   ]
  },
  {
   "cell_type": "code",
   "execution_count": 117,
   "id": "beginning-moisture",
   "metadata": {
    "ExecuteTime": {
     "end_time": "2021-08-08T03:07:46.304783Z",
     "start_time": "2021-08-08T03:07:46.286898Z"
    },
    "hidden": true
   },
   "outputs": [
    {
     "data": {
      "text/html": [
       "<div>\n",
       "<style scoped>\n",
       "    .dataframe tbody tr th:only-of-type {\n",
       "        vertical-align: middle;\n",
       "    }\n",
       "\n",
       "    .dataframe tbody tr th {\n",
       "        vertical-align: top;\n",
       "    }\n",
       "\n",
       "    .dataframe thead th {\n",
       "        text-align: right;\n",
       "    }\n",
       "</style>\n",
       "<table border=\"1\" class=\"dataframe\">\n",
       "  <thead>\n",
       "    <tr style=\"text-align: right;\">\n",
       "      <th></th>\n",
       "      <th>Model</th>\n",
       "      <th>MAE</th>\n",
       "      <th>MAPE</th>\n",
       "      <th>RMSE</th>\n",
       "    </tr>\n",
       "  </thead>\n",
       "  <tbody>\n",
       "    <tr>\n",
       "      <th>0</th>\n",
       "      <td>DummyRegressor</td>\n",
       "      <td>2021.75</td>\n",
       "      <td>0.37</td>\n",
       "      <td>2661.58</td>\n",
       "    </tr>\n",
       "  </tbody>\n",
       "</table>\n",
       "</div>"
      ],
      "text/plain": [
       "            Model     MAE  MAPE    RMSE\n",
       "0  DummyRegressor 2021.75  0.37 2661.58"
      ]
     },
     "execution_count": 117,
     "metadata": {},
     "output_type": "execute_result"
    }
   ],
   "source": [
    "# model definition\n",
    "model_avg = DummyRegressor()\n",
    "\n",
    "# fit\n",
    "model_avg.fit(x_train, y_train)\n",
    "\n",
    "# predictions\n",
    "yhat_baseline = model_avg.predict(x_test)\n",
    "\n",
    "# perfomance\n",
    "result_baseline = ml_error('DummyRegressor', y_test, yhat_baseline)\n",
    "result_baseline"
   ]
  },
  {
   "cell_type": "code",
   "execution_count": 118,
   "id": "anticipated-match",
   "metadata": {
    "ExecuteTime": {
     "end_time": "2021-08-08T03:07:46.675212Z",
     "start_time": "2021-08-08T03:07:46.306910Z"
    },
    "hidden": true
   },
   "outputs": [
    {
     "data": {
      "text/html": [
       "<div>\n",
       "<style scoped>\n",
       "    .dataframe tbody tr th:only-of-type {\n",
       "        vertical-align: middle;\n",
       "    }\n",
       "\n",
       "    .dataframe tbody tr th {\n",
       "        vertical-align: top;\n",
       "    }\n",
       "\n",
       "    .dataframe thead th {\n",
       "        text-align: right;\n",
       "    }\n",
       "</style>\n",
       "<table border=\"1\" class=\"dataframe\">\n",
       "  <thead>\n",
       "    <tr style=\"text-align: right;\">\n",
       "      <th></th>\n",
       "      <th>Model Name</th>\n",
       "      <th>MAE CV</th>\n",
       "      <th>MAPE CV</th>\n",
       "      <th>RMSE CV</th>\n",
       "    </tr>\n",
       "  </thead>\n",
       "  <tbody>\n",
       "    <tr>\n",
       "      <th>0</th>\n",
       "      <td>DummyRegressor</td>\n",
       "      <td>2142.95 +/- 335.77</td>\n",
       "      <td>0.36 +/- 0.01</td>\n",
       "      <td>2839.45 +/- 487.56</td>\n",
       "    </tr>\n",
       "  </tbody>\n",
       "</table>\n",
       "</div>"
      ],
      "text/plain": [
       "       Model Name              MAE CV        MAPE CV             RMSE CV\n",
       "0  DummyRegressor  2142.95 +/- 335.77  0.36 +/- 0.01  2839.45 +/- 487.56"
      ]
     },
     "execution_count": 118,
     "metadata": {},
     "output_type": "execute_result"
    }
   ],
   "source": [
    "result_baseline_cv = cross_validation(x_training, 5, 'DummyRegressor', model_avg)\n",
    "result_baseline_cv"
   ]
  },
  {
   "cell_type": "markdown",
   "id": "regulated-pioneer",
   "metadata": {
    "heading_collapsed": true,
    "hidden": true
   },
   "source": [
    "## 7.2. Linear Regression Model"
   ]
  },
  {
   "cell_type": "code",
   "execution_count": 119,
   "id": "dutch-haven",
   "metadata": {
    "ExecuteTime": {
     "end_time": "2021-08-08T03:07:47.018586Z",
     "start_time": "2021-08-08T03:07:46.677982Z"
    },
    "hidden": true
   },
   "outputs": [
    {
     "data": {
      "text/html": [
       "<div>\n",
       "<style scoped>\n",
       "    .dataframe tbody tr th:only-of-type {\n",
       "        vertical-align: middle;\n",
       "    }\n",
       "\n",
       "    .dataframe tbody tr th {\n",
       "        vertical-align: top;\n",
       "    }\n",
       "\n",
       "    .dataframe thead th {\n",
       "        text-align: right;\n",
       "    }\n",
       "</style>\n",
       "<table border=\"1\" class=\"dataframe\">\n",
       "  <thead>\n",
       "    <tr style=\"text-align: right;\">\n",
       "      <th></th>\n",
       "      <th>Model</th>\n",
       "      <th>MAE</th>\n",
       "      <th>MAPE</th>\n",
       "      <th>RMSE</th>\n",
       "    </tr>\n",
       "  </thead>\n",
       "  <tbody>\n",
       "    <tr>\n",
       "      <th>0</th>\n",
       "      <td>LinearRegression</td>\n",
       "      <td>901.44</td>\n",
       "      <td>0.14</td>\n",
       "      <td>1252.70</td>\n",
       "    </tr>\n",
       "  </tbody>\n",
       "</table>\n",
       "</div>"
      ],
      "text/plain": [
       "              Model    MAE  MAPE    RMSE\n",
       "0  LinearRegression 901.44  0.14 1252.70"
      ]
     },
     "execution_count": 119,
     "metadata": {},
     "output_type": "execute_result"
    }
   ],
   "source": [
    "# model definition\n",
    "model_lr = lm.LinearRegression()\n",
    "\n",
    "# fit\n",
    "model_lr.fit(x_train, y_train)\n",
    "\n",
    "# predictions\n",
    "yhat_lr = model_lr.predict(x_test)\n",
    "\n",
    "# perfomance\n",
    "result_lr = ml_error('LinearRegression', y_test, yhat_lr)\n",
    "result_lr"
   ]
  },
  {
   "cell_type": "code",
   "execution_count": 120,
   "id": "accepted-avatar",
   "metadata": {
    "ExecuteTime": {
     "end_time": "2021-08-08T03:07:48.273854Z",
     "start_time": "2021-08-08T03:07:47.022507Z"
    },
    "hidden": true
   },
   "outputs": [
    {
     "data": {
      "text/html": [
       "<div>\n",
       "<style scoped>\n",
       "    .dataframe tbody tr th:only-of-type {\n",
       "        vertical-align: middle;\n",
       "    }\n",
       "\n",
       "    .dataframe tbody tr th {\n",
       "        vertical-align: top;\n",
       "    }\n",
       "\n",
       "    .dataframe thead th {\n",
       "        text-align: right;\n",
       "    }\n",
       "</style>\n",
       "<table border=\"1\" class=\"dataframe\">\n",
       "  <thead>\n",
       "    <tr style=\"text-align: right;\">\n",
       "      <th></th>\n",
       "      <th>Model Name</th>\n",
       "      <th>MAE CV</th>\n",
       "      <th>MAPE CV</th>\n",
       "      <th>RMSE CV</th>\n",
       "    </tr>\n",
       "  </thead>\n",
       "  <tbody>\n",
       "    <tr>\n",
       "      <th>0</th>\n",
       "      <td>LinearRegression</td>\n",
       "      <td>932.75 +/- 112.67</td>\n",
       "      <td>0.13 +/- 0.0</td>\n",
       "      <td>1276.53 +/- 176.78</td>\n",
       "    </tr>\n",
       "  </tbody>\n",
       "</table>\n",
       "</div>"
      ],
      "text/plain": [
       "         Model Name             MAE CV       MAPE CV             RMSE CV\n",
       "0  LinearRegression  932.75 +/- 112.67  0.13 +/- 0.0  1276.53 +/- 176.78"
      ]
     },
     "execution_count": 120,
     "metadata": {},
     "output_type": "execute_result"
    }
   ],
   "source": [
    "result_lr_cv = cross_validation(x_training, 5, 'LinearRegression', model_lr)\n",
    "result_lr_cv"
   ]
  },
  {
   "cell_type": "markdown",
   "id": "indian-supervisor",
   "metadata": {
    "heading_collapsed": true,
    "hidden": true
   },
   "source": [
    "## 7.3. Linear Regression - Lasso"
   ]
  },
  {
   "cell_type": "code",
   "execution_count": 121,
   "id": "stuffed-belgium",
   "metadata": {
    "ExecuteTime": {
     "end_time": "2021-08-08T03:07:48.813267Z",
     "start_time": "2021-08-08T03:07:48.285791Z"
    },
    "hidden": true
   },
   "outputs": [
    {
     "data": {
      "text/html": [
       "<div>\n",
       "<style scoped>\n",
       "    .dataframe tbody tr th:only-of-type {\n",
       "        vertical-align: middle;\n",
       "    }\n",
       "\n",
       "    .dataframe tbody tr th {\n",
       "        vertical-align: top;\n",
       "    }\n",
       "\n",
       "    .dataframe thead th {\n",
       "        text-align: right;\n",
       "    }\n",
       "</style>\n",
       "<table border=\"1\" class=\"dataframe\">\n",
       "  <thead>\n",
       "    <tr style=\"text-align: right;\">\n",
       "      <th></th>\n",
       "      <th>Model</th>\n",
       "      <th>MAE</th>\n",
       "      <th>MAPE</th>\n",
       "      <th>RMSE</th>\n",
       "    </tr>\n",
       "  </thead>\n",
       "  <tbody>\n",
       "    <tr>\n",
       "      <th>0</th>\n",
       "      <td>Lasso</td>\n",
       "      <td>903.62</td>\n",
       "      <td>0.14</td>\n",
       "      <td>1256.37</td>\n",
       "    </tr>\n",
       "  </tbody>\n",
       "</table>\n",
       "</div>"
      ],
      "text/plain": [
       "   Model    MAE  MAPE    RMSE\n",
       "0  Lasso 903.62  0.14 1256.37"
      ]
     },
     "execution_count": 121,
     "metadata": {},
     "output_type": "execute_result"
    }
   ],
   "source": [
    "# model definition\n",
    "model_lrr = lm.Lasso()\n",
    "\n",
    "# fit\n",
    "model_lrr.fit(x_train, y_train)\n",
    "\n",
    "# predictions\n",
    "yhat_lrr = model_lr.predict(x_test)\n",
    "\n",
    "# perfomance\n",
    "result_lrr = ml_error('Lasso', y_test, yhat_lrr)\n",
    "result_lrr"
   ]
  },
  {
   "cell_type": "code",
   "execution_count": 122,
   "id": "minimal-index",
   "metadata": {
    "ExecuteTime": {
     "end_time": "2021-08-08T03:07:50.294973Z",
     "start_time": "2021-08-08T03:07:48.849531Z"
    },
    "hidden": true
   },
   "outputs": [
    {
     "data": {
      "text/html": [
       "<div>\n",
       "<style scoped>\n",
       "    .dataframe tbody tr th:only-of-type {\n",
       "        vertical-align: middle;\n",
       "    }\n",
       "\n",
       "    .dataframe tbody tr th {\n",
       "        vertical-align: top;\n",
       "    }\n",
       "\n",
       "    .dataframe thead th {\n",
       "        text-align: right;\n",
       "    }\n",
       "</style>\n",
       "<table border=\"1\" class=\"dataframe\">\n",
       "  <thead>\n",
       "    <tr style=\"text-align: right;\">\n",
       "      <th></th>\n",
       "      <th>Model Name</th>\n",
       "      <th>MAE CV</th>\n",
       "      <th>MAPE CV</th>\n",
       "      <th>RMSE CV</th>\n",
       "    </tr>\n",
       "  </thead>\n",
       "  <tbody>\n",
       "    <tr>\n",
       "      <th>0</th>\n",
       "      <td>LinearRegression - Lasso</td>\n",
       "      <td>932.87 +/- 112.86</td>\n",
       "      <td>0.13 +/- 0.0</td>\n",
       "      <td>1276.79 +/- 177.06</td>\n",
       "    </tr>\n",
       "  </tbody>\n",
       "</table>\n",
       "</div>"
      ],
      "text/plain": [
       "                 Model Name             MAE CV       MAPE CV             RMSE CV\n",
       "0  LinearRegression - Lasso  932.87 +/- 112.86  0.13 +/- 0.0  1276.79 +/- 177.06"
      ]
     },
     "execution_count": 122,
     "metadata": {},
     "output_type": "execute_result"
    }
   ],
   "source": [
    "result_lrr_cv = cross_validation(x_training, 5, 'LinearRegression - Lasso', model_lrr)\n",
    "result_lrr_cv"
   ]
  },
  {
   "cell_type": "markdown",
   "id": "modular-granny",
   "metadata": {
    "heading_collapsed": true,
    "hidden": true
   },
   "source": [
    "## 7.4. Random Forest Regressor"
   ]
  },
  {
   "cell_type": "code",
   "execution_count": 123,
   "id": "international-legislation",
   "metadata": {
    "ExecuteTime": {
     "end_time": "2021-08-08T03:09:28.121088Z",
     "start_time": "2021-08-08T03:07:50.298589Z"
    },
    "hidden": true
   },
   "outputs": [
    {
     "data": {
      "text/html": [
       "<div>\n",
       "<style scoped>\n",
       "    .dataframe tbody tr th:only-of-type {\n",
       "        vertical-align: middle;\n",
       "    }\n",
       "\n",
       "    .dataframe tbody tr th {\n",
       "        vertical-align: top;\n",
       "    }\n",
       "\n",
       "    .dataframe thead th {\n",
       "        text-align: right;\n",
       "    }\n",
       "</style>\n",
       "<table border=\"1\" class=\"dataframe\">\n",
       "  <thead>\n",
       "    <tr style=\"text-align: right;\">\n",
       "      <th></th>\n",
       "      <th>Model</th>\n",
       "      <th>MAE</th>\n",
       "      <th>MAPE</th>\n",
       "      <th>RMSE</th>\n",
       "    </tr>\n",
       "  </thead>\n",
       "  <tbody>\n",
       "    <tr>\n",
       "      <th>0</th>\n",
       "      <td>RandomForestRegressor</td>\n",
       "      <td>454.46</td>\n",
       "      <td>0.07</td>\n",
       "      <td>641.04</td>\n",
       "    </tr>\n",
       "  </tbody>\n",
       "</table>\n",
       "</div>"
      ],
      "text/plain": [
       "                   Model    MAE  MAPE   RMSE\n",
       "0  RandomForestRegressor 454.46  0.07 641.04"
      ]
     },
     "execution_count": 123,
     "metadata": {},
     "output_type": "execute_result"
    }
   ],
   "source": [
    "# model definition\n",
    "model_rf = en.RandomForestRegressor()\n",
    "\n",
    "# fit\n",
    "model_rf.fit(x_train, y_train)\n",
    "\n",
    "# predictions\n",
    "yhat_rf = model_rf.predict(x_test)\n",
    "\n",
    "# perfomance\n",
    "result_rf = ml_error('RandomForestRegressor', y_test, yhat_rf)\n",
    "result_rf"
   ]
  },
  {
   "cell_type": "code",
   "execution_count": 124,
   "id": "arctic-cycle",
   "metadata": {
    "ExecuteTime": {
     "end_time": "2021-08-08T03:16:04.669264Z",
     "start_time": "2021-08-08T03:09:28.124239Z"
    },
    "hidden": true
   },
   "outputs": [
    {
     "data": {
      "text/html": [
       "<div>\n",
       "<style scoped>\n",
       "    .dataframe tbody tr th:only-of-type {\n",
       "        vertical-align: middle;\n",
       "    }\n",
       "\n",
       "    .dataframe tbody tr th {\n",
       "        vertical-align: top;\n",
       "    }\n",
       "\n",
       "    .dataframe thead th {\n",
       "        text-align: right;\n",
       "    }\n",
       "</style>\n",
       "<table border=\"1\" class=\"dataframe\">\n",
       "  <thead>\n",
       "    <tr style=\"text-align: right;\">\n",
       "      <th></th>\n",
       "      <th>Model Name</th>\n",
       "      <th>MAE CV</th>\n",
       "      <th>MAPE CV</th>\n",
       "      <th>RMSE CV</th>\n",
       "    </tr>\n",
       "  </thead>\n",
       "  <tbody>\n",
       "    <tr>\n",
       "      <th>0</th>\n",
       "      <td>RandomForestRegressor</td>\n",
       "      <td>440.15 +/- 120.29</td>\n",
       "      <td>0.06 +/- 0.01</td>\n",
       "      <td>618.06 +/- 154.36</td>\n",
       "    </tr>\n",
       "  </tbody>\n",
       "</table>\n",
       "</div>"
      ],
      "text/plain": [
       "              Model Name             MAE CV        MAPE CV            RMSE CV\n",
       "0  RandomForestRegressor  440.15 +/- 120.29  0.06 +/- 0.01  618.06 +/- 154.36"
      ]
     },
     "execution_count": 124,
     "metadata": {},
     "output_type": "execute_result"
    }
   ],
   "source": [
    "result_rf_cv = cross_validation(x_training, 5, 'RandomForestRegressor', model_rf)\n",
    "result_rf_cv"
   ]
  },
  {
   "cell_type": "markdown",
   "id": "proprietary-ballot",
   "metadata": {
    "heading_collapsed": true,
    "hidden": true
   },
   "source": [
    "## 7.5. XGB Regressor"
   ]
  },
  {
   "cell_type": "code",
   "execution_count": 125,
   "id": "hollywood-earth",
   "metadata": {
    "ExecuteTime": {
     "end_time": "2021-08-08T03:16:20.539228Z",
     "start_time": "2021-08-08T03:16:04.671688Z"
    },
    "hidden": true
   },
   "outputs": [
    {
     "data": {
      "text/html": [
       "<div>\n",
       "<style scoped>\n",
       "    .dataframe tbody tr th:only-of-type {\n",
       "        vertical-align: middle;\n",
       "    }\n",
       "\n",
       "    .dataframe tbody tr th {\n",
       "        vertical-align: top;\n",
       "    }\n",
       "\n",
       "    .dataframe thead th {\n",
       "        text-align: right;\n",
       "    }\n",
       "</style>\n",
       "<table border=\"1\" class=\"dataframe\">\n",
       "  <thead>\n",
       "    <tr style=\"text-align: right;\">\n",
       "      <th></th>\n",
       "      <th>Model</th>\n",
       "      <th>MAE</th>\n",
       "      <th>MAPE</th>\n",
       "      <th>RMSE</th>\n",
       "    </tr>\n",
       "  </thead>\n",
       "  <tbody>\n",
       "    <tr>\n",
       "      <th>0</th>\n",
       "      <td>XGBRegressor</td>\n",
       "      <td>668.52</td>\n",
       "      <td>0.10</td>\n",
       "      <td>957.39</td>\n",
       "    </tr>\n",
       "  </tbody>\n",
       "</table>\n",
       "</div>"
      ],
      "text/plain": [
       "          Model    MAE  MAPE   RMSE\n",
       "0  XGBRegressor 668.52  0.10 957.39"
      ]
     },
     "execution_count": 125,
     "metadata": {},
     "output_type": "execute_result"
    }
   ],
   "source": [
    "# model definition\n",
    "model_xgb = XGBRegressor(objective='reg:squarederror')\n",
    "\n",
    "# fit\n",
    "model_xgb.fit(x_train, y_train)\n",
    "\n",
    "# predictions\n",
    "yhat_xgb = model_xgb.predict(x_test)\n",
    "\n",
    "# perfomance\n",
    "result_xgb = ml_error('XGBRegressor', y_test, yhat_xgb)\n",
    "result_xgb"
   ]
  },
  {
   "cell_type": "code",
   "execution_count": 126,
   "id": "static-accused",
   "metadata": {
    "ExecuteTime": {
     "end_time": "2021-08-08T03:17:26.606042Z",
     "start_time": "2021-08-08T03:16:20.541800Z"
    },
    "hidden": true
   },
   "outputs": [
    {
     "data": {
      "text/html": [
       "<div>\n",
       "<style scoped>\n",
       "    .dataframe tbody tr th:only-of-type {\n",
       "        vertical-align: middle;\n",
       "    }\n",
       "\n",
       "    .dataframe tbody tr th {\n",
       "        vertical-align: top;\n",
       "    }\n",
       "\n",
       "    .dataframe thead th {\n",
       "        text-align: right;\n",
       "    }\n",
       "</style>\n",
       "<table border=\"1\" class=\"dataframe\">\n",
       "  <thead>\n",
       "    <tr style=\"text-align: right;\">\n",
       "      <th></th>\n",
       "      <th>Model Name</th>\n",
       "      <th>MAE CV</th>\n",
       "      <th>MAPE CV</th>\n",
       "      <th>RMSE CV</th>\n",
       "    </tr>\n",
       "  </thead>\n",
       "  <tbody>\n",
       "    <tr>\n",
       "      <th>0</th>\n",
       "      <td>XGBRegressor</td>\n",
       "      <td>693.29 +/- 125.89</td>\n",
       "      <td>0.1 +/- 0.01</td>\n",
       "      <td>963.24 +/- 171.03</td>\n",
       "    </tr>\n",
       "  </tbody>\n",
       "</table>\n",
       "</div>"
      ],
      "text/plain": [
       "     Model Name             MAE CV       MAPE CV            RMSE CV\n",
       "0  XGBRegressor  693.29 +/- 125.89  0.1 +/- 0.01  963.24 +/- 171.03"
      ]
     },
     "execution_count": 126,
     "metadata": {},
     "output_type": "execute_result"
    }
   ],
   "source": [
    "result_xgb_cv = cross_validation(x_training, 5, 'XGBRegressor', model_xgb)\n",
    "result_xgb_cv"
   ]
  },
  {
   "cell_type": "markdown",
   "id": "exposed-bouquet",
   "metadata": {
    "heading_collapsed": true,
    "hidden": true
   },
   "source": [
    "## 7.6. Result"
   ]
  },
  {
   "cell_type": "code",
   "execution_count": 127,
   "id": "consecutive-thirty",
   "metadata": {
    "ExecuteTime": {
     "end_time": "2021-08-08T03:17:26.630607Z",
     "start_time": "2021-08-08T03:17:26.609031Z"
    },
    "hidden": true
   },
   "outputs": [
    {
     "data": {
      "text/html": [
       "<div>\n",
       "<style scoped>\n",
       "    .dataframe tbody tr th:only-of-type {\n",
       "        vertical-align: middle;\n",
       "    }\n",
       "\n",
       "    .dataframe tbody tr th {\n",
       "        vertical-align: top;\n",
       "    }\n",
       "\n",
       "    .dataframe thead th {\n",
       "        text-align: right;\n",
       "    }\n",
       "</style>\n",
       "<table border=\"1\" class=\"dataframe\">\n",
       "  <thead>\n",
       "    <tr style=\"text-align: right;\">\n",
       "      <th></th>\n",
       "      <th>Model</th>\n",
       "      <th>MAE</th>\n",
       "      <th>MAPE</th>\n",
       "      <th>RMSE</th>\n",
       "    </tr>\n",
       "  </thead>\n",
       "  <tbody>\n",
       "    <tr>\n",
       "      <th>0</th>\n",
       "      <td>DummyRegressor</td>\n",
       "      <td>2021.75</td>\n",
       "      <td>0.37</td>\n",
       "      <td>2661.58</td>\n",
       "    </tr>\n",
       "    <tr>\n",
       "      <th>0</th>\n",
       "      <td>LinearRegression</td>\n",
       "      <td>901.44</td>\n",
       "      <td>0.14</td>\n",
       "      <td>1252.70</td>\n",
       "    </tr>\n",
       "    <tr>\n",
       "      <th>0</th>\n",
       "      <td>Lasso</td>\n",
       "      <td>903.62</td>\n",
       "      <td>0.14</td>\n",
       "      <td>1256.37</td>\n",
       "    </tr>\n",
       "    <tr>\n",
       "      <th>0</th>\n",
       "      <td>RandomForestRegressor</td>\n",
       "      <td>454.46</td>\n",
       "      <td>0.07</td>\n",
       "      <td>641.04</td>\n",
       "    </tr>\n",
       "    <tr>\n",
       "      <th>0</th>\n",
       "      <td>XGBRegressor</td>\n",
       "      <td>668.52</td>\n",
       "      <td>0.10</td>\n",
       "      <td>957.39</td>\n",
       "    </tr>\n",
       "  </tbody>\n",
       "</table>\n",
       "</div>"
      ],
      "text/plain": [
       "                   Model     MAE  MAPE    RMSE\n",
       "0         DummyRegressor 2021.75  0.37 2661.58\n",
       "0       LinearRegression  901.44  0.14 1252.70\n",
       "0                  Lasso  903.62  0.14 1256.37\n",
       "0  RandomForestRegressor  454.46  0.07  641.04\n",
       "0           XGBRegressor  668.52  0.10  957.39"
      ]
     },
     "execution_count": 127,
     "metadata": {},
     "output_type": "execute_result"
    }
   ],
   "source": [
    "result = pd.concat([result_baseline, result_lr, result_lrr, result_rf, result_xgb])\n",
    "result"
   ]
  },
  {
   "cell_type": "code",
   "execution_count": 133,
   "id": "correct-debut",
   "metadata": {
    "ExecuteTime": {
     "end_time": "2021-08-08T03:18:13.790983Z",
     "start_time": "2021-08-08T03:18:13.771025Z"
    },
    "hidden": true
   },
   "outputs": [
    {
     "data": {
      "text/html": [
       "<div>\n",
       "<style scoped>\n",
       "    .dataframe tbody tr th:only-of-type {\n",
       "        vertical-align: middle;\n",
       "    }\n",
       "\n",
       "    .dataframe tbody tr th {\n",
       "        vertical-align: top;\n",
       "    }\n",
       "\n",
       "    .dataframe thead th {\n",
       "        text-align: right;\n",
       "    }\n",
       "</style>\n",
       "<table border=\"1\" class=\"dataframe\">\n",
       "  <thead>\n",
       "    <tr style=\"text-align: right;\">\n",
       "      <th></th>\n",
       "      <th>Model Name</th>\n",
       "      <th>MAE CV</th>\n",
       "      <th>MAPE CV</th>\n",
       "      <th>RMSE CV</th>\n",
       "    </tr>\n",
       "  </thead>\n",
       "  <tbody>\n",
       "    <tr>\n",
       "      <th>0</th>\n",
       "      <td>DummyRegressor</td>\n",
       "      <td>2142.95 +/- 335.77</td>\n",
       "      <td>0.36 +/- 0.01</td>\n",
       "      <td>2839.45 +/- 487.56</td>\n",
       "    </tr>\n",
       "    <tr>\n",
       "      <th>0</th>\n",
       "      <td>LinearRegression</td>\n",
       "      <td>932.75 +/- 112.67</td>\n",
       "      <td>0.13 +/- 0.0</td>\n",
       "      <td>1276.53 +/- 176.78</td>\n",
       "    </tr>\n",
       "    <tr>\n",
       "      <th>0</th>\n",
       "      <td>LinearRegression - Lasso</td>\n",
       "      <td>932.87 +/- 112.86</td>\n",
       "      <td>0.13 +/- 0.0</td>\n",
       "      <td>1276.79 +/- 177.06</td>\n",
       "    </tr>\n",
       "    <tr>\n",
       "      <th>0</th>\n",
       "      <td>RandomForestRegressor</td>\n",
       "      <td>440.15 +/- 120.29</td>\n",
       "      <td>0.06 +/- 0.01</td>\n",
       "      <td>618.06 +/- 154.36</td>\n",
       "    </tr>\n",
       "    <tr>\n",
       "      <th>0</th>\n",
       "      <td>XGBRegressor</td>\n",
       "      <td>693.29 +/- 125.89</td>\n",
       "      <td>0.1 +/- 0.01</td>\n",
       "      <td>963.24 +/- 171.03</td>\n",
       "    </tr>\n",
       "  </tbody>\n",
       "</table>\n",
       "</div>"
      ],
      "text/plain": [
       "                 Model Name              MAE CV        MAPE CV             RMSE CV\n",
       "0            DummyRegressor  2142.95 +/- 335.77  0.36 +/- 0.01  2839.45 +/- 487.56\n",
       "0          LinearRegression   932.75 +/- 112.67   0.13 +/- 0.0  1276.53 +/- 176.78\n",
       "0  LinearRegression - Lasso   932.87 +/- 112.86   0.13 +/- 0.0  1276.79 +/- 177.06\n",
       "0     RandomForestRegressor   440.15 +/- 120.29  0.06 +/- 0.01   618.06 +/- 154.36\n",
       "0              XGBRegressor   693.29 +/- 125.89   0.1 +/- 0.01   963.24 +/- 171.03"
      ]
     },
     "execution_count": 133,
     "metadata": {},
     "output_type": "execute_result"
    }
   ],
   "source": [
    "result_cv = pd.concat([result_baseline_cv, result_lr_cv, result_lrr_cv, result_rf_cv, result_xgb_cv])\n",
    "result_cv"
   ]
  },
  {
   "cell_type": "markdown",
   "id": "delayed-jersey",
   "metadata": {},
   "source": [
    "# 8.0. Hyperparameter Fine Tuning"
   ]
  },
  {
   "cell_type": "markdown",
   "id": "opponent-necklace",
   "metadata": {},
   "source": [
    "# 9.0. Model Perfomance"
   ]
  },
  {
   "cell_type": "markdown",
   "id": "favorite-conservation",
   "metadata": {},
   "source": [
    "# 10.0. Deploy to Product"
   ]
  }
 ],
 "metadata": {
  "kernelspec": {
   "display_name": "Python 3",
   "language": "python",
   "name": "python3"
  },
  "language_info": {
   "codemirror_mode": {
    "name": "ipython",
    "version": 3
   },
   "file_extension": ".py",
   "mimetype": "text/x-python",
   "name": "python",
   "nbconvert_exporter": "python",
   "pygments_lexer": "ipython3",
   "version": "3.8.0"
  }
 },
 "nbformat": 4,
 "nbformat_minor": 5
}
