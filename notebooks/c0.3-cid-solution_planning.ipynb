{
 "cells": [
  {
   "cell_type": "markdown",
   "id": "illegal-personality",
   "metadata": {
    "heading_collapsed": true
   },
   "source": [
    "# Solution Planning"
   ]
  },
  {
   "cell_type": "markdown",
   "id": "contrary-repeat",
   "metadata": {
    "heading_collapsed": true,
    "hidden": true
   },
   "source": [
    "## Input"
   ]
  },
  {
   "cell_type": "markdown",
   "id": "acknowledged-georgia",
   "metadata": {
    "hidden": true
   },
   "source": [
    "**Problema de negocio:**\n",
    "\n",
    "Rossmann opera mais de 3.000 drogarias em 7 países europeus. Atualmente, os gerentes de loja da Rossmann têm a tarefa de prever suas vendas diárias com até seis semanas de antecedência. As vendas da loja são influenciadas por muitos fatores, incluindo promoções, competição, feriados escolares e estaduais, sazonalidade e localidade. Com milhares de gerentes individuais prevendo vendas com base em suas circunstâncias únicas, a precisão dos resultados pode ser bastante variada.\n",
    "\n",
    "1. Prever vendas diaárias com 6 semanas de antecencias.\n",
    "2. Quais fatores mais influenciam as vendas? (promoções, competição, feriados escolares e estaduais, sazonalidade e localidade)\n",
    "3. base de  dados Rossmann"
   ]
  },
  {
   "cell_type": "markdown",
   "id": "initial-brand",
   "metadata": {
    "heading_collapsed": true,
    "hidden": true
   },
   "source": [
    "## Output"
   ]
  },
  {
   "cell_type": "markdown",
   "id": "regulation-calibration",
   "metadata": {
    "hidden": true
   },
   "source": [
    "1. Modelo de Machine Learning para prever vendas das proximas 6 semanas por loja.\n",
    "2. disponibilizar API com o modelo.\n",
    "3. Graficos com os 5 principais fatores que influencias as vendas."
   ]
  },
  {
   "cell_type": "markdown",
   "id": "honey-liability",
   "metadata": {
    "heading_collapsed": true,
    "hidden": true
   },
   "source": [
    "## Task"
   ]
  },
  {
   "cell_type": "markdown",
   "id": "known-closure",
   "metadata": {
    "hidden": true
   },
   "source": [
    "1. Modelo de Machine Learning para prever vendas das proximas 6 semanas por loja.\n",
    "\n",
    "* 1.1. Descrição de Features\n",
    "* 1.2. Feature Engeerring\n",
    "* 1.3. Data Filtering\n",
    "* 1.4. criação de hipoteses de negocio\n",
    "* 1.5. EDA univariadas, bivariadas, multivariadas e validação/refutação das hipoteses de negocio\n",
    "* 1.6. Data Preparation\n",
    "* 1.7. Feature Selection\n",
    "* 1.8. Trainig model, para selecionar o modelo que melhores modela o problema.\n",
    "* 1.9. Traduzir a perfomance do modelo em performance de Negocio.\n",
    "\n",
    "\n",
    "2. disponibilizar API com o modelo.\n",
    "* 2.1. Criação de API dos arquivos para API.\n",
    "* 2.2. Fazer deploy da API no heroku.\n",
    "\n",
    "3. Graficos com os 5 principais fatores que influencias as vendas."
   ]
  },
  {
   "cell_type": "markdown",
   "id": "circular-helmet",
   "metadata": {},
   "source": [
    "# 0.0. Imports"
   ]
  },
  {
   "cell_type": "code",
   "execution_count": 1,
   "id": "effective-disability",
   "metadata": {
    "ExecuteTime": {
     "end_time": "2021-08-08T11:07:02.029800Z",
     "start_time": "2021-08-08T11:06:59.341625Z"
    }
   },
   "outputs": [],
   "source": [
    "import pandas as pd\n",
    "import numpy as np\n",
    "import seaborn as sns\n",
    "import matplotlib.pyplot as plt\n",
    "\n",
    "from xgboost import XGBRegressor\n",
    "\n",
    "from IPython.display import HTML\n",
    "\n",
    "from sklearn import model_selection as ms\n",
    "from sklearn.dummy import DummyRegressor\n",
    "from sklearn import metrics\n",
    "from sklearn import linear_model as lm\n",
    "from sklearn import ensemble as en\n",
    "from sklearn import preprocessing as pp"
   ]
  },
  {
   "cell_type": "markdown",
   "id": "collectible-involvement",
   "metadata": {
    "heading_collapsed": true
   },
   "source": [
    "## 0.1. Helper Function"
   ]
  },
  {
   "cell_type": "code",
   "execution_count": 2,
   "id": "protecting-distance",
   "metadata": {
    "ExecuteTime": {
     "end_time": "2021-08-08T11:07:02.117868Z",
     "start_time": "2021-08-08T11:07:02.032729Z"
    },
    "hidden": true
   },
   "outputs": [
    {
     "name": "stdout",
     "output_type": "stream",
     "text": [
      "Populating the interactive namespace from numpy and matplotlib\n"
     ]
    },
    {
     "data": {
      "text/html": [
       "<style>.container { width:100% !important; }</style>"
      ],
      "text/plain": [
       "<IPython.core.display.HTML object>"
      ]
     },
     "metadata": {},
     "output_type": "display_data"
    }
   ],
   "source": [
    "def descriptive_statistics(num_attr):\n",
    "    # Central Tendency: mean, median\n",
    "    c1 = pd.DataFrame(num_attr.apply(np.mean))\n",
    "    c2 = pd.DataFrame(num_attr.apply(np.median))\n",
    "\n",
    "    # Dispension: min, max, range, std, skew, kurtosis\n",
    "    d1 = pd.DataFrame(num_attr.apply(min))\n",
    "    d2 = pd.DataFrame(num_attr.apply(max))\n",
    "    d3 = pd.DataFrame(num_attr.apply(lambda x: x.max() - x.min()))\n",
    "    d4 = pd.DataFrame(num_attr.apply(lambda x: x.std()))\n",
    "    \n",
    "    # Measures of Shape\n",
    "    s1 = pd.DataFrame(num_attr.apply(lambda x: x.skew()))\n",
    "    s2 = pd.DataFrame(num_attr.apply(lambda x: x.kurtosis()))\n",
    "\n",
    "    # concat\n",
    "    m = pd.concat([d1,d2,d3,c1,c2,d4,s1,s2], axis=1).reset_index()\n",
    "    m.columns = ['attributes', 'min', 'max', 'range', 'mean', 'median', 'std', 'skew', 'kurtosis']\n",
    "    return m\n",
    "\n",
    "\n",
    "def cross_validation( x_training, kfold, model_name, model, verbose=False ):\n",
    "    mae_list = []\n",
    "    mape_list = []\n",
    "    rmse_list = []\n",
    "    \n",
    "    for k in reversed( range( 1, kfold+1 ) ):\n",
    "        if verbose:\n",
    "            print( '\\nKFold Number: {}'.format( k ) )\n",
    "        # start and end date for validation \n",
    "        validation_start_date = x_training['date'].max() - datetime.timedelta( days=k*6*7)\n",
    "        validation_end_date = x_training['date'].max() - datetime.timedelta( days=(k-1)*6*7)\n",
    "\n",
    "        # filtering dataset\n",
    "        training = x_training[x_training['date'] < validation_start_date]\n",
    "        validation = x_training[(x_training['date'] >= validation_start_date) & (x_training['date'] <= validation_end_date)]\n",
    "\n",
    "        # training and validation dataset\n",
    "        # training\n",
    "        xtraining = training.drop( ['date', 'sales'], axis=1 ) \n",
    "        ytraining = training['sales']\n",
    "\n",
    "        # validation\n",
    "        xvalidation = validation.drop( ['date', 'sales'], axis=1 )\n",
    "        yvalidation = validation['sales']\n",
    "\n",
    "        # model\n",
    "        m = model.fit( xtraining, ytraining )\n",
    "\n",
    "        # prediction\n",
    "        yhat = m.predict( xvalidation )\n",
    "\n",
    "        # performance\n",
    "        m_result = ml_error( model_name, yvalidation ,  yhat  )\n",
    "\n",
    "        # store performance of each kfold iteration\n",
    "        mae_list.append(  m_result['MAE'] )\n",
    "        mape_list.append( m_result['MAPE'] )\n",
    "        rmse_list.append( m_result['RMSE'] )\n",
    "        \n",
    "        dict_ = {'Model Name': model_name,\n",
    "                 'MAE CV': np.round( np.mean( mae_list ), 3 ).astype( str ) + ' +/- ' + np.round( np.std( mae_list ), 3 ).astype( str ),\n",
    "                 'MAPE CV': np.round( np.mean( mape_list ), 3 ).astype( str ) + ' +/- ' + np.round( np.std( mape_list ), 3 ).astype( str ),\n",
    "                 'RMSE CV': np.round( np.mean( rmse_list ), 3 ).astype( str ) + ' +/- ' + np.round( np.std( rmse_list ), 3 ).astype( str ) }\n",
    "\n",
    "    return pd.DataFrame( dict_, index=[0] )\n",
    "\n",
    "\n",
    "def ml_error(model_name, y_test, yhat,):\n",
    "    mae = metrics.mean_absolute_error(y_test, yhat)\n",
    "    mape = metrics.mean_absolute_percentage_error(y_test, yhat)\n",
    "    rmse = np.sqrt(metrics.mean_squared_error(y_test, yhat))\n",
    "    \n",
    "    dict_ = {'Model': model_name,\n",
    "             'MAE': mae,\n",
    "             'MAPE': mape,\n",
    "             'RMSE': rmse\n",
    "    }\n",
    "    \n",
    "    return pd.DataFrame(dict_, index=[0])\n",
    "\n",
    "\n",
    "def jupyter_settings():\n",
    "    %matplotlib inline\n",
    "    %pylab inline\n",
    "    \n",
    "    plt.style.use( 'bmh' )\n",
    "    plt.rcParams['figure.figsize'] = [25, 12]\n",
    "    plt.rcParams['font.size'] = 24\n",
    "    \n",
    "    display( HTML( '<style>.container { width:100% !important; }</style>') )\n",
    "    pd.options.display.max_columns = None\n",
    "    pd.options.display.max_rows = None\n",
    "    pd.set_option( 'display.expand_frame_repr', False )\n",
    "    pd.set_option('display.float_format', lambda x: '%.2f' % x)\n",
    "    \n",
    "    sns.set_style(\"whitegrid\")\n",
    "    \n",
    "    sns.set()\n",
    "jupyter_settings()"
   ]
  },
  {
   "cell_type": "markdown",
   "id": "bizarre-illness",
   "metadata": {},
   "source": [
    "## 0.2. Load Data"
   ]
  },
  {
   "cell_type": "code",
   "execution_count": 3,
   "id": "legitimate-showcase",
   "metadata": {
    "ExecuteTime": {
     "end_time": "2021-08-08T11:07:04.025458Z",
     "start_time": "2021-08-08T11:07:02.123350Z"
    }
   },
   "outputs": [],
   "source": [
    "df_store_raw = pd.read_csv('../data/store.csv', low_memory=False)\n",
    "df_sales_raw = pd.read_csv('../data/train.csv', low_memory=False)\n",
    "\n",
    "# merge\n",
    "df_raw = pd.merge(df_store_raw, df_sales_raw, how='left', on='Store')"
   ]
  },
  {
   "cell_type": "markdown",
   "id": "north-revision",
   "metadata": {},
   "source": [
    "# 1.0. Data Description"
   ]
  },
  {
   "cell_type": "code",
   "execution_count": 4,
   "id": "grave-implement",
   "metadata": {
    "ExecuteTime": {
     "end_time": "2021-08-08T11:07:04.125183Z",
     "start_time": "2021-08-08T11:07:04.029168Z"
    }
   },
   "outputs": [],
   "source": [
    "df1 = df_raw.copy()"
   ]
  },
  {
   "cell_type": "markdown",
   "id": "nutritional-thesaurus",
   "metadata": {
    "heading_collapsed": true
   },
   "source": [
    "## 1.1. Rename Columns"
   ]
  },
  {
   "cell_type": "markdown",
   "id": "later-staff",
   "metadata": {
    "hidden": true
   },
   "source": [
    "* **Id** -  an Id that represents a (Store, Date) duple within the test set\n",
    "* **Store** -  a unique Id for each store\n",
    "* **Sales** -  the turnover for any given day (this is what you are predicting)\n",
    "* **Customers** -  the number of customers on a given day\n",
    "* **Open** -  an indicator for whether the store was open: 0 = closed, 1 = open\n",
    "* **StateHoliday** -  indicates a state holiday. Normally all stores, with few exceptions, are closed on state holidays. Note that all schools are closed on public holidays and weekends. a = public holiday, b = Easter holiday, c = Christmas, 0 = None\n",
    "* **SchoolHoliday** -  indicates if the (Store, Date) was affected by the closure of public schools\n",
    "* **StoreType** -  differentiates between 4 different store models: a, b, c, d\n",
    "* **Assortment** -  describes an assortment level: a = basic, b = extra, c = extended\n",
    "* **CompetitionDistance** -  distance in meters to the nearest competitor store\n",
    "* **CompetitionOpenSince[Month/Year]** -  gives the approximate year and month of the time the nearest competitor was opened\n",
    "* **Promo** -  indicates whether a store is running a promo on that day\n",
    "* **Promo2** -  Promo2 is a continuing and consecutive promotion for some stores: 0 = store is not participating, 1 = store is participating\n",
    "* **Promo2Since[Year/Week]** -  describes the year and calendar week when the store started participating in Promo2\n",
    "* **PromoInterval** -  describes the consecutive intervals Promo2 is started, naming the months the promotion is started anew. E.g. \"Feb,May,Aug,Nov\" means each round starts in February, May, August, November of any given year for that store"
   ]
  },
  {
   "cell_type": "code",
   "execution_count": 5,
   "id": "controlling-suggestion",
   "metadata": {
    "ExecuteTime": {
     "end_time": "2021-08-08T11:07:04.134552Z",
     "start_time": "2021-08-08T11:07:04.128022Z"
    },
    "hidden": true,
    "run_control": {
     "marked": false
    }
   },
   "outputs": [],
   "source": [
    "cols = ['store',\n",
    "        'store_type',\n",
    "        'assortment',\n",
    "        'competition_distance',\n",
    "        'competition_open_since_month',\n",
    "        'competition_open_since_year',\n",
    "        'promo2',\n",
    "        'promo2_since_week',\n",
    "        'promo2_since_year',\n",
    "        'promo_interval',\n",
    "        'day_of_week',\n",
    "        'date',\n",
    "        'sales',\n",
    "        'customers',\n",
    "        'open',\n",
    "        'promo',\n",
    "        'state_holiday',\n",
    "        'school_holiday']\n",
    "\n",
    "df1.columns = cols"
   ]
  },
  {
   "cell_type": "markdown",
   "id": "fancy-turtle",
   "metadata": {
    "heading_collapsed": true
   },
   "source": [
    "## 1.2. Data Dimensions"
   ]
  },
  {
   "cell_type": "code",
   "execution_count": 6,
   "id": "suitable-variable",
   "metadata": {
    "ExecuteTime": {
     "end_time": "2021-08-08T11:07:04.147810Z",
     "start_time": "2021-08-08T11:07:04.139992Z"
    },
    "hidden": true
   },
   "outputs": [
    {
     "name": "stdout",
     "output_type": "stream",
     "text": [
      "Number of Rows: 1017209\n",
      "Number of Cols: 18\n"
     ]
    }
   ],
   "source": [
    "print('Number of Rows: {}'.format(df1.shape[0]))\n",
    "print('Number of Cols: {}'.format(df1.shape[1]))"
   ]
  },
  {
   "cell_type": "markdown",
   "id": "satellite-senate",
   "metadata": {
    "heading_collapsed": true
   },
   "source": [
    "## 1.3. Data Types"
   ]
  },
  {
   "cell_type": "code",
   "execution_count": 7,
   "id": "fluid-congress",
   "metadata": {
    "ExecuteTime": {
     "end_time": "2021-08-08T11:07:04.439436Z",
     "start_time": "2021-08-08T11:07:04.157646Z"
    },
    "hidden": true
   },
   "outputs": [
    {
     "data": {
      "text/plain": [
       "store                                    int64\n",
       "store_type                              object\n",
       "assortment                              object\n",
       "competition_distance                   float64\n",
       "competition_open_since_month           float64\n",
       "competition_open_since_year            float64\n",
       "promo2                                   int64\n",
       "promo2_since_week                      float64\n",
       "promo2_since_year                      float64\n",
       "promo_interval                          object\n",
       "day_of_week                              int64\n",
       "date                            datetime64[ns]\n",
       "sales                                    int64\n",
       "customers                                int64\n",
       "open                                     int64\n",
       "promo                                    int64\n",
       "state_holiday                           object\n",
       "school_holiday                           int64\n",
       "dtype: object"
      ]
     },
     "execution_count": 7,
     "metadata": {},
     "output_type": "execute_result"
    }
   ],
   "source": [
    "df1['date'] = pd.to_datetime(df1['date'])\n",
    "df1.dtypes"
   ]
  },
  {
   "cell_type": "markdown",
   "id": "sonic-glasgow",
   "metadata": {
    "heading_collapsed": true
   },
   "source": [
    "## 1.4. Check NA"
   ]
  },
  {
   "cell_type": "code",
   "execution_count": 8,
   "id": "helpful-brain",
   "metadata": {
    "ExecuteTime": {
     "end_time": "2021-08-08T11:07:04.782117Z",
     "start_time": "2021-08-08T11:07:04.441446Z"
    },
    "hidden": true
   },
   "outputs": [
    {
     "data": {
      "text/plain": [
       "store                                0\n",
       "store_type                           0\n",
       "assortment                           0\n",
       "competition_distance              2642\n",
       "competition_open_since_month    323348\n",
       "competition_open_since_year     323348\n",
       "promo2                               0\n",
       "promo2_since_week               508031\n",
       "promo2_since_year               508031\n",
       "promo_interval                  508031\n",
       "day_of_week                          0\n",
       "date                                 0\n",
       "sales                                0\n",
       "customers                            0\n",
       "open                                 0\n",
       "promo                                0\n",
       "state_holiday                        0\n",
       "school_holiday                       0\n",
       "dtype: int64"
      ]
     },
     "execution_count": 8,
     "metadata": {},
     "output_type": "execute_result"
    }
   ],
   "source": [
    "df1.isna().sum()"
   ]
  },
  {
   "cell_type": "markdown",
   "id": "virgin-survival",
   "metadata": {
    "heading_collapsed": true
   },
   "source": [
    "## 1.5. Replace NA"
   ]
  },
  {
   "cell_type": "code",
   "execution_count": 9,
   "id": "accepted-lobby",
   "metadata": {
    "ExecuteTime": {
     "end_time": "2021-08-08T11:07:07.759029Z",
     "start_time": "2021-08-08T11:07:04.785102Z"
    },
    "hidden": true
   },
   "outputs": [],
   "source": [
    "# competition_distance\n",
    "df1['competition_distance'] = df1['competition_distance'].apply( lambda x: 200000.0 if np.isnan(x) else x)"
   ]
  },
  {
   "cell_type": "code",
   "execution_count": 10,
   "id": "equipped-teacher",
   "metadata": {
    "ExecuteTime": {
     "end_time": "2021-08-08T11:08:20.585816Z",
     "start_time": "2021-08-08T11:07:07.762034Z"
    },
    "hidden": true
   },
   "outputs": [],
   "source": [
    "# competition_open_since_month\n",
    "df1['competition_open_since_month'] = df1.apply(lambda x: x['date'].month if np.isnan(x['competition_open_since_month']) else x['competition_open_since_month'], axis=1)\n",
    "\n",
    "# competition_open_since_year\n",
    "df1['competition_open_since_year'] = df1.apply(lambda x: x['date'].year if np.isnan(x['competition_open_since_year']) else x['competition_open_since_year'], axis=1)"
   ]
  },
  {
   "cell_type": "code",
   "execution_count": 11,
   "id": "favorite-master",
   "metadata": {
    "ExecuteTime": {
     "end_time": "2021-08-08T11:09:33.891817Z",
     "start_time": "2021-08-08T11:08:20.589631Z"
    },
    "hidden": true
   },
   "outputs": [],
   "source": [
    "# promo2_since_week\n",
    "df1['promo2_since_week'] = df1.apply(lambda x: x['date'].week if np.isnan(x['promo2_since_week']) else x['promo2_since_week'], axis=1)\n",
    "\n",
    "# promo2_since_year\n",
    "df1['promo2_since_year'] = df1.apply(lambda x: x['date'].year if np.isnan(x['promo2_since_year']) else x['promo2_since_year'], axis=1)"
   ]
  },
  {
   "cell_type": "code",
   "execution_count": 12,
   "id": "handmade-castle",
   "metadata": {
    "ExecuteTime": {
     "end_time": "2021-08-08T11:09:54.426356Z",
     "start_time": "2021-08-08T11:09:33.896373Z"
    },
    "hidden": true
   },
   "outputs": [],
   "source": [
    "# promo_interval\n",
    "month_map = {1: 'Jan',  2: 'Fev',  3: 'Mar',  4: 'Apr',  5: 'May',  6: 'Jun',  7: 'Jul',  8: 'Aug',  9: 'Sep',  10: 'Oct', 11: 'Nov', 12: 'Dec'}\n",
    "df1['promo_interval'].fillna(0, inplace=True)\n",
    "\n",
    "df1['month_map'] = df1['date'].dt.month.map(month_map)\n",
    "\n",
    "df1['is_promo'] = df1[['promo_interval', 'month_map']].apply( lambda x: 0 if x['promo_interval'] == 0 else 1 if x['month_map'] in x['promo_interval'].split( ',' ) else 0, axis=1 )"
   ]
  },
  {
   "cell_type": "code",
   "execution_count": 13,
   "id": "occasional-letters",
   "metadata": {
    "ExecuteTime": {
     "end_time": "2021-08-08T11:09:54.806469Z",
     "start_time": "2021-08-08T11:09:54.429229Z"
    },
    "hidden": true
   },
   "outputs": [
    {
     "data": {
      "text/plain": [
       "store                           0\n",
       "store_type                      0\n",
       "assortment                      0\n",
       "competition_distance            0\n",
       "competition_open_since_month    0\n",
       "competition_open_since_year     0\n",
       "promo2                          0\n",
       "promo2_since_week               0\n",
       "promo2_since_year               0\n",
       "promo_interval                  0\n",
       "day_of_week                     0\n",
       "date                            0\n",
       "sales                           0\n",
       "customers                       0\n",
       "open                            0\n",
       "promo                           0\n",
       "state_holiday                   0\n",
       "school_holiday                  0\n",
       "month_map                       0\n",
       "is_promo                        0\n",
       "dtype: int64"
      ]
     },
     "execution_count": 13,
     "metadata": {},
     "output_type": "execute_result"
    }
   ],
   "source": [
    "df1.isna().sum()"
   ]
  },
  {
   "cell_type": "markdown",
   "id": "protecting-anaheim",
   "metadata": {
    "heading_collapsed": true
   },
   "source": [
    "## 1.6. Change Dtypes"
   ]
  },
  {
   "cell_type": "code",
   "execution_count": 14,
   "id": "small-tunisia",
   "metadata": {
    "ExecuteTime": {
     "end_time": "2021-08-08T11:09:54.846697Z",
     "start_time": "2021-08-08T11:09:54.809295Z"
    },
    "hidden": true
   },
   "outputs": [],
   "source": [
    "df1['competition_open_since_year'] = df1['competition_open_since_year'].astype(int)\n",
    "df1['competition_open_since_month'] = df1['competition_open_since_month'].astype(int)\n",
    "df1['promo2_since_week'] = df1['promo2_since_week'].astype(int)\n",
    "df1['promo2_since_year'] = df1['promo2_since_year'].astype(int)"
   ]
  },
  {
   "cell_type": "markdown",
   "id": "separated-toyota",
   "metadata": {
    "heading_collapsed": true
   },
   "source": [
    "## 1.7. Statistical Descriptive"
   ]
  },
  {
   "cell_type": "code",
   "execution_count": 15,
   "id": "unknown-israeli",
   "metadata": {
    "ExecuteTime": {
     "end_time": "2021-08-08T11:09:55.080365Z",
     "start_time": "2021-08-08T11:09:54.848855Z"
    },
    "hidden": true
   },
   "outputs": [],
   "source": [
    "num_attr = df1.select_dtypes(include=['int64', 'float64'])\n",
    "cat_attr = df1.select_dtypes(include=['object'])"
   ]
  },
  {
   "cell_type": "markdown",
   "id": "square-bahrain",
   "metadata": {
    "hidden": true
   },
   "source": [
    "### 1.7.1. Numerical Attributes"
   ]
  },
  {
   "cell_type": "code",
   "execution_count": 16,
   "id": "portable-quarter",
   "metadata": {
    "ExecuteTime": {
     "end_time": "2021-08-08T11:09:58.860355Z",
     "start_time": "2021-08-08T11:09:55.082403Z"
    },
    "hidden": true
   },
   "outputs": [
    {
     "data": {
      "text/html": [
       "<div>\n",
       "<style scoped>\n",
       "    .dataframe tbody tr th:only-of-type {\n",
       "        vertical-align: middle;\n",
       "    }\n",
       "\n",
       "    .dataframe tbody tr th {\n",
       "        vertical-align: top;\n",
       "    }\n",
       "\n",
       "    .dataframe thead th {\n",
       "        text-align: right;\n",
       "    }\n",
       "</style>\n",
       "<table border=\"1\" class=\"dataframe\">\n",
       "  <thead>\n",
       "    <tr style=\"text-align: right;\">\n",
       "      <th></th>\n",
       "      <th>attributes</th>\n",
       "      <th>min</th>\n",
       "      <th>max</th>\n",
       "      <th>range</th>\n",
       "      <th>mean</th>\n",
       "      <th>median</th>\n",
       "      <th>std</th>\n",
       "      <th>skew</th>\n",
       "      <th>kurtosis</th>\n",
       "    </tr>\n",
       "  </thead>\n",
       "  <tbody>\n",
       "    <tr>\n",
       "      <th>0</th>\n",
       "      <td>store</td>\n",
       "      <td>1.00</td>\n",
       "      <td>1115.00</td>\n",
       "      <td>1114.00</td>\n",
       "      <td>558.43</td>\n",
       "      <td>558.00</td>\n",
       "      <td>321.91</td>\n",
       "      <td>-0.00</td>\n",
       "      <td>-1.20</td>\n",
       "    </tr>\n",
       "    <tr>\n",
       "      <th>1</th>\n",
       "      <td>competition_distance</td>\n",
       "      <td>20.00</td>\n",
       "      <td>200000.00</td>\n",
       "      <td>199980.00</td>\n",
       "      <td>5935.44</td>\n",
       "      <td>2330.00</td>\n",
       "      <td>12547.65</td>\n",
       "      <td>10.24</td>\n",
       "      <td>147.79</td>\n",
       "    </tr>\n",
       "    <tr>\n",
       "      <th>2</th>\n",
       "      <td>competition_open_since_month</td>\n",
       "      <td>1.00</td>\n",
       "      <td>12.00</td>\n",
       "      <td>11.00</td>\n",
       "      <td>6.79</td>\n",
       "      <td>7.00</td>\n",
       "      <td>3.31</td>\n",
       "      <td>-0.04</td>\n",
       "      <td>-1.23</td>\n",
       "    </tr>\n",
       "    <tr>\n",
       "      <th>3</th>\n",
       "      <td>competition_open_since_year</td>\n",
       "      <td>1900.00</td>\n",
       "      <td>2015.00</td>\n",
       "      <td>115.00</td>\n",
       "      <td>2010.32</td>\n",
       "      <td>2012.00</td>\n",
       "      <td>5.52</td>\n",
       "      <td>-7.24</td>\n",
       "      <td>124.07</td>\n",
       "    </tr>\n",
       "    <tr>\n",
       "      <th>4</th>\n",
       "      <td>promo2</td>\n",
       "      <td>0.00</td>\n",
       "      <td>1.00</td>\n",
       "      <td>1.00</td>\n",
       "      <td>0.50</td>\n",
       "      <td>1.00</td>\n",
       "      <td>0.50</td>\n",
       "      <td>-0.00</td>\n",
       "      <td>-2.00</td>\n",
       "    </tr>\n",
       "    <tr>\n",
       "      <th>5</th>\n",
       "      <td>promo2_since_week</td>\n",
       "      <td>1.00</td>\n",
       "      <td>52.00</td>\n",
       "      <td>51.00</td>\n",
       "      <td>23.62</td>\n",
       "      <td>22.00</td>\n",
       "      <td>14.31</td>\n",
       "      <td>0.18</td>\n",
       "      <td>-1.18</td>\n",
       "    </tr>\n",
       "    <tr>\n",
       "      <th>6</th>\n",
       "      <td>promo2_since_year</td>\n",
       "      <td>2009.00</td>\n",
       "      <td>2015.00</td>\n",
       "      <td>6.00</td>\n",
       "      <td>2012.79</td>\n",
       "      <td>2013.00</td>\n",
       "      <td>1.66</td>\n",
       "      <td>-0.78</td>\n",
       "      <td>-0.21</td>\n",
       "    </tr>\n",
       "    <tr>\n",
       "      <th>7</th>\n",
       "      <td>day_of_week</td>\n",
       "      <td>1.00</td>\n",
       "      <td>7.00</td>\n",
       "      <td>6.00</td>\n",
       "      <td>4.00</td>\n",
       "      <td>4.00</td>\n",
       "      <td>2.00</td>\n",
       "      <td>0.00</td>\n",
       "      <td>-1.25</td>\n",
       "    </tr>\n",
       "    <tr>\n",
       "      <th>8</th>\n",
       "      <td>sales</td>\n",
       "      <td>0.00</td>\n",
       "      <td>41551.00</td>\n",
       "      <td>41551.00</td>\n",
       "      <td>5773.82</td>\n",
       "      <td>5744.00</td>\n",
       "      <td>3849.93</td>\n",
       "      <td>0.64</td>\n",
       "      <td>1.78</td>\n",
       "    </tr>\n",
       "    <tr>\n",
       "      <th>9</th>\n",
       "      <td>customers</td>\n",
       "      <td>0.00</td>\n",
       "      <td>7388.00</td>\n",
       "      <td>7388.00</td>\n",
       "      <td>633.15</td>\n",
       "      <td>609.00</td>\n",
       "      <td>464.41</td>\n",
       "      <td>1.60</td>\n",
       "      <td>7.09</td>\n",
       "    </tr>\n",
       "    <tr>\n",
       "      <th>10</th>\n",
       "      <td>open</td>\n",
       "      <td>0.00</td>\n",
       "      <td>1.00</td>\n",
       "      <td>1.00</td>\n",
       "      <td>0.83</td>\n",
       "      <td>1.00</td>\n",
       "      <td>0.38</td>\n",
       "      <td>-1.76</td>\n",
       "      <td>1.09</td>\n",
       "    </tr>\n",
       "    <tr>\n",
       "      <th>11</th>\n",
       "      <td>promo</td>\n",
       "      <td>0.00</td>\n",
       "      <td>1.00</td>\n",
       "      <td>1.00</td>\n",
       "      <td>0.38</td>\n",
       "      <td>0.00</td>\n",
       "      <td>0.49</td>\n",
       "      <td>0.49</td>\n",
       "      <td>-1.76</td>\n",
       "    </tr>\n",
       "    <tr>\n",
       "      <th>12</th>\n",
       "      <td>school_holiday</td>\n",
       "      <td>0.00</td>\n",
       "      <td>1.00</td>\n",
       "      <td>1.00</td>\n",
       "      <td>0.18</td>\n",
       "      <td>0.00</td>\n",
       "      <td>0.38</td>\n",
       "      <td>1.68</td>\n",
       "      <td>0.82</td>\n",
       "    </tr>\n",
       "    <tr>\n",
       "      <th>13</th>\n",
       "      <td>is_promo</td>\n",
       "      <td>0.00</td>\n",
       "      <td>1.00</td>\n",
       "      <td>1.00</td>\n",
       "      <td>0.16</td>\n",
       "      <td>0.00</td>\n",
       "      <td>0.36</td>\n",
       "      <td>1.90</td>\n",
       "      <td>1.63</td>\n",
       "    </tr>\n",
       "  </tbody>\n",
       "</table>\n",
       "</div>"
      ],
      "text/plain": [
       "                      attributes     min       max     range    mean  median      std  skew  kurtosis\n",
       "0                          store    1.00   1115.00   1114.00  558.43  558.00   321.91 -0.00     -1.20\n",
       "1           competition_distance   20.00 200000.00 199980.00 5935.44 2330.00 12547.65 10.24    147.79\n",
       "2   competition_open_since_month    1.00     12.00     11.00    6.79    7.00     3.31 -0.04     -1.23\n",
       "3    competition_open_since_year 1900.00   2015.00    115.00 2010.32 2012.00     5.52 -7.24    124.07\n",
       "4                         promo2    0.00      1.00      1.00    0.50    1.00     0.50 -0.00     -2.00\n",
       "5              promo2_since_week    1.00     52.00     51.00   23.62   22.00    14.31  0.18     -1.18\n",
       "6              promo2_since_year 2009.00   2015.00      6.00 2012.79 2013.00     1.66 -0.78     -0.21\n",
       "7                    day_of_week    1.00      7.00      6.00    4.00    4.00     2.00  0.00     -1.25\n",
       "8                          sales    0.00  41551.00  41551.00 5773.82 5744.00  3849.93  0.64      1.78\n",
       "9                      customers    0.00   7388.00   7388.00  633.15  609.00   464.41  1.60      7.09\n",
       "10                          open    0.00      1.00      1.00    0.83    1.00     0.38 -1.76      1.09\n",
       "11                         promo    0.00      1.00      1.00    0.38    0.00     0.49  0.49     -1.76\n",
       "12                school_holiday    0.00      1.00      1.00    0.18    0.00     0.38  1.68      0.82\n",
       "13                      is_promo    0.00      1.00      1.00    0.16    0.00     0.36  1.90      1.63"
      ]
     },
     "execution_count": 16,
     "metadata": {},
     "output_type": "execute_result"
    }
   ],
   "source": [
    "descriptive_statistics(num_attr)"
   ]
  },
  {
   "cell_type": "markdown",
   "id": "prostate-triumph",
   "metadata": {
    "hidden": true
   },
   "source": [
    "**Notes:**\n",
    "* competition_open_since_year: min date 1900?\n",
    "* sales:  0 U$?\n",
    "* customers: 0 people?"
   ]
  },
  {
   "cell_type": "code",
   "execution_count": 17,
   "id": "knowing-facility",
   "metadata": {
    "ExecuteTime": {
     "end_time": "2021-08-08T11:09:58.887051Z",
     "start_time": "2021-08-08T11:09:58.865975Z"
    },
    "hidden": true
   },
   "outputs": [
    {
     "name": "stdout",
     "output_type": "stream",
     "text": [
      "Date min: 2013-01-01 00:00:00 \n",
      "Date max: 2015-07-31 00:00:00 \n",
      "Date Avg: 2014-04-11 01:30:42.846061824\n"
     ]
    }
   ],
   "source": [
    "print('Date min: {} \\nDate max: {} \\nDate Avg: {}'.format(df1['date'].min(), df1['date'].max(), df1['date'].mean()))"
   ]
  },
  {
   "cell_type": "markdown",
   "id": "knowing-serve",
   "metadata": {
    "hidden": true
   },
   "source": [
    "### 1.7.2. Categorical Attributes"
   ]
  },
  {
   "cell_type": "code",
   "execution_count": 18,
   "id": "optimum-platform",
   "metadata": {
    "ExecuteTime": {
     "end_time": "2021-08-08T11:10:00.030661Z",
     "start_time": "2021-08-08T11:09:58.892141Z"
    },
    "hidden": true
   },
   "outputs": [
    {
     "data": {
      "text/html": [
       "<div>\n",
       "<style scoped>\n",
       "    .dataframe tbody tr th:only-of-type {\n",
       "        vertical-align: middle;\n",
       "    }\n",
       "\n",
       "    .dataframe tbody tr th {\n",
       "        vertical-align: top;\n",
       "    }\n",
       "\n",
       "    .dataframe thead th {\n",
       "        text-align: right;\n",
       "    }\n",
       "</style>\n",
       "<table border=\"1\" class=\"dataframe\">\n",
       "  <thead>\n",
       "    <tr style=\"text-align: right;\">\n",
       "      <th></th>\n",
       "      <th>store_type</th>\n",
       "      <th>assortment</th>\n",
       "      <th>promo_interval</th>\n",
       "      <th>state_holiday</th>\n",
       "      <th>month_map</th>\n",
       "    </tr>\n",
       "  </thead>\n",
       "  <tbody>\n",
       "    <tr>\n",
       "      <th>count</th>\n",
       "      <td>1017209</td>\n",
       "      <td>1017209</td>\n",
       "      <td>1017209</td>\n",
       "      <td>1017209</td>\n",
       "      <td>1017209</td>\n",
       "    </tr>\n",
       "    <tr>\n",
       "      <th>unique</th>\n",
       "      <td>4</td>\n",
       "      <td>3</td>\n",
       "      <td>4</td>\n",
       "      <td>4</td>\n",
       "      <td>12</td>\n",
       "    </tr>\n",
       "    <tr>\n",
       "      <th>top</th>\n",
       "      <td>a</td>\n",
       "      <td>a</td>\n",
       "      <td>0</td>\n",
       "      <td>0</td>\n",
       "      <td>Mar</td>\n",
       "    </tr>\n",
       "    <tr>\n",
       "      <th>freq</th>\n",
       "      <td>551627</td>\n",
       "      <td>537445</td>\n",
       "      <td>508031</td>\n",
       "      <td>986159</td>\n",
       "      <td>103695</td>\n",
       "    </tr>\n",
       "  </tbody>\n",
       "</table>\n",
       "</div>"
      ],
      "text/plain": [
       "       store_type assortment  promo_interval state_holiday month_map\n",
       "count     1017209    1017209         1017209       1017209   1017209\n",
       "unique          4          3               4             4        12\n",
       "top             a          a               0             0       Mar\n",
       "freq       551627     537445          508031        986159    103695"
      ]
     },
     "execution_count": 18,
     "metadata": {},
     "output_type": "execute_result"
    }
   ],
   "source": [
    "cat_attr.describe( include=[object] )"
   ]
  },
  {
   "cell_type": "code",
   "execution_count": 19,
   "id": "solid-inquiry",
   "metadata": {
    "ExecuteTime": {
     "end_time": "2021-08-08T11:10:00.192158Z",
     "start_time": "2021-08-08T11:10:00.033910Z"
    },
    "hidden": true
   },
   "outputs": [
    {
     "data": {
      "text/plain": [
       "a   0.54\n",
       "d   0.31\n",
       "c   0.13\n",
       "b   0.02\n",
       "Name: store_type, dtype: float64"
      ]
     },
     "execution_count": 19,
     "metadata": {},
     "output_type": "execute_result"
    }
   ],
   "source": [
    "df1['store_type'].value_counts(normalize=True)"
   ]
  },
  {
   "cell_type": "code",
   "execution_count": 20,
   "id": "figured-toyota",
   "metadata": {
    "ExecuteTime": {
     "end_time": "2021-08-08T11:10:00.348388Z",
     "start_time": "2021-08-08T11:10:00.197303Z"
    },
    "hidden": true
   },
   "outputs": [
    {
     "data": {
      "text/plain": [
       "a   0.53\n",
       "c   0.46\n",
       "b   0.01\n",
       "Name: assortment, dtype: float64"
      ]
     },
     "execution_count": 20,
     "metadata": {},
     "output_type": "execute_result"
    }
   ],
   "source": [
    "df1['assortment'].value_counts(normalize=True)"
   ]
  },
  {
   "cell_type": "code",
   "execution_count": 21,
   "id": "excess-incidence",
   "metadata": {
    "ExecuteTime": {
     "end_time": "2021-08-08T11:10:00.500980Z",
     "start_time": "2021-08-08T11:10:00.350463Z"
    },
    "hidden": true
   },
   "outputs": [
    {
     "data": {
      "text/plain": [
       "0   0.97\n",
       "a   0.02\n",
       "b   0.01\n",
       "c   0.00\n",
       "Name: state_holiday, dtype: float64"
      ]
     },
     "execution_count": 21,
     "metadata": {},
     "output_type": "execute_result"
    }
   ],
   "source": [
    "df1['state_holiday'].value_counts(normalize=True)"
   ]
  },
  {
   "cell_type": "markdown",
   "id": "incorporate-arcade",
   "metadata": {
    "heading_collapsed": true
   },
   "source": [
    "# 2.0. Feature Engeering"
   ]
  },
  {
   "cell_type": "code",
   "execution_count": 22,
   "id": "minor-craps",
   "metadata": {
    "ExecuteTime": {
     "end_time": "2021-08-08T11:10:00.649213Z",
     "start_time": "2021-08-08T11:10:00.503271Z"
    },
    "hidden": true
   },
   "outputs": [],
   "source": [
    "df2 = df1.copy()"
   ]
  },
  {
   "cell_type": "markdown",
   "id": "heard-stretch",
   "metadata": {
    "heading_collapsed": true,
    "hidden": true
   },
   "source": [
    "## 2.1. Feature Creation"
   ]
  },
  {
   "cell_type": "code",
   "execution_count": null,
   "id": "fuzzy-optimization",
   "metadata": {
    "hidden": true
   },
   "outputs": [],
   "source": []
  },
  {
   "cell_type": "code",
   "execution_count": null,
   "id": "congressional-gambling",
   "metadata": {
    "hidden": true
   },
   "outputs": [],
   "source": []
  },
  {
   "cell_type": "code",
   "execution_count": null,
   "id": "consistent-burning",
   "metadata": {
    "hidden": true
   },
   "outputs": [],
   "source": []
  },
  {
   "cell_type": "code",
   "execution_count": null,
   "id": "polish-planning",
   "metadata": {
    "hidden": true
   },
   "outputs": [],
   "source": [
    "# a = public holiday, b = Easter holiday, c = Christmas, 0 = None"
   ]
  },
  {
   "cell_type": "markdown",
   "id": "limited-cover",
   "metadata": {
    "heading_collapsed": true
   },
   "source": [
    "# 3.0. Data Filtering"
   ]
  },
  {
   "cell_type": "code",
   "execution_count": 56,
   "id": "honey-bermuda",
   "metadata": {
    "ExecuteTime": {
     "end_time": "2021-08-08T03:45:02.742924Z",
     "start_time": "2021-08-08T03:45:02.532558Z"
    },
    "hidden": true
   },
   "outputs": [],
   "source": [
    "df3 = df2.copy()"
   ]
  },
  {
   "cell_type": "markdown",
   "id": "united-sunday",
   "metadata": {
    "heading_collapsed": true,
    "hidden": true
   },
   "source": [
    "## 3.1. Filter Rows"
   ]
  },
  {
   "cell_type": "code",
   "execution_count": 57,
   "id": "capital-beijing",
   "metadata": {
    "ExecuteTime": {
     "end_time": "2021-08-08T03:45:03.273728Z",
     "start_time": "2021-08-08T03:45:02.833121Z"
    },
    "hidden": true
   },
   "outputs": [],
   "source": [
    "df3 = df3.loc[(df3['open'] != 0) & (df3['sales'] != 0) , :]"
   ]
  },
  {
   "cell_type": "markdown",
   "id": "modern-architecture",
   "metadata": {
    "heading_collapsed": true,
    "hidden": true
   },
   "source": [
    "## 3.2. Filter Columns"
   ]
  },
  {
   "cell_type": "code",
   "execution_count": 58,
   "id": "greenhouse-collector",
   "metadata": {
    "ExecuteTime": {
     "end_time": "2021-08-08T03:45:03.411255Z",
     "start_time": "2021-08-08T03:45:03.278315Z"
    },
    "hidden": true
   },
   "outputs": [],
   "source": [
    "cols_drop = ['promo_interval', 'open', 'month_map', 'customers']\n",
    "\n",
    "df3 = df3.drop(cols_drop, axis=1)"
   ]
  },
  {
   "cell_type": "markdown",
   "id": "august-agency",
   "metadata": {
    "heading_collapsed": true
   },
   "source": [
    "# 4.0. EDA"
   ]
  },
  {
   "cell_type": "code",
   "execution_count": 59,
   "id": "balanced-dover",
   "metadata": {
    "ExecuteTime": {
     "end_time": "2021-08-08T03:45:03.484052Z",
     "start_time": "2021-08-08T03:45:03.425502Z"
    },
    "hidden": true
   },
   "outputs": [],
   "source": [
    "df4 = df3.copy()"
   ]
  },
  {
   "cell_type": "markdown",
   "id": "whole-affiliate",
   "metadata": {
    "heading_collapsed": true
   },
   "source": [
    "# 5.0. Data Preparation"
   ]
  },
  {
   "cell_type": "code",
   "execution_count": 72,
   "id": "amino-species",
   "metadata": {
    "ExecuteTime": {
     "end_time": "2021-08-08T03:46:02.928887Z",
     "start_time": "2021-08-08T03:46:02.853929Z"
    },
    "hidden": true
   },
   "outputs": [],
   "source": [
    "df5 = df4.copy()"
   ]
  },
  {
   "cell_type": "markdown",
   "id": "choice-desktop",
   "metadata": {
    "hidden": true
   },
   "source": [
    "## 5.1. Standardization"
   ]
  },
  {
   "cell_type": "markdown",
   "id": "changed-while",
   "metadata": {
    "heading_collapsed": true,
    "hidden": true
   },
   "source": [
    "## 5.2. Rescale"
   ]
  },
  {
   "cell_type": "markdown",
   "id": "focused-translation",
   "metadata": {
    "hidden": true
   },
   "source": [
    "## 5.3. Encoder\n",
    "\n"
   ]
  },
  {
   "cell_type": "code",
   "execution_count": 74,
   "id": "varied-bradford",
   "metadata": {
    "ExecuteTime": {
     "end_time": "2021-08-08T03:46:05.000848Z",
     "start_time": "2021-08-08T03:46:03.644152Z"
    },
    "hidden": true
   },
   "outputs": [],
   "source": [
    "le = pp.LabelEncoder()\n",
    "\n",
    "df5['store_type'] = le.fit_transform( df5[['store_type']].values.ravel() )\n",
    "df5['assortment'] = le.fit_transform( df5[['assortment']].values.ravel() )\n",
    "df5['state_holiday'] = le.fit_transform( df5[['state_holiday']].values.ravel() )"
   ]
  },
  {
   "cell_type": "markdown",
   "id": "expired-newport",
   "metadata": {
    "heading_collapsed": true
   },
   "source": [
    "# 6.0. Feature Selection"
   ]
  },
  {
   "cell_type": "code",
   "execution_count": 75,
   "id": "noted-differential",
   "metadata": {
    "ExecuteTime": {
     "end_time": "2021-08-08T03:46:05.053867Z",
     "start_time": "2021-08-08T03:46:05.003074Z"
    },
    "hidden": true
   },
   "outputs": [],
   "source": [
    "df6 = df5.copy()"
   ]
  },
  {
   "cell_type": "markdown",
   "id": "eight-asian",
   "metadata": {
    "heading_collapsed": true,
    "hidden": true
   },
   "source": [
    "## 6.1. Splitting data into training and test datasets"
   ]
  },
  {
   "cell_type": "code",
   "execution_count": 76,
   "id": "banner-opposition",
   "metadata": {
    "ExecuteTime": {
     "end_time": "2021-08-08T03:46:05.717637Z",
     "start_time": "2021-08-08T03:46:05.452946Z"
    },
    "hidden": true
   },
   "outputs": [
    {
     "data": {
      "text/plain": [
       "Timestamp('2015-06-19 00:00:00')"
      ]
     },
     "execution_count": 76,
     "metadata": {},
     "output_type": "execute_result"
    }
   ],
   "source": [
    "df6[['store', 'date']].groupby('store').max().reset_index()['date'][0] - datetime.timedelta(days=6*7)"
   ]
  },
  {
   "cell_type": "code",
   "execution_count": 77,
   "id": "tamil-launch",
   "metadata": {
    "ExecuteTime": {
     "end_time": "2021-08-08T03:46:05.994977Z",
     "start_time": "2021-08-08T03:46:05.898886Z"
    },
    "hidden": true
   },
   "outputs": [],
   "source": [
    "X_train = df6[df6['date'] < '2015-06-19']\n",
    "y_train = X_train['sales']\n",
    "\n",
    "X_test = df6[df6['date'] >= '2015-06-19']\n",
    "y_test = X_test['sales']"
   ]
  },
  {
   "cell_type": "markdown",
   "id": "extra-profit",
   "metadata": {
    "heading_collapsed": true
   },
   "source": [
    "# 7.0. Model Training"
   ]
  },
  {
   "cell_type": "code",
   "execution_count": 78,
   "id": "figured-liverpool",
   "metadata": {
    "ExecuteTime": {
     "end_time": "2021-08-08T03:46:07.252003Z",
     "start_time": "2021-08-08T03:46:06.992500Z"
    },
    "hidden": true
   },
   "outputs": [],
   "source": [
    "x_train = X_train.drop( ['date', 'sales'], axis=1 )\n",
    "x_test = X_test.drop( ['date', 'sales'], axis=1 )\n",
    "\n",
    "x_training = X_train.copy()"
   ]
  },
  {
   "cell_type": "markdown",
   "id": "boring-lover",
   "metadata": {
    "heading_collapsed": true,
    "hidden": true
   },
   "source": [
    "## 7.1. Average Model"
   ]
  },
  {
   "cell_type": "code",
   "execution_count": 79,
   "id": "beginning-moisture",
   "metadata": {
    "ExecuteTime": {
     "end_time": "2021-08-08T03:46:07.383900Z",
     "start_time": "2021-08-08T03:46:07.361662Z"
    },
    "hidden": true
   },
   "outputs": [
    {
     "data": {
      "text/html": [
       "<div>\n",
       "<style scoped>\n",
       "    .dataframe tbody tr th:only-of-type {\n",
       "        vertical-align: middle;\n",
       "    }\n",
       "\n",
       "    .dataframe tbody tr th {\n",
       "        vertical-align: top;\n",
       "    }\n",
       "\n",
       "    .dataframe thead th {\n",
       "        text-align: right;\n",
       "    }\n",
       "</style>\n",
       "<table border=\"1\" class=\"dataframe\">\n",
       "  <thead>\n",
       "    <tr style=\"text-align: right;\">\n",
       "      <th></th>\n",
       "      <th>Model</th>\n",
       "      <th>MAE</th>\n",
       "      <th>MAPE</th>\n",
       "      <th>RMSE</th>\n",
       "    </tr>\n",
       "  </thead>\n",
       "  <tbody>\n",
       "    <tr>\n",
       "      <th>0</th>\n",
       "      <td>DummyRegressor</td>\n",
       "      <td>2242.17</td>\n",
       "      <td>0.38</td>\n",
       "      <td>3044.29</td>\n",
       "    </tr>\n",
       "  </tbody>\n",
       "</table>\n",
       "</div>"
      ],
      "text/plain": [
       "            Model     MAE  MAPE    RMSE\n",
       "0  DummyRegressor 2242.17  0.38 3044.29"
      ]
     },
     "execution_count": 79,
     "metadata": {},
     "output_type": "execute_result"
    }
   ],
   "source": [
    "# model definition\n",
    "model_avg = DummyRegressor()\n",
    "\n",
    "# fit\n",
    "model_avg.fit(x_train, y_train)\n",
    "\n",
    "# predictions\n",
    "yhat_baseline = model_avg.predict(x_test)\n",
    "\n",
    "# perfomance\n",
    "result_baseline = ml_error('DummyRegressor', y_test, yhat_baseline)\n",
    "result_baseline"
   ]
  },
  {
   "cell_type": "code",
   "execution_count": 80,
   "id": "anticipated-match",
   "metadata": {
    "ExecuteTime": {
     "end_time": "2021-08-08T03:46:08.991131Z",
     "start_time": "2021-08-08T03:46:07.619854Z"
    },
    "hidden": true
   },
   "outputs": [
    {
     "data": {
      "text/html": [
       "<div>\n",
       "<style scoped>\n",
       "    .dataframe tbody tr th:only-of-type {\n",
       "        vertical-align: middle;\n",
       "    }\n",
       "\n",
       "    .dataframe tbody tr th {\n",
       "        vertical-align: top;\n",
       "    }\n",
       "\n",
       "    .dataframe thead th {\n",
       "        text-align: right;\n",
       "    }\n",
       "</style>\n",
       "<table border=\"1\" class=\"dataframe\">\n",
       "  <thead>\n",
       "    <tr style=\"text-align: right;\">\n",
       "      <th></th>\n",
       "      <th>Model Name</th>\n",
       "      <th>MAE CV</th>\n",
       "      <th>MAPE CV</th>\n",
       "      <th>RMSE CV</th>\n",
       "    </tr>\n",
       "  </thead>\n",
       "  <tbody>\n",
       "    <tr>\n",
       "      <th>0</th>\n",
       "      <td>DummyRegressor</td>\n",
       "      <td>2363.341 +/- 312.548</td>\n",
       "      <td>0.366 +/- 0.014</td>\n",
       "      <td>3245.574 +/- 486.305</td>\n",
       "    </tr>\n",
       "  </tbody>\n",
       "</table>\n",
       "</div>"
      ],
      "text/plain": [
       "       Model Name                MAE CV          MAPE CV               RMSE CV\n",
       "0  DummyRegressor  2363.341 +/- 312.548  0.366 +/- 0.014  3245.574 +/- 486.305"
      ]
     },
     "execution_count": 80,
     "metadata": {},
     "output_type": "execute_result"
    }
   ],
   "source": [
    "result_baseline_cv = cross_validation(x_training, 5, 'DummyRegressor', model_avg)\n",
    "result_baseline_cv"
   ]
  },
  {
   "cell_type": "markdown",
   "id": "regulated-pioneer",
   "metadata": {
    "heading_collapsed": true,
    "hidden": true
   },
   "source": [
    "## 7.2. Linear Regression Model"
   ]
  },
  {
   "cell_type": "code",
   "execution_count": 81,
   "id": "dutch-haven",
   "metadata": {
    "ExecuteTime": {
     "end_time": "2021-08-08T03:46:09.921746Z",
     "start_time": "2021-08-08T03:46:08.993150Z"
    },
    "hidden": true
   },
   "outputs": [
    {
     "data": {
      "text/html": [
       "<div>\n",
       "<style scoped>\n",
       "    .dataframe tbody tr th:only-of-type {\n",
       "        vertical-align: middle;\n",
       "    }\n",
       "\n",
       "    .dataframe tbody tr th {\n",
       "        vertical-align: top;\n",
       "    }\n",
       "\n",
       "    .dataframe thead th {\n",
       "        text-align: right;\n",
       "    }\n",
       "</style>\n",
       "<table border=\"1\" class=\"dataframe\">\n",
       "  <thead>\n",
       "    <tr style=\"text-align: right;\">\n",
       "      <th></th>\n",
       "      <th>Model</th>\n",
       "      <th>MAE</th>\n",
       "      <th>MAPE</th>\n",
       "      <th>RMSE</th>\n",
       "    </tr>\n",
       "  </thead>\n",
       "  <tbody>\n",
       "    <tr>\n",
       "      <th>0</th>\n",
       "      <td>LinearRegression</td>\n",
       "      <td>1059.07</td>\n",
       "      <td>0.15</td>\n",
       "      <td>1589.63</td>\n",
       "    </tr>\n",
       "  </tbody>\n",
       "</table>\n",
       "</div>"
      ],
      "text/plain": [
       "              Model     MAE  MAPE    RMSE\n",
       "0  LinearRegression 1059.07  0.15 1589.63"
      ]
     },
     "execution_count": 81,
     "metadata": {},
     "output_type": "execute_result"
    }
   ],
   "source": [
    "# model definition\n",
    "model_lr = lm.LinearRegression()\n",
    "\n",
    "# fit\n",
    "model_lr.fit(x_train, y_train)\n",
    "\n",
    "# predictions\n",
    "yhat_lr = model_lr.predict(x_test)\n",
    "\n",
    "# perfomance\n",
    "result_lr = ml_error('LinearRegression', y_test, yhat_lr)\n",
    "result_lr"
   ]
  },
  {
   "cell_type": "code",
   "execution_count": 82,
   "id": "accepted-avatar",
   "metadata": {
    "ExecuteTime": {
     "end_time": "2021-08-08T03:46:14.978744Z",
     "start_time": "2021-08-08T03:46:09.926126Z"
    },
    "hidden": true
   },
   "outputs": [
    {
     "data": {
      "text/html": [
       "<div>\n",
       "<style scoped>\n",
       "    .dataframe tbody tr th:only-of-type {\n",
       "        vertical-align: middle;\n",
       "    }\n",
       "\n",
       "    .dataframe tbody tr th {\n",
       "        vertical-align: top;\n",
       "    }\n",
       "\n",
       "    .dataframe thead th {\n",
       "        text-align: right;\n",
       "    }\n",
       "</style>\n",
       "<table border=\"1\" class=\"dataframe\">\n",
       "  <thead>\n",
       "    <tr style=\"text-align: right;\">\n",
       "      <th></th>\n",
       "      <th>Model Name</th>\n",
       "      <th>MAE CV</th>\n",
       "      <th>MAPE CV</th>\n",
       "      <th>RMSE CV</th>\n",
       "    </tr>\n",
       "  </thead>\n",
       "  <tbody>\n",
       "    <tr>\n",
       "      <th>0</th>\n",
       "      <td>LinearRegression</td>\n",
       "      <td>1126.02 +/- 135.47</td>\n",
       "      <td>0.151 +/- 0.002</td>\n",
       "      <td>1630.238 +/- 189.947</td>\n",
       "    </tr>\n",
       "  </tbody>\n",
       "</table>\n",
       "</div>"
      ],
      "text/plain": [
       "         Model Name              MAE CV          MAPE CV               RMSE CV\n",
       "0  LinearRegression  1126.02 +/- 135.47  0.151 +/- 0.002  1630.238 +/- 189.947"
      ]
     },
     "execution_count": 82,
     "metadata": {},
     "output_type": "execute_result"
    }
   ],
   "source": [
    "result_lr_cv = cross_validation(x_training, 5, 'LinearRegression', model_lr)\n",
    "result_lr_cv"
   ]
  },
  {
   "cell_type": "markdown",
   "id": "indian-supervisor",
   "metadata": {
    "heading_collapsed": true,
    "hidden": true
   },
   "source": [
    "## 7.3. Linear Regression - Lasso"
   ]
  },
  {
   "cell_type": "code",
   "execution_count": 83,
   "id": "stuffed-belgium",
   "metadata": {
    "ExecuteTime": {
     "end_time": "2021-08-08T03:46:16.575054Z",
     "start_time": "2021-08-08T03:46:14.983412Z"
    },
    "hidden": true
   },
   "outputs": [
    {
     "data": {
      "text/html": [
       "<div>\n",
       "<style scoped>\n",
       "    .dataframe tbody tr th:only-of-type {\n",
       "        vertical-align: middle;\n",
       "    }\n",
       "\n",
       "    .dataframe tbody tr th {\n",
       "        vertical-align: top;\n",
       "    }\n",
       "\n",
       "    .dataframe thead th {\n",
       "        text-align: right;\n",
       "    }\n",
       "</style>\n",
       "<table border=\"1\" class=\"dataframe\">\n",
       "  <thead>\n",
       "    <tr style=\"text-align: right;\">\n",
       "      <th></th>\n",
       "      <th>Model</th>\n",
       "      <th>MAE</th>\n",
       "      <th>MAPE</th>\n",
       "      <th>RMSE</th>\n",
       "    </tr>\n",
       "  </thead>\n",
       "  <tbody>\n",
       "    <tr>\n",
       "      <th>0</th>\n",
       "      <td>Lasso</td>\n",
       "      <td>1061.20</td>\n",
       "      <td>0.15</td>\n",
       "      <td>1593.80</td>\n",
       "    </tr>\n",
       "  </tbody>\n",
       "</table>\n",
       "</div>"
      ],
      "text/plain": [
       "   Model     MAE  MAPE    RMSE\n",
       "0  Lasso 1061.20  0.15 1593.80"
      ]
     },
     "execution_count": 83,
     "metadata": {},
     "output_type": "execute_result"
    }
   ],
   "source": [
    "# model definition\n",
    "model_lrr = lm.Lasso()\n",
    "\n",
    "# fit\n",
    "model_lrr.fit(x_train, y_train)\n",
    "\n",
    "# predictions\n",
    "yhat_lrr = model_lr.predict(x_test)\n",
    "\n",
    "# perfomance\n",
    "result_lrr = ml_error('Lasso', y_test, yhat_lrr)\n",
    "result_lrr"
   ]
  },
  {
   "cell_type": "code",
   "execution_count": 84,
   "id": "minimal-index",
   "metadata": {
    "ExecuteTime": {
     "end_time": "2021-08-08T03:46:24.816226Z",
     "start_time": "2021-08-08T03:46:16.578376Z"
    },
    "hidden": true
   },
   "outputs": [
    {
     "data": {
      "text/html": [
       "<div>\n",
       "<style scoped>\n",
       "    .dataframe tbody tr th:only-of-type {\n",
       "        vertical-align: middle;\n",
       "    }\n",
       "\n",
       "    .dataframe tbody tr th {\n",
       "        vertical-align: top;\n",
       "    }\n",
       "\n",
       "    .dataframe thead th {\n",
       "        text-align: right;\n",
       "    }\n",
       "</style>\n",
       "<table border=\"1\" class=\"dataframe\">\n",
       "  <thead>\n",
       "    <tr style=\"text-align: right;\">\n",
       "      <th></th>\n",
       "      <th>Model Name</th>\n",
       "      <th>MAE CV</th>\n",
       "      <th>MAPE CV</th>\n",
       "      <th>RMSE CV</th>\n",
       "    </tr>\n",
       "  </thead>\n",
       "  <tbody>\n",
       "    <tr>\n",
       "      <th>0</th>\n",
       "      <td>LinearRegression - Lasso</td>\n",
       "      <td>1125.955 +/- 135.626</td>\n",
       "      <td>0.151 +/- 0.002</td>\n",
       "      <td>1630.421 +/- 190.095</td>\n",
       "    </tr>\n",
       "  </tbody>\n",
       "</table>\n",
       "</div>"
      ],
      "text/plain": [
       "                 Model Name                MAE CV          MAPE CV               RMSE CV\n",
       "0  LinearRegression - Lasso  1125.955 +/- 135.626  0.151 +/- 0.002  1630.421 +/- 190.095"
      ]
     },
     "execution_count": 84,
     "metadata": {},
     "output_type": "execute_result"
    }
   ],
   "source": [
    "result_lrr_cv = cross_validation(x_training, 5, 'LinearRegression - Lasso', model_lrr)\n",
    "result_lrr_cv"
   ]
  },
  {
   "cell_type": "markdown",
   "id": "modular-granny",
   "metadata": {
    "heading_collapsed": true,
    "hidden": true
   },
   "source": [
    "## 7.4. Random Forest Regressor"
   ]
  },
  {
   "cell_type": "code",
   "execution_count": 85,
   "id": "international-legislation",
   "metadata": {
    "ExecuteTime": {
     "end_time": "2021-08-08T03:55:33.342081Z",
     "start_time": "2021-08-08T03:46:38.236376Z"
    },
    "hidden": true
   },
   "outputs": [
    {
     "data": {
      "text/html": [
       "<div>\n",
       "<style scoped>\n",
       "    .dataframe tbody tr th:only-of-type {\n",
       "        vertical-align: middle;\n",
       "    }\n",
       "\n",
       "    .dataframe tbody tr th {\n",
       "        vertical-align: top;\n",
       "    }\n",
       "\n",
       "    .dataframe thead th {\n",
       "        text-align: right;\n",
       "    }\n",
       "</style>\n",
       "<table border=\"1\" class=\"dataframe\">\n",
       "  <thead>\n",
       "    <tr style=\"text-align: right;\">\n",
       "      <th></th>\n",
       "      <th>Model</th>\n",
       "      <th>MAE</th>\n",
       "      <th>MAPE</th>\n",
       "      <th>RMSE</th>\n",
       "    </tr>\n",
       "  </thead>\n",
       "  <tbody>\n",
       "    <tr>\n",
       "      <th>0</th>\n",
       "      <td>RandomForestRegressor</td>\n",
       "      <td>402.44</td>\n",
       "      <td>0.06</td>\n",
       "      <td>604.15</td>\n",
       "    </tr>\n",
       "  </tbody>\n",
       "</table>\n",
       "</div>"
      ],
      "text/plain": [
       "                   Model    MAE  MAPE   RMSE\n",
       "0  RandomForestRegressor 402.44  0.06 604.15"
      ]
     },
     "execution_count": 85,
     "metadata": {},
     "output_type": "execute_result"
    }
   ],
   "source": [
    "# model definition\n",
    "model_rf = en.RandomForestRegressor()\n",
    "\n",
    "# fit\n",
    "model_rf.fit(x_train, y_train)\n",
    "\n",
    "# predictions\n",
    "yhat_rf = model_rf.predict(x_test)\n",
    "\n",
    "# perfomance\n",
    "result_rf = ml_error('RandomForestRegressor', y_test, yhat_rf)\n",
    "result_rf"
   ]
  },
  {
   "cell_type": "code",
   "execution_count": 86,
   "id": "arctic-cycle",
   "metadata": {
    "ExecuteTime": {
     "end_time": "2021-08-08T04:28:20.813428Z",
     "start_time": "2021-08-08T03:55:33.470145Z"
    },
    "hidden": true
   },
   "outputs": [
    {
     "data": {
      "text/html": [
       "<div>\n",
       "<style scoped>\n",
       "    .dataframe tbody tr th:only-of-type {\n",
       "        vertical-align: middle;\n",
       "    }\n",
       "\n",
       "    .dataframe tbody tr th {\n",
       "        vertical-align: top;\n",
       "    }\n",
       "\n",
       "    .dataframe thead th {\n",
       "        text-align: right;\n",
       "    }\n",
       "</style>\n",
       "<table border=\"1\" class=\"dataframe\">\n",
       "  <thead>\n",
       "    <tr style=\"text-align: right;\">\n",
       "      <th></th>\n",
       "      <th>Model Name</th>\n",
       "      <th>MAE CV</th>\n",
       "      <th>MAPE CV</th>\n",
       "      <th>RMSE CV</th>\n",
       "    </tr>\n",
       "  </thead>\n",
       "  <tbody>\n",
       "    <tr>\n",
       "      <th>0</th>\n",
       "      <td>RandomForestRegressor</td>\n",
       "      <td>413.208 +/- 101.305</td>\n",
       "      <td>0.056 +/- 0.008</td>\n",
       "      <td>588.692 +/- 149.036</td>\n",
       "    </tr>\n",
       "  </tbody>\n",
       "</table>\n",
       "</div>"
      ],
      "text/plain": [
       "              Model Name               MAE CV          MAPE CV              RMSE CV\n",
       "0  RandomForestRegressor  413.208 +/- 101.305  0.056 +/- 0.008  588.692 +/- 149.036"
      ]
     },
     "execution_count": 86,
     "metadata": {},
     "output_type": "execute_result"
    }
   ],
   "source": [
    "result_rf_cv = cross_validation(x_training, 5, 'RandomForestRegressor', model_rf)\n",
    "result_rf_cv"
   ]
  },
  {
   "cell_type": "markdown",
   "id": "proprietary-ballot",
   "metadata": {
    "heading_collapsed": true,
    "hidden": true
   },
   "source": [
    "## 7.5. XGBoost Regressor"
   ]
  },
  {
   "cell_type": "code",
   "execution_count": 87,
   "id": "hollywood-earth",
   "metadata": {
    "ExecuteTime": {
     "end_time": "2021-08-08T04:29:19.958767Z",
     "start_time": "2021-08-08T04:28:20.849059Z"
    },
    "hidden": true
   },
   "outputs": [
    {
     "data": {
      "text/html": [
       "<div>\n",
       "<style scoped>\n",
       "    .dataframe tbody tr th:only-of-type {\n",
       "        vertical-align: middle;\n",
       "    }\n",
       "\n",
       "    .dataframe tbody tr th {\n",
       "        vertical-align: top;\n",
       "    }\n",
       "\n",
       "    .dataframe thead th {\n",
       "        text-align: right;\n",
       "    }\n",
       "</style>\n",
       "<table border=\"1\" class=\"dataframe\">\n",
       "  <thead>\n",
       "    <tr style=\"text-align: right;\">\n",
       "      <th></th>\n",
       "      <th>Model</th>\n",
       "      <th>MAE</th>\n",
       "      <th>MAPE</th>\n",
       "      <th>RMSE</th>\n",
       "    </tr>\n",
       "  </thead>\n",
       "  <tbody>\n",
       "    <tr>\n",
       "      <th>0</th>\n",
       "      <td>XGBRegressor</td>\n",
       "      <td>810.46</td>\n",
       "      <td>0.11</td>\n",
       "      <td>1149.77</td>\n",
       "    </tr>\n",
       "  </tbody>\n",
       "</table>\n",
       "</div>"
      ],
      "text/plain": [
       "          Model    MAE  MAPE    RMSE\n",
       "0  XGBRegressor 810.46  0.11 1149.77"
      ]
     },
     "execution_count": 87,
     "metadata": {},
     "output_type": "execute_result"
    }
   ],
   "source": [
    "# model definition\n",
    "model_xgb = XGBRegressor(objective='reg:squarederror')\n",
    "\n",
    "# fit\n",
    "model_xgb.fit(x_train, y_train)\n",
    "\n",
    "# predictions\n",
    "yhat_xgb = model_xgb.predict(x_test)\n",
    "\n",
    "# perfomance\n",
    "result_xgb = ml_error('XGBRegressor', y_test, yhat_xgb)\n",
    "result_xgb"
   ]
  },
  {
   "cell_type": "code",
   "execution_count": 88,
   "id": "second-oracle",
   "metadata": {
    "ExecuteTime": {
     "end_time": "2021-08-08T04:33:09.949309Z",
     "start_time": "2021-08-08T04:29:19.966032Z"
    },
    "hidden": true
   },
   "outputs": [
    {
     "data": {
      "text/html": [
       "<div>\n",
       "<style scoped>\n",
       "    .dataframe tbody tr th:only-of-type {\n",
       "        vertical-align: middle;\n",
       "    }\n",
       "\n",
       "    .dataframe tbody tr th {\n",
       "        vertical-align: top;\n",
       "    }\n",
       "\n",
       "    .dataframe thead th {\n",
       "        text-align: right;\n",
       "    }\n",
       "</style>\n",
       "<table border=\"1\" class=\"dataframe\">\n",
       "  <thead>\n",
       "    <tr style=\"text-align: right;\">\n",
       "      <th></th>\n",
       "      <th>Model Name</th>\n",
       "      <th>MAE CV</th>\n",
       "      <th>MAPE CV</th>\n",
       "      <th>RMSE CV</th>\n",
       "    </tr>\n",
       "  </thead>\n",
       "  <tbody>\n",
       "    <tr>\n",
       "      <th>0</th>\n",
       "      <td>XGBRegressor</td>\n",
       "      <td>834.097 +/- 97.824</td>\n",
       "      <td>0.114 +/- 0.002</td>\n",
       "      <td>1150.859 +/- 142.999</td>\n",
       "    </tr>\n",
       "  </tbody>\n",
       "</table>\n",
       "</div>"
      ],
      "text/plain": [
       "     Model Name              MAE CV          MAPE CV               RMSE CV\n",
       "0  XGBRegressor  834.097 +/- 97.824  0.114 +/- 0.002  1150.859 +/- 142.999"
      ]
     },
     "execution_count": 88,
     "metadata": {},
     "output_type": "execute_result"
    }
   ],
   "source": [
    "result_xgb_cv = cross_validation(x_training, 5, 'XGBRegressor', model_xgb)\n",
    "result_xgb_cv"
   ]
  },
  {
   "cell_type": "markdown",
   "id": "exposed-bouquet",
   "metadata": {
    "heading_collapsed": true,
    "hidden": true
   },
   "source": [
    "## 7.6. Result"
   ]
  },
  {
   "cell_type": "code",
   "execution_count": 89,
   "id": "consecutive-thirty",
   "metadata": {
    "ExecuteTime": {
     "end_time": "2021-08-08T04:33:10.030926Z",
     "start_time": "2021-08-08T04:33:09.955083Z"
    },
    "hidden": true
   },
   "outputs": [
    {
     "data": {
      "text/html": [
       "<div>\n",
       "<style scoped>\n",
       "    .dataframe tbody tr th:only-of-type {\n",
       "        vertical-align: middle;\n",
       "    }\n",
       "\n",
       "    .dataframe tbody tr th {\n",
       "        vertical-align: top;\n",
       "    }\n",
       "\n",
       "    .dataframe thead th {\n",
       "        text-align: right;\n",
       "    }\n",
       "</style>\n",
       "<table border=\"1\" class=\"dataframe\">\n",
       "  <thead>\n",
       "    <tr style=\"text-align: right;\">\n",
       "      <th></th>\n",
       "      <th>Model</th>\n",
       "      <th>MAE</th>\n",
       "      <th>MAPE</th>\n",
       "      <th>RMSE</th>\n",
       "    </tr>\n",
       "  </thead>\n",
       "  <tbody>\n",
       "    <tr>\n",
       "      <th>0</th>\n",
       "      <td>DummyRegressor</td>\n",
       "      <td>2242.17</td>\n",
       "      <td>0.38</td>\n",
       "      <td>3044.29</td>\n",
       "    </tr>\n",
       "    <tr>\n",
       "      <th>0</th>\n",
       "      <td>LinearRegression</td>\n",
       "      <td>1059.07</td>\n",
       "      <td>0.15</td>\n",
       "      <td>1589.63</td>\n",
       "    </tr>\n",
       "    <tr>\n",
       "      <th>0</th>\n",
       "      <td>Lasso</td>\n",
       "      <td>1061.20</td>\n",
       "      <td>0.15</td>\n",
       "      <td>1593.80</td>\n",
       "    </tr>\n",
       "    <tr>\n",
       "      <th>0</th>\n",
       "      <td>RandomForestRegressor</td>\n",
       "      <td>402.44</td>\n",
       "      <td>0.06</td>\n",
       "      <td>604.15</td>\n",
       "    </tr>\n",
       "    <tr>\n",
       "      <th>0</th>\n",
       "      <td>XGBRegressor</td>\n",
       "      <td>810.46</td>\n",
       "      <td>0.11</td>\n",
       "      <td>1149.77</td>\n",
       "    </tr>\n",
       "  </tbody>\n",
       "</table>\n",
       "</div>"
      ],
      "text/plain": [
       "                   Model     MAE  MAPE    RMSE\n",
       "0         DummyRegressor 2242.17  0.38 3044.29\n",
       "0       LinearRegression 1059.07  0.15 1589.63\n",
       "0                  Lasso 1061.20  0.15 1593.80\n",
       "0  RandomForestRegressor  402.44  0.06  604.15\n",
       "0           XGBRegressor  810.46  0.11 1149.77"
      ]
     },
     "execution_count": 89,
     "metadata": {},
     "output_type": "execute_result"
    }
   ],
   "source": [
    "result = pd.concat([result_baseline, result_lr, result_lrr, result_rf, result_xgb])\n",
    "result"
   ]
  },
  {
   "cell_type": "code",
   "execution_count": 90,
   "id": "hungry-signature",
   "metadata": {
    "ExecuteTime": {
     "end_time": "2021-08-08T04:33:10.059290Z",
     "start_time": "2021-08-08T04:33:10.036839Z"
    },
    "hidden": true
   },
   "outputs": [
    {
     "data": {
      "text/html": [
       "<div>\n",
       "<style scoped>\n",
       "    .dataframe tbody tr th:only-of-type {\n",
       "        vertical-align: middle;\n",
       "    }\n",
       "\n",
       "    .dataframe tbody tr th {\n",
       "        vertical-align: top;\n",
       "    }\n",
       "\n",
       "    .dataframe thead th {\n",
       "        text-align: right;\n",
       "    }\n",
       "</style>\n",
       "<table border=\"1\" class=\"dataframe\">\n",
       "  <thead>\n",
       "    <tr style=\"text-align: right;\">\n",
       "      <th></th>\n",
       "      <th>Model Name</th>\n",
       "      <th>MAE CV</th>\n",
       "      <th>MAPE CV</th>\n",
       "      <th>RMSE CV</th>\n",
       "    </tr>\n",
       "  </thead>\n",
       "  <tbody>\n",
       "    <tr>\n",
       "      <th>0</th>\n",
       "      <td>DummyRegressor</td>\n",
       "      <td>2363.341 +/- 312.548</td>\n",
       "      <td>0.366 +/- 0.014</td>\n",
       "      <td>3245.574 +/- 486.305</td>\n",
       "    </tr>\n",
       "    <tr>\n",
       "      <th>0</th>\n",
       "      <td>LinearRegression</td>\n",
       "      <td>1126.02 +/- 135.47</td>\n",
       "      <td>0.151 +/- 0.002</td>\n",
       "      <td>1630.238 +/- 189.947</td>\n",
       "    </tr>\n",
       "    <tr>\n",
       "      <th>0</th>\n",
       "      <td>LinearRegression - Lasso</td>\n",
       "      <td>1125.955 +/- 135.626</td>\n",
       "      <td>0.151 +/- 0.002</td>\n",
       "      <td>1630.421 +/- 190.095</td>\n",
       "    </tr>\n",
       "    <tr>\n",
       "      <th>0</th>\n",
       "      <td>RandomForestRegressor</td>\n",
       "      <td>413.208 +/- 101.305</td>\n",
       "      <td>0.056 +/- 0.008</td>\n",
       "      <td>588.692 +/- 149.036</td>\n",
       "    </tr>\n",
       "    <tr>\n",
       "      <th>0</th>\n",
       "      <td>XGBRegressor</td>\n",
       "      <td>834.097 +/- 97.824</td>\n",
       "      <td>0.114 +/- 0.002</td>\n",
       "      <td>1150.859 +/- 142.999</td>\n",
       "    </tr>\n",
       "  </tbody>\n",
       "</table>\n",
       "</div>"
      ],
      "text/plain": [
       "                 Model Name                MAE CV          MAPE CV               RMSE CV\n",
       "0            DummyRegressor  2363.341 +/- 312.548  0.366 +/- 0.014  3245.574 +/- 486.305\n",
       "0          LinearRegression    1126.02 +/- 135.47  0.151 +/- 0.002  1630.238 +/- 189.947\n",
       "0  LinearRegression - Lasso  1125.955 +/- 135.626  0.151 +/- 0.002  1630.421 +/- 190.095\n",
       "0     RandomForestRegressor   413.208 +/- 101.305  0.056 +/- 0.008   588.692 +/- 149.036\n",
       "0              XGBRegressor    834.097 +/- 97.824  0.114 +/- 0.002  1150.859 +/- 142.999"
      ]
     },
     "execution_count": 90,
     "metadata": {},
     "output_type": "execute_result"
    }
   ],
   "source": [
    "result_cv = pd.concat([result_baseline_cv, result_lr_cv, result_lrr_cv, result_rf_cv, result_xgb_cv])\n",
    "result_cv"
   ]
  },
  {
   "cell_type": "markdown",
   "id": "delayed-jersey",
   "metadata": {},
   "source": [
    "# 8.0. Hyperparameter Fine Tuning"
   ]
  },
  {
   "cell_type": "markdown",
   "id": "opponent-necklace",
   "metadata": {},
   "source": [
    "# 9.0. Model Perfomance"
   ]
  },
  {
   "cell_type": "markdown",
   "id": "favorite-conservation",
   "metadata": {},
   "source": [
    "# 10.0. Deploy to Product"
   ]
  }
 ],
 "metadata": {
  "kernelspec": {
   "display_name": "Python 3",
   "language": "python",
   "name": "python3"
  },
  "language_info": {
   "codemirror_mode": {
    "name": "ipython",
    "version": 3
   },
   "file_extension": ".py",
   "mimetype": "text/x-python",
   "name": "python",
   "nbconvert_exporter": "python",
   "pygments_lexer": "ipython3",
   "version": "3.8.0"
  }
 },
 "nbformat": 4,
 "nbformat_minor": 5
}
